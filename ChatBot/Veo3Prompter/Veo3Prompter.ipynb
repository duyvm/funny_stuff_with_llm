{
  "nbformat": 4,
  "nbformat_minor": 0,
  "metadata": {
    "colab": {
      "provenance": [],
      "authorship_tag": "ABX9TyPz0uEbIrcQDyP4iHyQCK4Y",
      "include_colab_link": true
    },
    "kernelspec": {
      "name": "python3",
      "display_name": "Python 3"
    },
    "language_info": {
      "name": "python"
    }
  },
  "cells": [
    {
      "cell_type": "markdown",
      "metadata": {
        "id": "view-in-github",
        "colab_type": "text"
      },
      "source": [
        "<a href=\"https://colab.research.google.com/github/duyvm/funny_stuff_with_llm/blob/main/ChatBot/Veo3Prompter/Veo3Prompter.ipynb\" target=\"_parent\"><img src=\"https://colab.research.google.com/assets/colab-badge.svg\" alt=\"Open In Colab\"/></a>"
      ]
    },
    {
      "cell_type": "markdown",
      "source": [
        "### Install required packages\n",
        "\n",
        "- langchain,langgraph, openai for building llm application\n",
        "- langsmith (optional) is used for monitor your AI application (access the dashboard at your project https://smith.langchain.com)\n",
        "- gradio for UI interaction\n",
        "- openai for working with openai model"
      ],
      "metadata": {
        "id": "hrhG3bXbK8pe"
      }
    },
    {
      "cell_type": "code",
      "source": [
        "!pip install -qU langchain-core langgraph>0.2.27 openai gradio\n",
        "!pip install -qU \"langchain[openai]\""
      ],
      "metadata": {
        "id": "fH-JnJ4rK_ms"
      },
      "execution_count": 1,
      "outputs": []
    },
    {
      "cell_type": "code",
      "source": [
        "from google.colab import output\n",
        "output.enable_custom_widget_manager()"
      ],
      "metadata": {
        "id": "Qs8cF3Yk3ZNc"
      },
      "execution_count": 2,
      "outputs": []
    },
    {
      "cell_type": "markdown",
      "source": [
        "### Set up environment variables\n",
        "\n",
        "- Setup variable for langsmith (optional) and openai"
      ],
      "metadata": {
        "id": "Zidn2Y6rLE11"
      }
    },
    {
      "cell_type": "code",
      "source": [
        "import getpass\n",
        "import os\n",
        "\n",
        "# Langsmiths\n",
        "os.environ[\"LANGSMITH_TRACING\"] = \"true\"\n",
        "os.environ[\"LANGSMITH_ENDPOINT\"] = \"https://api.smith.langchain.com\"\n",
        "os.environ[\"LANGSMITH_PROJECT\"] = \"veo3-promter\"\n",
        "os.environ[\"LANGSMITH_API_KEY\"] = getpass.getpass('Please enter your langsmith key: ')\n",
        "\n",
        "# OpenAI\n",
        "os.environ[\"OPENAI_API_KEY\"] = getpass.getpass('Please enter your openai key: ')"
      ],
      "metadata": {
        "colab": {
          "base_uri": "https://localhost:8080/"
        },
        "id": "JSTGeFRy9IKQ",
        "outputId": "592ef976-3794-4e1a-ec96-2c379b462c92"
      },
      "execution_count": 4,
      "outputs": [
        {
          "name": "stdout",
          "output_type": "stream",
          "text": [
            "Please enter your langsmith key: ··········\n",
            "Please enter your openai key: ··········\n"
          ]
        }
      ]
    },
    {
      "cell_type": "markdown",
      "source": [
        "### Chatbot\n",
        "\n",
        "Basic functionalities\n",
        "- Help people create a better prompt for generating Veo3 video\n",
        "- Interactive UI on Jupyter Notebook\n",
        "\n",
        "\n",
        "Detail chatbot capabilities:\n",
        "- Guide user to create prompt for Veo3\n",
        "- Refine the prompt\n",
        "- Ask user for:\n",
        "  - Video's length\n",
        "  - Video's topic\n",
        "  - Outline the whole video topic then breakdown to multiple section (8s limit in Veo3)\n",
        "  - Outline the content each section\n",
        "  - Give advice for next section\n",
        "  - Complete information: background, main character, style, action, voice\n",
        "\n",
        "Further improvements\n",
        "- Agentic approach\n",
        "- Full-fledged web app using library like Streamlit (FE), FastAPI or Flask (API server)"
      ],
      "metadata": {
        "id": "VYv6zUSwQ3-l"
      }
    },
    {
      "cell_type": "code",
      "source": [
        "from typing import Sequence\n",
        "from typing_extensions import Annotated, TypedDict\n",
        "\n",
        "from langchain_openai import ChatOpenAI\n",
        "from langchain.chat_models import init_chat_model\n",
        "from langchain_core.messages import HumanMessage, AIMessage, BaseMessage, SystemMessage, trim_messages\n",
        "from langchain_core.prompts import ChatPromptTemplate, MessagesPlaceholder\n",
        "from langgraph.checkpoint.memory import MemorySaver\n",
        "from langgraph.graph import START, MessagesState, StateGraph\n",
        "from langgraph.graph.message import add_messages"
      ],
      "metadata": {
        "id": "UqZvoTZGMlN1"
      },
      "execution_count": 5,
      "outputs": []
    },
    {
      "cell_type": "code",
      "source": [
        "SYSTEM_ROLE = \"\"\"\n",
        "## Main role\n",
        "You are an expert **Prompt Engineer** specializing in crafting, refining, and completing **cinematic prompts** for **Veo3**, an AI video generation platform.\n",
        "Your primary objective is to transform user-provided ideas into **highly coherent**, **visually compelling**, and **stylistically consistent prompts** in **{language}** for each video scene.\n",
        "When refining or generating a prompt, ensure the following key elements are included:\n",
        "1. **Setting (Context)**\n",
        " - Location: Where does the scene take place?\n",
        " - Time: Time of day, season, or historical period.\n",
        " - Environment: Atmosphere, lighting, and background elements.\n",
        "2. **Visual Style**\n",
        " - Choose a distinct style: cinematic, animated, comic-style, surreal, historical, etc.\n",
        "3. **Characters**\n",
        " - Who appears in the scene? Specify number, age, gender, clothing, and role.\n",
        "4. **Dialogue (if applicable)**\n",
        " - Provide exact lines for each character, indicating:\n",
        "   - **Who** speaks\n",
        "   - **What** they say\n",
        "   - **In what language**\n",
        "   - **When** (e.g., *At 0s–1s, he says \"Open the door.\"*)\n",
        "5. **Purpose of the Video**\n",
        " - Clarify the goal: storytelling, advertising, inspiration, etc.\n",
        "6. **Consistency & Cinematic Direction**\n",
        " - Maintain **visual and stylistic consistency** across all scenes.\n",
        " - Ensure clarity in **camera direction, mood**, and transitions.\n",
        "\n",
        "If needed, generate **keyframe prompts*8 (static images that represent each scene) compatible with Veo3, Midjourney, Sora, or other tools.\n",
        "\n",
        "## Workflow:\n",
        "1. **Collect Inputs**:\n",
        " - Ask the user for items 1–6 above.\n",
        " - Ask for the **total desired video length**.\n",
        "2. **Segment Video**:\n",
        " - Based on the total length and **Veo3’s 8-second limit per clip**, break the video into shorter segments.\n",
        "3. **Outline the Structure**:\n",
        " - Create a clear **outline of each short video segment** (scene-by-scene).\n",
        " - Share the outline with the user and request confirmation or adjustments.\n",
        "4. **Generate Prompts**:\n",
        " - Once confirmed, create complete, structured prompts for each video segment based on all provided information.\n",
        "\n",
        "### Important:\n",
        " - Ensure **setting, style, and characters remain consistent** across all video segments.\n",
        " - Direct camera movement and emotional tone clearly in the prompt.\n",
        " - The more detailed the prompt, the more unified and high-quality the output.\n",
        "\"\"\""
      ],
      "metadata": {
        "id": "sejAGM1AkZKe"
      },
      "execution_count": 6,
      "outputs": []
    },
    {
      "cell_type": "code",
      "source": [
        "prompt_template = ChatPromptTemplate.from_messages(\n",
        "    [\n",
        "        (\n",
        "            \"system\",\n",
        "            SYSTEM_ROLE,\n",
        "        ),\n",
        "        MessagesPlaceholder(variable_name=\"messages\"),\n",
        "    ]\n",
        ")\n",
        "\n",
        "class State(TypedDict):\n",
        "            messages: Annotated[Sequence[BaseMessage], add_messages]\n",
        "            language: str\n",
        "\n",
        "class Veo3Prompter():\n",
        "\n",
        "    def __init__(self, max_token: int = 100, model_name: str = \"gpt-4o-mini\", model_provider: str = \"openai\", use_trimmer: bool = False):\n",
        "        self.max_token = max_token\n",
        "        self.use_trimmer = use_trimmer\n",
        "        self.__init_model__(model_name, model_provider)\n",
        "        self.__init_trimmer__()\n",
        "        self.__init_app__()\n",
        "\n",
        "    def __init_app__(self):\n",
        "        workflow = StateGraph(state_schema=State)\n",
        "\n",
        "        # Define the (single) node in the graph\n",
        "        workflow.add_edge(START, \"model\")\n",
        "        workflow.add_node(\"model\", self.call_model)\n",
        "\n",
        "        memory = MemorySaver()\n",
        "        self.app = workflow.compile(checkpointer=memory)\n",
        "\n",
        "    def __init_model__(self, model_name: str = \"gpt-4o-mini\", model_provider: str = \"openai\"):\n",
        "        if model_provider.lower() == \"openai\":\n",
        "            self.model = init_chat_model(model_name, model_provider=model_provider)\n",
        "        else:\n",
        "            raise Exception(\"Unsupported model provider\")\n",
        "\n",
        "    def __init_trimmer__(self):\n",
        "        if self.use_trimmer:\n",
        "            self.trimmer = trim_messages(\n",
        "                    max_tokens=self.max_token,\n",
        "                    strategy=\"last\",\n",
        "                    token_counter=self.model,\n",
        "                    include_system=True,\n",
        "                    allow_partial=False,\n",
        "                    start_on=\"human\"\n",
        "                )\n",
        "\n",
        "    async def call_model(self, state: State):\n",
        "        if self.use_trimmer:\n",
        "            messages = self.trimmer.invoke(state[\"messages\"])\n",
        "        else:\n",
        "            messages = state[\"messages\"]\n",
        "\n",
        "        prompt = await prompt_template.ainvoke(\n",
        "            {\"messages\": messages, \"language\": state[\"language\"]}\n",
        "        )\n",
        "\n",
        "        response = await self.model.ainvoke(prompt)\n",
        "\n",
        "        return {\"messages\": [response]}\n",
        "\n",
        "    async def ainvoke(self, inputs: dict, config: dict):\n",
        "        return await self.app.ainvoke(inputs, config)"
      ],
      "metadata": {
        "id": "4WIT9A_NOjgJ"
      },
      "execution_count": 7,
      "outputs": []
    },
    {
      "cell_type": "markdown",
      "source": [
        "### Chatbot UI by gradio"
      ],
      "metadata": {
        "id": "vEaZD13XtFmW"
      }
    },
    {
      "cell_type": "code",
      "source": [
        "LANGUAGE = \"English\"\n",
        "\n",
        "# config - thread_id is for when our chatbot having multiple conservations with many users\n",
        "# each thread_id process different conservation\n",
        "config = {\"configurable\": {\"thread_id\": \"abc678\"}}\n",
        "\n",
        "chatbot = Veo3Prompter()"
      ],
      "metadata": {
        "id": "RyivNL6M7QZz"
      },
      "execution_count": 8,
      "outputs": []
    },
    {
      "cell_type": "code",
      "source": [
        "import gradio as gr\n",
        "import asyncio\n",
        "\n",
        "LANGUAGE = \"English\"\n",
        "\n",
        "# config - thread_id is for when our chatbot having multiple conservations with many users\n",
        "# each thread_id process different conservation\n",
        "config = {\"configurable\": {\"thread_id\": \"abc678\"}}\n",
        "\n",
        "chatbot = Veo3Prompter()\n",
        "\n",
        "# Function handle user input\n",
        "async def chatbot_fn(user_text, history):\n",
        "    input_messages = [HumanMessage(user_text)]\n",
        "    output = await chatbot.ainvoke(\n",
        "        {\"messages\": input_messages, \"language\": LANGUAGE},\n",
        "        config,\n",
        "    )\n",
        "    return output[\"messages\"][-1].content\n",
        "\n"
      ],
      "metadata": {
        "id": "esRHrz-VfrDz"
      },
      "execution_count": 13,
      "outputs": []
    },
    {
      "cell_type": "code",
      "source": [
        "# Start the interface (it will print a link you can click)\n",
        "chat_ui = gr.ChatInterface(\n",
        "    fn=chatbot_fn,\n",
        "    title=\"Veo3 Prompter\",\n",
        "    description=\"Type a message and press Enter → the bot will reply.\",\n",
        "    examples=[\"Hello!\", \"What can you do?\", \"Tell me a joke.\"],\n",
        "    theme=\"soft\"\n",
        ")\n",
        "\n",
        "chat_ui.launch(share=True, debug=True)"
      ],
      "metadata": {
        "colab": {
          "base_uri": "https://localhost:8080/",
          "height": 684
        },
        "id": "dEXtI_md-QyC",
        "outputId": "7ab4abc3-1a9b-4971-c117-6b9151557ef0"
      },
      "execution_count": 14,
      "outputs": [
        {
          "metadata": {
            "tags": null
          },
          "name": "stderr",
          "output_type": "stream",
          "text": [
            "/usr/local/lib/python3.11/dist-packages/gradio/chat_interface.py:339: UserWarning: The 'tuples' format for chatbot messages is deprecated and will be removed in a future version of Gradio. Please set type='messages' instead, which uses openai-style 'role' and 'content' keys.\n",
            "  self.chatbot = Chatbot(\n"
          ]
        },
        {
          "metadata": {
            "tags": null
          },
          "name": "stdout",
          "output_type": "stream",
          "text": [
            "Colab notebook detected. This cell will run indefinitely so that you can see errors and logs. To turn off, set debug=False in launch().\n",
            "* Running on public URL: https://170b92ace6044b4843.gradio.live\n",
            "\n",
            "This share link expires in 1 week. For free permanent hosting and GPU upgrades, run `gradio deploy` from the terminal in the working directory to deploy to Hugging Face Spaces (https://huggingface.co/spaces)\n"
          ]
        },
        {
          "data": {
            "text/html": [
              "<div><iframe src=\"https://170b92ace6044b4843.gradio.live\" width=\"100%\" height=\"500\" allow=\"autoplay; camera; microphone; clipboard-read; clipboard-write;\" frameborder=\"0\" allowfullscreen></iframe></div>"
            ],
            "text/plain": [
              "<IPython.core.display.HTML object>"
            ]
          },
          "metadata": {},
          "output_type": "display_data"
        },
        {
          "output_type": "stream",
          "name": "stdout",
          "text": [
            "Keyboard interruption in main thread... closing server.\n",
            "Killing tunnel 127.0.0.1:7861 <> https://170b92ace6044b4843.gradio.live\n"
          ]
        },
        {
          "output_type": "execute_result",
          "data": {
            "text/plain": []
          },
          "metadata": {},
          "execution_count": 14
        }
      ]
    },
    {
      "cell_type": "code",
      "source": [],
      "metadata": {
        "id": "0FdDObvgzuM7"
      },
      "execution_count": null,
      "outputs": []
    }
  ]
}