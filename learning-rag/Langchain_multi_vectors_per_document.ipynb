{
  "nbformat": 4,
  "nbformat_minor": 0,
  "metadata": {
    "colab": {
      "provenance": [],
      "toc_visible": true,
      "authorship_tag": "ABX9TyMyDNIVE0uiObNloKZ0/5tj",
      "include_colab_link": true
    },
    "kernelspec": {
      "name": "python3",
      "display_name": "Python 3"
    },
    "language_info": {
      "name": "python"
    }
  },
  "cells": [
    {
      "cell_type": "markdown",
      "metadata": {
        "id": "view-in-github",
        "colab_type": "text"
      },
      "source": [
        "<a href=\"https://colab.research.google.com/github/duyvm/funny_stuff_with_llm/blob/main/learning-rag/Langchain_multi_vectors_per_document.ipynb\" target=\"_parent\"><img src=\"https://colab.research.google.com/assets/colab-badge.svg\" alt=\"Open In Colab\"/></a>"
      ]
    },
    {
      "cell_type": "markdown",
      "source": [
        "# Option 1: Mount Google Drive for external libraries\n",
        "\n",
        "        from google.colab import drive\n",
        "        import sys\n",
        "        drive.mount('/content/gdrive')\n",
        "        sys.path.append('/content/gdrive/My Drive/External Libraries')"
      ],
      "metadata": {
        "id": "D62HrNJ8BXdF"
      }
    },
    {
      "cell_type": "markdown",
      "source": [
        "# Option 2: Install libraries"
      ],
      "metadata": {
        "id": "271EdgMcjZrh"
      }
    },
    {
      "cell_type": "code",
      "execution_count": null,
      "metadata": {
        "id": "6ym6NvY0p5ek"
      },
      "outputs": [],
      "source": [
        "%pip install --quiet --upgrade langchain-chroma langchain[openai] langchain langchain-community langgraph langchain-core langchain-text-splitters> /dev/null"
      ]
    },
    {
      "cell_type": "code",
      "source": [
        "from google.colab import userdata\n",
        "import os\n",
        "\n",
        "os.environ[\"LANGSMITH_TRACING\"] = \"true\"\n",
        "os.environ[\"LANGSMITH_ENDPOINT\"] = \"https://api.smith.langchain.com\"\n",
        "os.environ[\"LANGSMITH_PROJECT\"] = f\"langchain-learning-rag\"\n",
        "os.environ[\"LANGSMITH_API_KEY\"] = userdata.get('LANGSMITH_API_KEY')\n",
        "os.environ[\"OPENAI_API_KEY\"] = userdata.get('OPENAI_API_KEY')"
      ],
      "metadata": {
        "id": "xmtEhKrEACgf"
      },
      "execution_count": null,
      "outputs": []
    },
    {
      "cell_type": "markdown",
      "source": [
        "# Overview\n",
        "\n",
        "Guide: [How to retrieve using multiple vectors per document](https://python.langchain.com/docs/how_to/multi_vector/)\n",
        "\n",
        "These techniques are to improve the accuracy of RAG by enhancing the accuracy of embedded documents retrieval. To achieve the high accuracy, they carefully creates multi-vectors for smaller chunks of original document. When the search hits one of those chunks, instead of return the chunk, we return the larger document.\n",
        "\n",
        "**Detail methods**\n",
        "\n",
        "1. Smaller chunk: Split document into smaller chunks and embed these chunks (same as basic RAG). Each chunk has a metadata that link to where original document is stored. Then the system will retrieve the original document and feed it to the llm for answer systhesis.\n",
        "\n",
        "2. Summary: create a summary for document and embed it along (or instead of) the document. Also link it with original document by metadata\n",
        "\n",
        "3. Hypothetical questions: create hypothetical questions that each document would be approriate to answer, embed these questions with (or instead of) original documents. This is also a method called manually adding embeddings, giving more control over the retrieval process by explicitly adding questions or queries that lead to the documents."
      ],
      "metadata": {
        "id": "j60Ksa78BWHs"
      }
    },
    {
      "cell_type": "markdown",
      "source": [
        "# Load data\n",
        "\n",
        "1. Download sample document files from github\n",
        "\n",
        "2. Load original documents into `langchain_core.documents.base.Document` type\n",
        "\n",
        "3. Observe the `Documents` data (content, metadata...)\n",
        "\n",
        "4. Split them into smaller `Documents` with specific length (no overlap)"
      ],
      "metadata": {
        "id": "F7MiQWGzCE4W"
      }
    },
    {
      "cell_type": "code",
      "source": [
        "import requests\n",
        "from os import getcwd\n",
        "\n",
        "# load files from github\n",
        "file_names = [\n",
        "    \"paul_graham_essay.txt\",\n",
        "    \"state_of_the_union.txt\",\n",
        "]\n",
        "\n",
        "raw_base_url = \"https://raw.githubusercontent.com/duyvm/funny_stuff_with_llm/refs/heads/main/learning-rag/docs/{file_name}\"\n",
        "\n",
        "for filename in file_names:\n",
        "    url = raw_base_url.format(file_name=filename)\n",
        "    r = requests.get(url)\n",
        "\n",
        "    f = open(filename,'wb')\n",
        "    f.write(r.content)\n"
      ],
      "metadata": {
        "id": "Bj-sm_ZjdvXI"
      },
      "execution_count": null,
      "outputs": []
    },
    {
      "cell_type": "code",
      "source": [
        "from langchain.storage import InMemoryByteStore\n",
        "from langchain_text_splitters import RecursiveCharacterTextSplitter\n",
        "from langchain_chroma import Chroma\n",
        "from langchain_openai import OpenAIEmbeddings\n",
        "from langchain_community.document_loaders import TextLoader\n",
        "\n",
        "loaders = [\n",
        "    TextLoader(\"paul_graham_essay.txt\"),\n",
        "    TextLoader(\"state_of_the_union.txt\")\n",
        "]\n",
        "\n",
        "docs = []\n",
        "for loader in loaders:\n",
        "    docs.extend(loader.load())\n",
        "\n",
        "# inspect the document type\n",
        "print(docs[0].__dict__.keys())\n",
        "print(docs[0].type)\n",
        "print(docs[0].metadata)\n",
        "print(len(docs[0].page_content))\n",
        "print(docs[0].page_content[:1000])"
      ],
      "metadata": {
        "colab": {
          "base_uri": "https://localhost:8080/"
        },
        "id": "IQp8zoPMwQkx",
        "outputId": "68e606fc-0cc6-4d31-8728-090b1269e672"
      },
      "execution_count": null,
      "outputs": [
        {
          "output_type": "stream",
          "name": "stdout",
          "text": [
            "dict_keys(['id', 'metadata', 'page_content', 'type'])\n",
            "Document\n",
            "{'source': 'paul_graham_essay.txt'}\n",
            "75012\n",
            "What I Worked On\n",
            "\n",
            "February 2021\n",
            "\n",
            "Before college the two main things I worked on, outside of school, were writing and programming. I didn't write essays. I wrote what beginning writers were supposed to write then, and probably still are: short stories. My stories were awful. They had hardly any plot, just characters with strong feelings, which I imagined made them deep.\n",
            "\n",
            "The first programs I tried writing were on the IBM 1401 that our school district used for what was then called \"data processing.\" This was in 9th grade, so I was 13 or 14. The school district's 1401 happened to be in the basement of our junior high school, and my friend Rich Draves and I got permission to use it. It was like a mini Bond villain's lair down there, with all these alien-looking machines — CPU, disk drives, printer, card reader — sitting up on a raised floor under bright fluorescent lights.\n",
            "\n",
            "The language we used was an early version of Fortran. You had to type programs on punch cards, then stack them in the\n"
          ]
        }
      ]
    },
    {
      "cell_type": "code",
      "source": [
        "text_splitter = RecursiveCharacterTextSplitter(chunk_size=10000)\n",
        "\n",
        "docs = text_splitter.split_documents(docs)\n",
        "\n",
        "# inspect splitted document\n",
        "print(len(docs))\n",
        "print(docs[0].__dict__.keys())\n",
        "print(docs[0].type)\n",
        "print(docs[0].metadata)\n",
        "print(len(docs[0].page_content))\n",
        "print(docs[0].page_content[:1000])"
      ],
      "metadata": {
        "colab": {
          "base_uri": "https://localhost:8080/"
        },
        "id": "yw6PKWu9DS3E",
        "outputId": "17ca3ad3-13b0-414f-9e1c-1445da982b8c"
      },
      "execution_count": null,
      "outputs": [
        {
          "output_type": "stream",
          "name": "stdout",
          "text": [
            "12\n",
            "dict_keys(['id', 'metadata', 'page_content', 'type'])\n",
            "Document\n",
            "{'source': 'paul_graham_essay.txt'}\n",
            "9728\n",
            "What I Worked On\n",
            "\n",
            "February 2021\n",
            "\n",
            "Before college the two main things I worked on, outside of school, were writing and programming. I didn't write essays. I wrote what beginning writers were supposed to write then, and probably still are: short stories. My stories were awful. They had hardly any plot, just characters with strong feelings, which I imagined made them deep.\n",
            "\n",
            "The first programs I tried writing were on the IBM 1401 that our school district used for what was then called \"data processing.\" This was in 9th grade, so I was 13 or 14. The school district's 1401 happened to be in the basement of our junior high school, and my friend Rich Draves and I got permission to use it. It was like a mini Bond villain's lair down there, with all these alien-looking machines — CPU, disk drives, printer, card reader — sitting up on a raised floor under bright fluorescent lights.\n",
            "\n",
            "The language we used was an early version of Fortran. You had to type programs on punch cards, then stack them in the\n"
          ]
        }
      ]
    },
    {
      "cell_type": "code",
      "source": [
        "# check overlapping\n",
        "print(docs[0].page_content[-100:])\n",
        "print(docs[1].page_content[:100])"
      ],
      "metadata": {
        "colab": {
          "base_uri": "https://localhost:8080/"
        },
        "id": "ExY7ibze_4qE",
        "outputId": "4e5f918e-9370-49cd-fade-b045a6cfc5e9"
      },
      "execution_count": null,
      "outputs": [
        {
          "output_type": "stream",
          "name": "stdout",
          "text": [
            "tist you could be truly independent. You wouldn't have a boss, or even need to get research funding.\n",
            "I had always liked looking at paintings. Could I make them? I had no idea. I'd never imagined it was\n"
          ]
        }
      ]
    },
    {
      "cell_type": "code",
      "source": [
        "# index the chunk Chroma\n",
        "vector_store = Chroma(collection_name=\"full_documents\", embedding_function=OpenAIEmbeddings())"
      ],
      "metadata": {
        "colab": {
          "base_uri": "https://localhost:8080/"
        },
        "id": "eb1XO8OeuBes",
        "outputId": "d70d8a91-977e-41f7-b9eb-f664cb3a2dc1"
      },
      "execution_count": null,
      "outputs": [
        {
          "output_type": "stream",
          "name": "stderr",
          "text": [
            "ERROR:chromadb.telemetry.product.posthog:Failed to send telemetry event ClientStartEvent: capture() takes 1 positional argument but 3 were given\n",
            "ERROR:chromadb.telemetry.product.posthog:Failed to send telemetry event ClientCreateCollectionEvent: capture() takes 1 positional argument but 3 were given\n"
          ]
        }
      ]
    },
    {
      "cell_type": "markdown",
      "source": [
        "# Smaller chunks\n",
        "\n",
        "- Smaller chunks for embedding but larger chunks for information context\n",
        "\n",
        "- Allow capturing semantic as closely as possible but as much context as possible for answer synthesis\n",
        "\n",
        "- There are two type of documents:\n",
        "\n",
        "  - The parent documents: hold the full context\n",
        "\n",
        "  - The child documents: smaller chunks splitted from the parent document\n",
        "\n",
        "- Use two `vector_store` to seperate two types of document above and link them with an identifier"
      ],
      "metadata": {
        "id": "0v5GTX94ubIV"
      }
    },
    {
      "cell_type": "code",
      "source": [
        "import uuid\n",
        "from langchain.retrievers.multi_vector import MultiVectorRetriever\n",
        "\n",
        "ID_KEY_NAME = \"doc_id\"\n",
        "store = InMemoryByteStore()\n",
        "\n",
        "multi_vector_retriever = MultiVectorRetriever(\n",
        "    vectorstore=vector_store,\n",
        "    byte_store=store,\n",
        "    id_key=ID_KEY_NAME,\n",
        ")\n",
        "\n",
        "# create id for docs\n",
        "docs_id = [str(uuid.uuid4()) for _ in docs]"
      ],
      "metadata": {
        "id": "ODab8Rm96Ozt"
      },
      "execution_count": null,
      "outputs": []
    },
    {
      "cell_type": "code",
      "source": [
        "docs_id"
      ],
      "metadata": {
        "id": "e9bdhfz9NlBB",
        "colab": {
          "base_uri": "https://localhost:8080/"
        },
        "outputId": "2c371581-20a1-48a3-ea13-41d8c8b0b739"
      },
      "execution_count": null,
      "outputs": [
        {
          "output_type": "execute_result",
          "data": {
            "text/plain": [
              "['b9f16a93-7f46-4c07-aae4-5cc4692829b2',\n",
              " 'd7194779-5539-492a-871b-6cfb3371585d',\n",
              " 'e46a3316-61dd-445e-96f0-89957c6f65a3',\n",
              " '460b1460-40bd-46c6-ae36-f1bc6e45802e',\n",
              " '8e8a2e2d-6a4b-49e3-9a02-de8e093c1632',\n",
              " '456586cb-d8d4-47c6-ac07-39a34882a601',\n",
              " 'b4781a53-6f3d-4e4b-8690-fde45a12f081',\n",
              " '35181097-87cf-4644-bb3e-659ba92dfcf9',\n",
              " '098563cb-ee50-448f-85ca-0d65d1b6b59b',\n",
              " 'ed0f4c9f-bcdf-45a6-8c31-56ed72427132',\n",
              " '579974fa-240c-469b-beff-08429e17721d',\n",
              " '287123ea-6f70-4866-a74b-be2a76a852c4']"
            ]
          },
          "metadata": {},
          "execution_count": 9
        }
      ]
    },
    {
      "cell_type": "code",
      "source": [
        "# generate child document by splitting parent document\n",
        "# store the identifier in metadata of document\n",
        "child_text_splitter = RecursiveCharacterTextSplitter(chunk_size=400)\n",
        "child_docs = []\n",
        "\n",
        "for doc, doc_id in zip(docs, docs_id):\n",
        "    _child_docs = child_text_splitter.split_documents([doc])\n",
        "    for _child_doc in _child_docs:\n",
        "        _child_doc.metadata[ID_KEY_NAME] = doc_id\n",
        "    child_docs.extend(_child_docs)\n",
        "\n",
        "# inspec 1st and 2nd child docs\n",
        "print(child_docs[0].metadata)\n",
        "print(child_docs[1].metadata)"
      ],
      "metadata": {
        "colab": {
          "base_uri": "https://localhost:8080/"
        },
        "id": "pMpUNJZBwmE2",
        "outputId": "0e5c92b9-605b-4bc9-8167-8f50c992efc5"
      },
      "execution_count": null,
      "outputs": [
        {
          "output_type": "stream",
          "name": "stdout",
          "text": [
            "{'source': 'paul_graham_essay.txt', 'doc_id': 'b9f16a93-7f46-4c07-aae4-5cc4692829b2'}\n",
            "{'source': 'paul_graham_essay.txt', 'doc_id': 'b9f16a93-7f46-4c07-aae4-5cc4692829b2'}\n"
          ]
        }
      ]
    },
    {
      "cell_type": "code",
      "source": [
        "# compare content with parent doc\n",
        "print(\"--- Child docs ---\")\n",
        "print(child_docs[0].page_content[:100])\n",
        "print(child_docs[1].page_content[:100])\n",
        "\n",
        "print(\"--- Parent docs ---\")\n",
        "print(docs[0].page_content[:100])\n",
        "print(docs[0].page_content[400:500])"
      ],
      "metadata": {
        "colab": {
          "base_uri": "https://localhost:8080/"
        },
        "id": "clI7sIFOwmHo",
        "outputId": "6f095e72-8794-4008-f713-e1e76272759e"
      },
      "execution_count": null,
      "outputs": [
        {
          "output_type": "stream",
          "name": "stdout",
          "text": [
            "--- Child docs ---\n",
            "What I Worked On\n",
            "\n",
            "February 2021\n",
            "\n",
            "Before college the two main things I worked on, outside of school, \n",
            "The first programs I tried writing were on the IBM 1401 that our school district used for what was t\n",
            "--- Parent docs ---\n",
            "What I Worked On\n",
            "\n",
            "February 2021\n",
            "\n",
            "Before college the two main things I worked on, outside of school, \n",
            "writing were on the IBM 1401 that our school district used for what was then called \"data processing\n"
          ]
        }
      ]
    },
    {
      "cell_type": "code",
      "source": [
        "# add child documents to vectorstore for embedding\n",
        "# add id and documents to docstore for reference\n",
        "multi_vector_retriever.vectorstore.add_documents(child_docs)\n",
        "multi_vector_retriever.docstore.mset(list(zip(docs_id, docs)))"
      ],
      "metadata": {
        "id": "DGtzUoEjwmKI"
      },
      "execution_count": null,
      "outputs": []
    },
    {
      "cell_type": "code",
      "source": [
        "# test it\n",
        "doc = multi_vector_retriever.vectorstore.similarity_search(\"justice breyer\")[0]\n",
        "print(doc)\n",
        "print(len(doc.page_content)) # checking child or parent"
      ],
      "metadata": {
        "colab": {
          "base_uri": "https://localhost:8080/"
        },
        "id": "VIhkTKIikovl",
        "outputId": "dcd3030f-8216-4453-a5dc-abfd75477737"
      },
      "execution_count": null,
      "outputs": [
        {
          "output_type": "stream",
          "name": "stdout",
          "text": [
            "page_content='Tonight, I’d like to honor someone who has dedicated his life to serve this country: Justice Stephen Breyer—an Army veteran, Constitutional scholar, and retiring Justice of the United States Supreme Court. Justice Breyer, thank you for your service. \n",
            "\n",
            "One of the most serious constitutional responsibilities a President has is nominating someone to serve on the United States Supreme Court.' metadata={'source': 'state_of_the_union.txt', 'doc_id': '579974fa-240c-469b-beff-08429e17721d'}\n",
            "390\n"
          ]
        }
      ]
    },
    {
      "cell_type": "code",
      "source": [
        "# get the parent doc\n",
        "doc = multi_vector_retriever.invoke(\"justice breyer\")[0]\n",
        "\n",
        "print(doc)\n",
        "print(\"-\"*20)\n",
        "print(len(doc.page_content)) # checking child or parent"
      ],
      "metadata": {
        "colab": {
          "base_uri": "https://localhost:8080/"
        },
        "id": "PtufEnyuk_HA",
        "outputId": "8c3ba512-d398-4495-8456-fe9fa244213f"
      },
      "execution_count": null,
      "outputs": [
        {
          "output_type": "stream",
          "name": "stdout",
          "text": [
            "page_content='But in my administration, the watchdogs have been welcomed back. \n",
            "\n",
            "We’re going after the criminals who stole billions in relief money meant for small businesses and millions of Americans.  \n",
            "\n",
            "And tonight, I’m announcing that the Justice Department will name a chief prosecutor for pandemic fraud. \n",
            "\n",
            "By the end of this year, the deficit will be down to less than half what it was before I took office.  \n",
            "\n",
            "The only president ever to cut the deficit by more than one trillion dollars in a single year. \n",
            "\n",
            "Lowering your costs also means demanding more competition. \n",
            "\n",
            "I’m a capitalist, but capitalism without competition isn’t capitalism. \n",
            "\n",
            "It’s exploitation—and it drives up prices. \n",
            "\n",
            "When corporations don’t have to compete, their profits go up, your prices go up, and small businesses and family farmers and ranchers go under. \n",
            "\n",
            "We see it happening with ocean carriers moving goods in and out of America. \n",
            "\n",
            "During the pandemic, these foreign-owned companies raised prices by as much as 1,000% and made record profits. \n",
            "\n",
            "Tonight, I’m announcing a crackdown on these companies overcharging American businesses and consumers. \n",
            "\n",
            "And as Wall Street firms take over more nursing homes, quality in those homes has gone down and costs have gone up.  \n",
            "\n",
            "That ends on my watch. \n",
            "\n",
            "Medicare is going to set higher standards for nursing homes and make sure your loved ones get the care they deserve and expect. \n",
            "\n",
            "We’ll also cut costs and keep the economy going strong by giving workers a fair shot, provide more training and apprenticeships, hire them based on their skills not degrees. \n",
            "\n",
            "Let’s pass the Paycheck Fairness Act and paid leave.  \n",
            "\n",
            "Raise the minimum wage to $15 an hour and extend the Child Tax Credit, so no one has to raise a family in poverty. \n",
            "\n",
            "Let’s increase Pell Grants and increase our historic support of HBCUs, and invest in what Jill—our First Lady who teaches full-time—calls America’s best-kept secret: community colleges. \n",
            "\n",
            "And let’s pass the PRO Act when a majority of workers want to form a union—they shouldn’t be stopped.  \n",
            "\n",
            "When we invest in our workers, when we build the economy from the bottom up and the middle out together, we can do something we haven’t done in a long time: build a better America. \n",
            "\n",
            "For more than two years, COVID-19 has impacted every decision in our lives and the life of the nation. \n",
            "\n",
            "And I know you’re tired, frustrated, and exhausted. \n",
            "\n",
            "But I also know this. \n",
            "\n",
            "Because of the progress we’ve made, because of your resilience and the tools we have, tonight I can say  \n",
            "we are moving forward safely, back to more normal routines.  \n",
            "\n",
            "We’ve reached a new moment in the fight against COVID-19, with severe cases down to a level not seen since last July.  \n",
            "\n",
            "Just a few days ago, the Centers for Disease Control and Prevention—the CDC—issued new mask guidelines. \n",
            "\n",
            "Under these new guidelines, most Americans in most of the country can now be mask free.   \n",
            "\n",
            "And based on the projections, more of the country will reach that point across the next couple of weeks. \n",
            "\n",
            "Thanks to the progress we have made this past year, COVID-19 need no longer control our lives.  \n",
            "\n",
            "I know some are talking about “living with COVID-19”. Tonight – I say that we will never just accept living with COVID-19. \n",
            "\n",
            "We will continue to combat the virus as we do other diseases. And because this is a virus that mutates and spreads, we will stay on guard. \n",
            "\n",
            "Here are four common sense steps as we move forward safely.  \n",
            "\n",
            "First, stay protected with vaccines and treatments. We know how incredibly effective vaccines are. If you’re vaccinated and boosted you have the highest degree of protection. \n",
            "\n",
            "We will never give up on vaccinating more Americans. Now, I know parents with kids under 5 are eager to see a vaccine authorized for their children. \n",
            "\n",
            "The scientists are working hard to get that done and we’ll be ready with plenty of vaccines when they do. \n",
            "\n",
            "We’re also ready with anti-viral treatments. If you get COVID-19, the Pfizer pill reduces your chances of ending up in the hospital by 90%.  \n",
            "\n",
            "We’ve ordered more of these pills than anyone in the world. And Pfizer is working overtime to get us 1 Million pills this month and more than double that next month.  \n",
            "\n",
            "And we’re launching the “Test to Treat” initiative so people can get tested at a pharmacy, and if they’re positive, receive antiviral pills on the spot at no cost.  \n",
            "\n",
            "If you’re immunocompromised or have some other vulnerability, we have treatments and free high-quality masks. \n",
            "\n",
            "We’re leaving no one behind or ignoring anyone’s needs as we move forward. \n",
            "\n",
            "And on testing, we have made hundreds of millions of tests available for you to order for free.   \n",
            "\n",
            "Even if you already ordered free tests tonight, I am announcing that you can order more from covidtests.gov starting next week. \n",
            "\n",
            "Second – we must prepare for new variants. Over the past year, we’ve gotten much better at detecting new variants. \n",
            "\n",
            "If necessary, we’ll be able to deploy new vaccines within 100 days instead of many more months or years.  \n",
            "\n",
            "And, if Congress provides the funds we need, we’ll have new stockpiles of tests, masks, and pills ready if needed. \n",
            "\n",
            "I cannot promise a new variant won’t come. But I can promise you we’ll do everything within our power to be ready if it does.  \n",
            "\n",
            "Third – we can end the shutdown of schools and businesses. We have the tools we need. \n",
            "\n",
            "It’s time for Americans to get back to work and fill our great downtowns again.  People working from home can feel safe to begin to return to the office.   \n",
            "\n",
            "We’re doing that here in the federal government. The vast majority of federal workers will once again work in person. \n",
            "\n",
            "Our schools are open. Let’s keep it that way. Our kids need to be in school. \n",
            "\n",
            "And with 75% of adult Americans fully vaccinated and hospitalizations down by 77%, most Americans can remove their masks, return to work, stay in the classroom, and move forward safely. \n",
            "\n",
            "We achieved this because we provided free vaccines, treatments, tests, and masks. \n",
            "\n",
            "Of course, continuing this costs money. \n",
            "\n",
            "I will soon send Congress a request. \n",
            "\n",
            "The vast majority of Americans have used these tools and may want to again, so I expect Congress to pass it quickly.   \n",
            "\n",
            "Fourth, we will continue vaccinating the world.     \n",
            "\n",
            "We’ve sent 475 Million vaccine doses to 112 countries, more than any other nation. \n",
            "\n",
            "And we won’t stop. \n",
            "\n",
            "We have lost so much to COVID-19. Time with one another. And worst of all, so much loss of life. \n",
            "\n",
            "Let’s use this moment to reset. Let’s stop looking at COVID-19 as a partisan dividing line and see it for what it is: A God-awful disease.  \n",
            "\n",
            "Let’s stop seeing each other as enemies, and start seeing each other for who we really are: Fellow Americans.  \n",
            "\n",
            "We can’t change how divided we’ve been. But we can change how we move forward—on COVID-19 and other issues we must face together. \n",
            "\n",
            "I recently visited the New York City Police Department days after the funerals of Officer Wilbert Mora and his partner, Officer Jason Rivera. \n",
            "\n",
            "They were responding to a 9-1-1 call when a man shot and killed them with a stolen gun. \n",
            "\n",
            "Officer Mora was 27 years old. \n",
            "\n",
            "Officer Rivera was 22. \n",
            "\n",
            "Both Dominican Americans who’d grown up on the same streets they later chose to patrol as police officers. \n",
            "\n",
            "I spoke with their families and told them that we are forever in debt for their sacrifice, and we will carry on their mission to restore the trust and safety every community deserves. \n",
            "\n",
            "I’ve worked on these issues a long time. \n",
            "\n",
            "I know what works: Investing in crime prevention and community police officers who’ll walk the beat, who’ll know the neighborhood, and who can restore trust and safety. \n",
            "\n",
            "So let’s not abandon our streets. Or choose between safety and equal justice. \n",
            "\n",
            "Let’s come together to protect our communities, restore trust, and hold law enforcement accountable. \n",
            "\n",
            "That’s why the Justice Department required body cameras, banned chokeholds, and restricted no-knock warrants for its officers. \n",
            "\n",
            "That’s why the American Rescue Plan provided $350 Billion that cities, states, and counties can use to hire more police and invest in proven strategies like community violence interruption—trusted messengers breaking the cycle of violence and trauma and giving young people hope.  \n",
            "\n",
            "We should all agree: The answer is not to Defund the police. The answer is to FUND the police with the resources and training they need to protect our communities. \n",
            "\n",
            "I ask Democrats and Republicans alike: Pass my budget and keep our neighborhoods safe.  \n",
            "\n",
            "And I will keep doing everything in my power to crack down on gun trafficking and ghost guns you can buy online and make at home—they have no serial numbers and can’t be traced. \n",
            "\n",
            "And I ask Congress to pass proven measures to reduce gun violence. Pass universal background checks. Why should anyone on a terrorist list be able to purchase a weapon? \n",
            "\n",
            "Ban assault weapons and high-capacity magazines. \n",
            "\n",
            "Repeal the liability shield that makes gun manufacturers the only industry in America that can’t be sued. \n",
            "\n",
            "These laws don’t infringe on the Second Amendment. They save lives. \n",
            "\n",
            "The most fundamental right in America is the right to vote – and to have it counted. And it’s under assault. \n",
            "\n",
            "In state after state, new laws have been passed, not only to suppress the vote, but to subvert entire elections. \n",
            "\n",
            "We cannot let this happen. \n",
            "\n",
            "Tonight. I call on the Senate to: Pass the Freedom to Vote Act. Pass the John Lewis Voting Rights Act. And while you’re at it, pass the Disclose Act so Americans can know who is funding our elections. \n",
            "\n",
            "Tonight, I’d like to honor someone who has dedicated his life to serve this country: Justice Stephen Breyer—an Army veteran, Constitutional scholar, and retiring Justice of the United States Supreme Court. Justice Breyer, thank you for your service. \n",
            "\n",
            "One of the most serious constitutional responsibilities a President has is nominating someone to serve on the United States Supreme Court.' metadata={'source': 'state_of_the_union.txt'}\n",
            "--------------------\n",
            "9875\n"
          ]
        }
      ]
    },
    {
      "cell_type": "markdown",
      "source": [
        "# Summary\n",
        "\n",
        "- Provide summary for each chunk, may lead to better accuracy and retrieval"
      ],
      "metadata": {
        "id": "ibBAfMkSn3-R"
      }
    },
    {
      "cell_type": "code",
      "source": [
        "from langchain.chat_models import init_chat_model\n",
        "\n",
        "llm = init_chat_model(\"openai:gpt-4o-mini\")"
      ],
      "metadata": {
        "id": "ZzJUAO9hnRTx"
      },
      "execution_count": null,
      "outputs": []
    },
    {
      "cell_type": "code",
      "source": [
        "from langchain_core.documents import Document\n",
        "from langchain_core.output_parsers import StrOutputParser\n",
        "from langchain_core.prompts import ChatPromptTemplate\n",
        "\n",
        "chain = (\n",
        "    {\"doc\": lambda x: x.page_content}\n",
        "    | ChatPromptTemplate.from_template(\"Summarize the following document:\\n{doc}\")\n",
        "    | llm\n",
        "    | StrOutputParser()\n",
        ")"
      ],
      "metadata": {
        "id": "cSt3vqpjodUs"
      },
      "execution_count": null,
      "outputs": []
    },
    {
      "cell_type": "code",
      "source": [
        "summaries = chain.batch(docs, {\"max_concurrency\": 5})"
      ],
      "metadata": {
        "id": "HAiSf-h7o5R7"
      },
      "execution_count": null,
      "outputs": []
    },
    {
      "cell_type": "code",
      "source": [
        "# inspect the sumaries\n",
        "print(len(summaries))\n",
        "print(summaries[0])"
      ],
      "metadata": {
        "colab": {
          "base_uri": "https://localhost:8080/"
        },
        "id": "jVNfklzEpBxs",
        "outputId": "69f8af34-92bd-446d-f8f4-83dc525cd04c"
      },
      "execution_count": null,
      "outputs": [
        {
          "output_type": "stream",
          "name": "stdout",
          "text": [
            "12\n",
            "The document outlines the author's journey through early writing and programming experiences from childhood to graduate school. It begins with their initial attempts at writing short stories and programming on an IBM 1401 in junior high. The author describes a turning point with the advent of microcomputers, which made programming more accessible and interactive. After acquiring a TRS-80 and developing simple programs, the author initially planned to study philosophy in college, believing it to explore ultimate truths. However, upon discovering the limitations of philosophy courses, they switched to studying artificial intelligence (AI), influenced by works of fiction and documentaries that fueled their passion for intelligent systems.\n",
            "\n",
            "In graduate school, the author came to a realization that contemporary AI, particularly natural language processing, was fundamentally flawed and did not equate to genuine understanding. This led to a shift in focus toward Lisp programming, culminating in writing a book on the subject, \"On Lisp.\"\n",
            "\n",
            "Throughout the narrative, the author expresses disillusionment with systems work, highlighting its transient nature and lack of lasting impact. A key moment of clarity came during a visit to an art museum, where they recognized the permanence and independence of artistic creation compared to software development. In the end, the author contemplates pursuing a path in art, drawn by the idea of creating lasting works without the constraints of academic or corporate structures.\n"
          ]
        }
      ]
    },
    {
      "cell_type": "code",
      "source": [
        "import uuid\n",
        "from langchain.retrievers.multi_vector import MultiVectorRetriever\n",
        "\n",
        "# create storage, same as above\n",
        "ID_KEY_NAME = \"doc_id\"\n",
        "vector_store = Chroma(collection_name=\"summaries\", embedding_function=OpenAIEmbeddings())\n",
        "store = InMemoryByteStore()\n",
        "\n",
        "multi_vector_retriever = MultiVectorRetriever(\n",
        "    vectorstore=vector_store,\n",
        "    byte_store=store,\n",
        "    id_key=ID_KEY_NAME,\n",
        ")\n",
        "\n",
        "doc_ids = [str(uuid.uuid4()) for _ in summaries]\n",
        "\n",
        "summary_docs = [\n",
        "    Document(page_content=summary, metadata={ID_KEY_NAME: doc_ids[i]})\n",
        "    for i, summary in enumerate(summaries)\n",
        "]\n",
        "\n",
        "multi_vector_retriever.vectorstore.add_documents(summary_docs)\n",
        "multi_vector_retriever.docstore.mset(list(zip(doc_ids, docs)))"
      ],
      "metadata": {
        "colab": {
          "base_uri": "https://localhost:8080/"
        },
        "id": "Bz24FKvFLiei",
        "outputId": "cf82aa49-7354-4a6b-97c7-14b53bd677e7"
      },
      "execution_count": null,
      "outputs": [
        {
          "output_type": "stream",
          "name": "stderr",
          "text": [
            "ERROR:chromadb.telemetry.product.posthog:Failed to send telemetry event ClientStartEvent: capture() takes 1 positional argument but 3 were given\n",
            "ERROR:chromadb.telemetry.product.posthog:Failed to send telemetry event ClientCreateCollectionEvent: capture() takes 1 positional argument but 3 were given\n"
          ]
        }
      ]
    },
    {
      "cell_type": "code",
      "source": [
        "sub_doc = multi_vector_retriever.vectorstore.similarity_search(\"justice breyer\")[0]\n",
        "print(sub_doc.page_content)"
      ],
      "metadata": {
        "colab": {
          "base_uri": "https://localhost:8080/"
        },
        "id": "3RHNZgz9LwNI",
        "outputId": "2f835a3c-91c5-4cc6-8c2f-9e31df075119"
      },
      "execution_count": null,
      "outputs": [
        {
          "output_type": "stream",
          "name": "stderr",
          "text": [
            "ERROR:chromadb.telemetry.product.posthog:Failed to send telemetry event CollectionQueryEvent: capture() takes 1 positional argument but 3 were given\n"
          ]
        },
        {
          "output_type": "stream",
          "name": "stdout",
          "text": [
            "In a recent address, the President emphasized the significant constitutional duty of nominating a Supreme Court Justice, having nominated Judge Ketanji Brown Jackson, a highly regarded legal mind, to continue Justice Breyer’s legacy. The President highlighted the importance of securing the border and reforming the immigration system, advocating for measures that use technology to combat drug smuggling, expedite asylum cases, and provide pathways to citizenship for vulnerable groups. He called for a comprehensive approach to immigration reform that has broad support across various sectors.\n",
            "\n",
            "The President also focused on advancing liberty and justice by protecting women's rights and access to healthcare, particularly in light of ongoing challenges to Roe v. Wade. He pledged support for LGBTQ+ rights through the proposed bipartisan Equality Act. Emphasizing the need for unity, he presented a \"Unity Agenda\" consisting of four key issues: combating the opioid epidemic, addressing mental health challenges, supporting veterans, especially concerning toxic exposure, and advancing cancer research and treatment.\n",
            "\n",
            "He expressed optimism about America's capacity to overcome current challenges, stating that the state of the union is strong due to the resilience of the American people. The President concluded by calling for collective action to build a better future and protect democracy, reinforcing the idea that the nation’s strength comes from its unity and the potential for progress.\n"
          ]
        }
      ]
    },
    {
      "cell_type": "code",
      "source": [
        "retrieved_doc = multi_vector_retriever.invoke(\"justice breyer\")[0]\n",
        "print(len(retrieved_doc.page_content))\n",
        "print(\"\\n\")\n",
        "print(retrieved_doc.page_content)"
      ],
      "metadata": {
        "colab": {
          "base_uri": "https://localhost:8080/"
        },
        "id": "n2Uj9HPYNNlX",
        "outputId": "c6a6e878-aabc-4be7-9e82-e3cd29e53827"
      },
      "execution_count": null,
      "outputs": [
        {
          "output_type": "stream",
          "name": "stdout",
          "text": [
            "9194\n",
            "\n",
            "\n",
            "One of the most serious constitutional responsibilities a President has is nominating someone to serve on the United States Supreme Court. \n",
            "\n",
            "And I did that 4 days ago, when I nominated Circuit Court of Appeals Judge Ketanji Brown Jackson. One of our nation’s top legal minds, who will continue Justice Breyer’s legacy of excellence. \n",
            "\n",
            "A former top litigator in private practice. A former federal public defender. And from a family of public school educators and police officers. A consensus builder. Since she’s been nominated, she’s received a broad range of support—from the Fraternal Order of Police to former judges appointed by Democrats and Republicans. \n",
            "\n",
            "And if we are to advance liberty and justice, we need to secure the Border and fix the immigration system. \n",
            "\n",
            "We can do both. At our border, we’ve installed new technology like cutting-edge scanners to better detect drug smuggling.  \n",
            "\n",
            "We’ve set up joint patrols with Mexico and Guatemala to catch more human traffickers.  \n",
            "\n",
            "We’re putting in place dedicated immigration judges so families fleeing persecution and violence can have their cases heard faster. \n",
            "\n",
            "We’re securing commitments and supporting partners in South and Central America to host more refugees and secure their own borders. \n",
            "\n",
            "We can do all this while keeping lit the torch of liberty that has led generations of immigrants to this land—my forefathers and so many of yours. \n",
            "\n",
            "Provide a pathway to citizenship for Dreamers, those on temporary status, farm workers, and essential workers. \n",
            "\n",
            "Revise our laws so businesses have the workers they need and families don’t wait decades to reunite. \n",
            "\n",
            "It’s not only the right thing to do—it’s the economically smart thing to do. \n",
            "\n",
            "That’s why immigration reform is supported by everyone from labor unions to religious leaders to the U.S. Chamber of Commerce. \n",
            "\n",
            "Let’s get it done once and for all. \n",
            "\n",
            "Advancing liberty and justice also requires protecting the rights of women. \n",
            "\n",
            "The constitutional right affirmed in Roe v. Wade—standing precedent for half a century—is under attack as never before. \n",
            "\n",
            "If we want to go forward—not backward—we must protect access to health care. Preserve a woman’s right to choose. And let’s continue to advance maternal health care in America. \n",
            "\n",
            "And for our LGBTQ+ Americans, let’s finally get the bipartisan Equality Act to my desk. The onslaught of state laws targeting transgender Americans and their families is wrong. \n",
            "\n",
            "As I said last year, especially to our younger transgender Americans, I will always have your back as your President, so you can be yourself and reach your God-given potential. \n",
            "\n",
            "While it often appears that we never agree, that isn’t true. I signed 80 bipartisan bills into law last year. From preventing government shutdowns to protecting Asian-Americans from still-too-common hate crimes to reforming military justice. \n",
            "\n",
            "And soon, we’ll strengthen the Violence Against Women Act that I first wrote three decades ago. It is important for us to show the nation that we can come together and do big things. \n",
            "\n",
            "So tonight I’m offering a Unity Agenda for the Nation. Four big things we can do together.  \n",
            "\n",
            "First, beat the opioid epidemic. \n",
            "\n",
            "There is so much we can do. Increase funding for prevention, treatment, harm reduction, and recovery.  \n",
            "\n",
            "Get rid of outdated rules that stop doctors from prescribing treatments. And stop the flow of illicit drugs by working with state and local law enforcement to go after traffickers. \n",
            "\n",
            "If you’re suffering from addiction, know you are not alone. I believe in recovery, and I celebrate the 23 million Americans in recovery. \n",
            "\n",
            "Second, let’s take on mental health. Especially among our children, whose lives and education have been turned upside down.  \n",
            "\n",
            "The American Rescue Plan gave schools money to hire teachers and help students make up for lost learning.  \n",
            "\n",
            "I urge every parent to make sure your school does just that. And we can all play a part—sign up to be a tutor or a mentor. \n",
            "\n",
            "Children were also struggling before the pandemic. Bullying, violence, trauma, and the harms of social media. \n",
            "\n",
            "As Frances Haugen, who is here with us tonight, has shown, we must hold social media platforms accountable for the national experiment they’re conducting on our children for profit. \n",
            "\n",
            "It’s time to strengthen privacy protections, ban targeted advertising to children, demand tech companies stop collecting personal data on our children. \n",
            "\n",
            "And let’s get all Americans the mental health services they need. More people they can turn to for help, and full parity between physical and mental health care. \n",
            "\n",
            "Third, support our veterans. \n",
            "\n",
            "Veterans are the best of us. \n",
            "\n",
            "I’ve always believed that we have a sacred obligation to equip all those we send to war and care for them and their families when they come home. \n",
            "\n",
            "My administration is providing assistance with job training and housing, and now helping lower-income veterans get VA care debt-free.  \n",
            "\n",
            "Our troops in Iraq and Afghanistan faced many dangers. \n",
            "\n",
            "One was stationed at bases and breathing in toxic smoke from “burn pits” that incinerated wastes of war—medical and hazard material, jet fuel, and more. \n",
            "\n",
            "When they came home, many of the world’s fittest and best trained warriors were never the same. \n",
            "\n",
            "Headaches. Numbness. Dizziness. \n",
            "\n",
            "A cancer that would put them in a flag-draped coffin. \n",
            "\n",
            "I know. \n",
            "\n",
            "One of those soldiers was my son Major Beau Biden. \n",
            "\n",
            "We don’t know for sure if a burn pit was the cause of his brain cancer, or the diseases of so many of our troops. \n",
            "\n",
            "But I’m committed to finding out everything we can. \n",
            "\n",
            "Committed to military families like Danielle Robinson from Ohio. \n",
            "\n",
            "The widow of Sergeant First Class Heath Robinson.  \n",
            "\n",
            "He was born a soldier. Army National Guard. Combat medic in Kosovo and Iraq. \n",
            "\n",
            "Stationed near Baghdad, just yards from burn pits the size of football fields. \n",
            "\n",
            "Heath’s widow Danielle is here with us tonight. They loved going to Ohio State football games. He loved building Legos with their daughter. \n",
            "\n",
            "But cancer from prolonged exposure to burn pits ravaged Heath’s lungs and body. \n",
            "\n",
            "Danielle says Heath was a fighter to the very end. \n",
            "\n",
            "He didn’t know how to stop fighting, and neither did she. \n",
            "\n",
            "Through her pain she found purpose to demand we do better. \n",
            "\n",
            "Tonight, Danielle—we are. \n",
            "\n",
            "The VA is pioneering new ways of linking toxic exposures to diseases, already helping more veterans get benefits. \n",
            "\n",
            "And tonight, I’m announcing we’re expanding eligibility to veterans suffering from nine respiratory cancers. \n",
            "\n",
            "I’m also calling on Congress: pass a law to make sure veterans devastated by toxic exposures in Iraq and Afghanistan finally get the benefits and comprehensive health care they deserve. \n",
            "\n",
            "And fourth, let’s end cancer as we know it. \n",
            "\n",
            "This is personal to me and Jill, to Kamala, and to so many of you. \n",
            "\n",
            "Cancer is the #2 cause of death in America–second only to heart disease. \n",
            "\n",
            "Last month, I announced our plan to supercharge  \n",
            "the Cancer Moonshot that President Obama asked me to lead six years ago. \n",
            "\n",
            "Our goal is to cut the cancer death rate by at least 50% over the next 25 years, turn more cancers from death sentences into treatable diseases.  \n",
            "\n",
            "More support for patients and families. \n",
            "\n",
            "To get there, I call on Congress to fund ARPA-H, the Advanced Research Projects Agency for Health. \n",
            "\n",
            "It’s based on DARPA—the Defense Department project that led to the Internet, GPS, and so much more.  \n",
            "\n",
            "ARPA-H will have a singular purpose—to drive breakthroughs in cancer, Alzheimer’s, diabetes, and more. \n",
            "\n",
            "A unity agenda for the nation. \n",
            "\n",
            "We can do this. \n",
            "\n",
            "My fellow Americans—tonight , we have gathered in a sacred space—the citadel of our democracy. \n",
            "\n",
            "In this Capitol, generation after generation, Americans have debated great questions amid great strife, and have done great things. \n",
            "\n",
            "We have fought for freedom, expanded liberty, defeated totalitarianism and terror. \n",
            "\n",
            "And built the strongest, freest, and most prosperous nation the world has ever known. \n",
            "\n",
            "Now is the hour. \n",
            "\n",
            "Our moment of responsibility. \n",
            "\n",
            "Our test of resolve and conscience, of history itself. \n",
            "\n",
            "It is in this moment that our character is formed. Our purpose is found. Our future is forged. \n",
            "\n",
            "Well I know this nation.  \n",
            "\n",
            "We will meet the test. \n",
            "\n",
            "To protect freedom and liberty, to expand fairness and opportunity. \n",
            "\n",
            "We will save democracy. \n",
            "\n",
            "As hard as these times have been, I am more optimistic about America today than I have been my whole life. \n",
            "\n",
            "Because I see the future that is within our grasp. \n",
            "\n",
            "Because I know there is simply nothing beyond our capacity. \n",
            "\n",
            "We are the only nation on Earth that has always turned every crisis we have faced into an opportunity. \n",
            "\n",
            "The only nation that can be defined by a single word: possibilities. \n",
            "\n",
            "So on this night, in our 245th year as a nation, I have come to report on the State of the Union. \n",
            "\n",
            "And my report is this: the State of the Union is strong—because you, the American people, are strong. \n",
            "\n",
            "We are stronger today than we were a year ago. \n",
            "\n",
            "And we will be stronger a year from now than we are today. \n",
            "\n",
            "Now is our moment to meet and overcome the challenges of our time. \n",
            "\n",
            "And we will, as one people. \n",
            "\n",
            "One America. \n",
            "\n",
            "The United States of America. \n",
            "\n",
            "May God bless you all. May God protect our troops.\n"
          ]
        }
      ]
    },
    {
      "cell_type": "markdown",
      "source": [
        "# Hypothetical Queries\n",
        "\n",
        "- Use llm to generate list of hypothetical questions that could be used to ask of the target document\n",
        "\n",
        "- These hypothetical queries might bear semantic similarity close to the queries will be asked in RAG\n",
        "\n",
        "- These hypothetical queries can be embedded and associated with asked document to improve retrieval"
      ],
      "metadata": {
        "id": "XJEtTgW_NhuP"
      }
    },
    {
      "cell_type": "code",
      "source": [
        "from typing import List\n",
        "from pydantic import BaseModel, Field\n",
        "from langchain_openai import ChatOpenAI\n",
        "\n",
        "class HypotheticalQuestions(BaseModel):\n",
        "    \"\"\"Generate hypothetical questions.\"\"\"\n",
        "    questions: List[str] = Field(..., description=\"List of hypothetical questions\")\n",
        "\n",
        "chain = (\n",
        "    {\"doc\": lambda x: x.page_content}\n",
        "    | ChatPromptTemplate.from_template(\"Generate a list of exaclty 3 hypothetical questions that the below document can be used to answer:\\n\\n{doc}\") # adjust number of questions\n",
        "    | ChatOpenAI(max_retries=0, model=\"gpt-4o-mini\").with_structured_output(HypotheticalQuestions)\n",
        "    | (lambda x: x.questions)\n",
        ")"
      ],
      "metadata": {
        "id": "bBW9W6mENc-8"
      },
      "execution_count": null,
      "outputs": []
    },
    {
      "cell_type": "code",
      "source": [
        "# generate questions for first doc\n",
        "chain.invoke(docs[0])"
      ],
      "metadata": {
        "colab": {
          "base_uri": "https://localhost:8080/"
        },
        "id": "o2_gAroPPZYQ",
        "outputId": "6ae77ff0-7a9d-4e2b-a3de-672945813e6d"
      },
      "execution_count": null,
      "outputs": [
        {
          "output_type": "execute_result",
          "data": {
            "text/plain": [
              "['If you had the opportunity to take a different path in your college studies, how might a focus on computer programming have changed your career trajectory?',\n",
              " 'What do you think would have happened to the development of AI if you had not realized its limitations during graduate school?',\n",
              " 'How might your experience with the IBM 1401 or the TRS-80 influence your attitude towards modern programming languages and their ease of use?']"
            ]
          },
          "metadata": {},
          "execution_count": 23
        }
      ]
    },
    {
      "cell_type": "code",
      "source": [
        "# generate all questions and embed them\n",
        "hypothetical_questions = chain.batch(docs, {\"max_concurrency\": 5})\n",
        "\n",
        "vector_store = Chroma(collection_name=\"hypothetical_questions\", embedding_function=OpenAIEmbeddings())\n",
        "\n",
        "multi_vector_retriever = MultiVectorRetriever(\n",
        "    vectorstore=vector_store,\n",
        "     byte_store=InMemoryByteStore(),\n",
        "    id_key=ID_KEY_NAME,\n",
        ")\n",
        "\n",
        "doc_ids = [str(uuid.uuid4()) for _ in docs]"
      ],
      "metadata": {
        "colab": {
          "base_uri": "https://localhost:8080/"
        },
        "id": "rj4C7rvJPb1W",
        "outputId": "ebf1e62d-f19b-42f0-d820-f1b7f97153d7"
      },
      "execution_count": null,
      "outputs": [
        {
          "output_type": "stream",
          "name": "stderr",
          "text": [
            "ERROR:chromadb.telemetry.product.posthog:Failed to send telemetry event ClientStartEvent: capture() takes 1 positional argument but 3 were given\n",
            "ERROR:chromadb.telemetry.product.posthog:Failed to send telemetry event ClientCreateCollectionEvent: capture() takes 1 positional argument but 3 were given\n"
          ]
        }
      ]
    },
    {
      "cell_type": "code",
      "source": [
        "# inspect the batch of questions\n",
        "print(len(hypothetical_questions))\n",
        "print(len(hypothetical_questions[0]))\n",
        "print(hypothetical_questions[0])"
      ],
      "metadata": {
        "colab": {
          "base_uri": "https://localhost:8080/"
        },
        "id": "F2F7H-AnQLl-",
        "outputId": "69330469-faa3-43da-bcc8-78b8f0dd8705"
      },
      "execution_count": null,
      "outputs": [
        {
          "output_type": "stream",
          "name": "stdout",
          "text": [
            "12\n",
            "3\n",
            "['If you had decided to continue pursuing a career in philosophy, how do you think your views on AI and technology would have been different?', 'What impact do you think the early experience with the IBM 1401 had on your later decision to focus on programming and artificial intelligence?', 'How might your career path have changed if you had been accepted into one of the other graduate schools you applied to, such as MIT or Yale?']\n"
          ]
        }
      ]
    },
    {
      "cell_type": "code",
      "source": [
        "question_docs = []\n",
        "\n",
        "for i, question_list in enumerate(hypothetical_questions):\n",
        "    question_docs.extend([\n",
        "        Document(page_content=question, metadata={ID_KEY_NAME: doc_ids[i]})\n",
        "        for question in question_list\n",
        "    ])\n",
        "\n",
        "multi_vector_retriever.vectorstore.add_documents(question_docs)\n",
        "multi_vector_retriever.docstore.mset(list(zip(doc_ids, docs)))"
      ],
      "metadata": {
        "id": "2Tk6wf87QO-A"
      },
      "execution_count": null,
      "outputs": []
    },
    {
      "cell_type": "code",
      "source": [
        "# testing\n",
        "sub_docs = multi_vector_retriever.vectorstore.similarity_search(\"Y Combinator instead of Sam Altman\")\n",
        "\n",
        "for _doc in sub_docs:\n",
        "    print(_doc.page_content)\n",
        "    print(\"-\"*20)"
      ],
      "metadata": {
        "colab": {
          "base_uri": "https://localhost:8080/"
        },
        "id": "cIkZI1uxQknL",
        "outputId": "5dd7b2b9-1753-45d4-e2f8-341ebd2f916d"
      },
      "execution_count": null,
      "outputs": [
        {
          "output_type": "stream",
          "name": "stdout",
          "text": [
            "How could Robert Morris's career have been different if he had decided to take over Y Combinator instead of Sam Altman?\n",
            "--------------------\n",
            "What would have happened if the founders of Y Combinator had decided to follow the traditional venture capital model instead of creating their own investment firm?\n",
            "--------------------\n",
            "What might have happened had Rtm not given advice regarding Y Combinator?\n",
            "--------------------\n",
            "What if Paul Graham had chosen to pursue a different passion instead of painting after stepping away from Y Combinator?\n",
            "--------------------\n"
          ]
        }
      ]
    },
    {
      "cell_type": "code",
      "source": [
        "retrieved_docs = multi_vector_retriever.invoke(\"justice breyer\")\n",
        "len(retrieved_docs[0].page_content)"
      ],
      "metadata": {
        "colab": {
          "base_uri": "https://localhost:8080/"
        },
        "id": "_fIdFfZCQnq1",
        "outputId": "5c3107e4-4480-4258-c68e-5f63d1d194e7"
      },
      "execution_count": null,
      "outputs": [
        {
          "output_type": "execute_result",
          "data": {
            "text/plain": [
              "9194"
            ]
          },
          "metadata": {},
          "execution_count": 32
        }
      ]
    },
    {
      "cell_type": "code",
      "source": [],
      "metadata": {
        "id": "sle8p_boQ9ih"
      },
      "execution_count": null,
      "outputs": []
    },
    {
      "cell_type": "markdown",
      "source": [
        "# Parent Document Retriever\n",
        "\n",
        "- Extended class of `MultiVectorRetriever`\n",
        "\n",
        "- Special crafted for handling parent-child documents retrieval easily"
      ],
      "metadata": {
        "id": "dXzqopzLgptJ"
      }
    },
    {
      "cell_type": "code",
      "source": [
        "from langchain.retrievers import ParentDocumentRetriever"
      ],
      "metadata": {
        "id": "32luBJT2hIkt"
      },
      "execution_count": null,
      "outputs": []
    },
    {
      "cell_type": "markdown",
      "source": [
        "## Retrieve full document using ParentDocumentRetriever"
      ],
      "metadata": {
        "id": "xEnaxbk1Falb"
      }
    },
    {
      "cell_type": "code",
      "source": [
        "# set splitter for child chunks\n",
        "child_splitter = RecursiveCharacterTextSplitter(chunk_size=400)\n",
        "\n",
        "vector_store = Chroma(collection_name=\"parent_document_retriever\", embedding_function=OpenAIEmbeddings())\n",
        "\n",
        "parent_retriever = ParentDocumentRetriever(\n",
        "    vectorstore=vector_store,\n",
        "    docstore=InMemoryByteStore(),\n",
        "    child_splitter=child_splitter,\n",
        ")"
      ],
      "metadata": {
        "colab": {
          "base_uri": "https://localhost:8080/"
        },
        "id": "xsz5hH4NDjge",
        "outputId": "d71593c3-3553-4c6c-e812-8a13e6677a9f"
      },
      "execution_count": null,
      "outputs": [
        {
          "output_type": "stream",
          "name": "stderr",
          "text": [
            "ERROR:chromadb.telemetry.product.posthog:Failed to send telemetry event ClientStartEvent: capture() takes 1 positional argument but 3 were given\n",
            "ERROR:chromadb.telemetry.product.posthog:Failed to send telemetry event ClientCreateCollectionEvent: capture() takes 1 positional argument but 3 were given\n"
          ]
        }
      ]
    },
    {
      "cell_type": "code",
      "source": [
        "# ParentDocumentRetriever automatically add documents\n",
        "# to vectorstore and docstore\n",
        "parent_retriever.add_documents(docs, ids=None)\n",
        "\n",
        "# check document ids\n",
        "list(parent_retriever.docstore.yield_keys())"
      ],
      "metadata": {
        "colab": {
          "base_uri": "https://localhost:8080/"
        },
        "id": "_Wfy6Y5_Dj-D",
        "outputId": "b2ee9779-9cca-4742-eda0-d29ec892662f"
      },
      "execution_count": null,
      "outputs": [
        {
          "output_type": "execute_result",
          "data": {
            "text/plain": [
              "['94003fc7-2dc9-496c-827c-2d53174a4c28',\n",
              " 'e0b79d1c-7965-445c-ae78-eb1da03565a9']"
            ]
          },
          "metadata": {},
          "execution_count": 11
        }
      ]
    },
    {
      "cell_type": "code",
      "source": [
        "sub_docs = parent_retriever.vectorstore.similarity_search(\"justice breyer\")\n",
        "# inspect number of retrieved child chunks\n",
        "print(len(sub_docs))\n",
        "print()\n",
        "# inspect size of chilk chunk\n",
        "print(len(sub_docs[0].page_content))\n",
        "print()\n",
        "# print out a child chunk content\n",
        "print(sub_docs[0].page_content)"
      ],
      "metadata": {
        "colab": {
          "base_uri": "https://localhost:8080/"
        },
        "id": "w5mGM-GHEawZ",
        "outputId": "8eb6c37f-7873-4856-edde-2fc07c52d3f1"
      },
      "execution_count": null,
      "outputs": [
        {
          "output_type": "stream",
          "name": "stdout",
          "text": [
            "4\n",
            "\n",
            "390\n",
            "\n",
            "Tonight, I’d like to honor someone who has dedicated his life to serve this country: Justice Stephen Breyer—an Army veteran, Constitutional scholar, and retiring Justice of the United States Supreme Court. Justice Breyer, thank you for your service. \n",
            "\n",
            "One of the most serious constitutional responsibilities a President has is nominating someone to serve on the United States Supreme Court.\n"
          ]
        }
      ]
    },
    {
      "cell_type": "code",
      "source": [
        "# get the parent document\n",
        "retrieved_parent_doc = parent_retriever.invoke(\"justice breyer\")[0]\n",
        "print(len(retrieved_parent_doc.page_content))\n",
        "print(\"\\n\")\n",
        "# inspect first 100 chars\n",
        "print(retrieved_parent_doc.page_content[:100])"
      ],
      "metadata": {
        "colab": {
          "base_uri": "https://localhost:8080/"
        },
        "id": "MNqOWkR0EmtM",
        "outputId": "b526bc25-b4cc-40ea-b886-d33dd1987d0d"
      },
      "execution_count": null,
      "outputs": [
        {
          "output_type": "stream",
          "name": "stdout",
          "text": [
            "38540\n",
            "\n",
            "\n",
            "Madam Speaker, Madam Vice President, our First Lady and Second Gentleman. Members of Congress and th\n"
          ]
        }
      ]
    },
    {
      "cell_type": "markdown",
      "source": [
        "## Retrieve larger chunk with ParentDocumentRetriever"
      ],
      "metadata": {
        "id": "9kX5CRYMFfRG"
      }
    },
    {
      "cell_type": "code",
      "source": [
        "# prepare splitter for both child chunks and parent chunks\n",
        "parent_splitter = RecursiveCharacterTextSplitter(chunk_size=2000)\n",
        "child_splitter = RecursiveCharacterTextSplitter(chunk_size=400)\n",
        "\n",
        "vector_store = Chroma(collection_name=\"parent_document_retriever_2\", embedding_function=OpenAIEmbeddings())\n",
        "\n",
        "parent_retriever = ParentDocumentRetriever(\n",
        "    vectorstore=vector_store,\n",
        "    docstore=InMemoryByteStore(),\n",
        "    child_splitter=child_splitter,\n",
        "    parent_splitter=parent_splitter,\n",
        ")"
      ],
      "metadata": {
        "colab": {
          "base_uri": "https://localhost:8080/"
        },
        "id": "IlD1yj4lFTJi",
        "outputId": "4a83760f-0492-4cae-cc81-50eca1338e22"
      },
      "execution_count": null,
      "outputs": [
        {
          "output_type": "stream",
          "name": "stderr",
          "text": [
            "ERROR:chromadb.telemetry.product.posthog:Failed to send telemetry event ClientStartEvent: capture() takes 1 positional argument but 3 were given\n",
            "ERROR:chromadb.telemetry.product.posthog:Failed to send telemetry event ClientCreateCollectionEvent: capture() takes 1 positional argument but 3 were given\n"
          ]
        }
      ]
    },
    {
      "cell_type": "code",
      "source": [
        "# add documents, auto splitting both child and parent chunks\n",
        "parent_retriever.add_documents(docs)\n",
        "\n",
        "# inspect number of parent chunks and their key\n",
        "print(len(list(parent_retriever.docstore.yield_keys())))\n",
        "print(list(parent_retriever.docstore.yield_keys())[:20])"
      ],
      "metadata": {
        "colab": {
          "base_uri": "https://localhost:8080/"
        },
        "id": "6ua9p2EdHJCd",
        "outputId": "19250d98-f667-4947-c6c5-80128bcf7538"
      },
      "execution_count": null,
      "outputs": [
        {
          "output_type": "stream",
          "name": "stdout",
          "text": [
            "66\n",
            "['35f72eef-67c1-449a-9191-6ca2f829407b', '1339a08a-a890-4940-9e04-ff1253e105cd', '589f5b0d-32bd-4c20-9424-57a2cc7609e0', '7fcb8d58-3271-432d-ab38-02adf2a8a991', '372f6487-3e32-49fc-82e4-d24930a0d195', 'c4787341-f5a5-4e16-974e-8ad437da6b53', '7b1deea5-8550-49c0-b321-1b27ea65b903', '9bb7fca9-3c7c-449c-aa23-f6466fb28cfa', '5a60c420-6249-428e-b39a-f1e84bc414f7', '8804b27b-3032-4bc7-8eb3-5e2d6f2267b3', '6c24bb53-22cb-4474-a2d4-0020d32e48a8', 'b93f3e22-0669-4336-8261-10fe8a01f2ef', '71ffe649-18d2-40e5-aa23-8f95dc47f8d6', 'de744a7b-eeaf-4e84-86bd-3551b142d581', 'a046798a-bfbb-41c0-a47a-3d928a6c6a06', 'cdcd21a0-748d-4e62-ae9f-0846419b6f46', '23c06b42-be7a-40e4-b4e3-524287c5907d', '8437b357-a2a9-4730-9340-b30082004ab2', 'c9482862-a885-4239-a8af-43c98077c9f7', 'c9dfffda-ba9a-482e-a5cc-5d1da992c285']\n"
          ]
        }
      ]
    },
    {
      "cell_type": "code",
      "source": [
        "# inspect parent chunk\n",
        "retrieved_parent_docs = parent_retriever.invoke(\"justice breyer\")\n",
        "print(len(retrieved_parent_docs))\n",
        "print(\"\\n\")\n",
        "print(len(retrieved_parent_docs[0].page_content))\n",
        "print(\"\\n\")\n",
        "print(retrieved_parent_docs[0].page_content)"
      ],
      "metadata": {
        "colab": {
          "base_uri": "https://localhost:8080/"
        },
        "id": "jh5YEK86HgCR",
        "outputId": "5c44e43d-ff39-4096-a6c3-0d039e7dcd6f"
      },
      "execution_count": null,
      "outputs": [
        {
          "output_type": "stream",
          "name": "stderr",
          "text": [
            "ERROR:chromadb.telemetry.product.posthog:Failed to send telemetry event CollectionQueryEvent: capture() takes 1 positional argument but 3 were given\n"
          ]
        },
        {
          "output_type": "stream",
          "name": "stdout",
          "text": [
            "1\n",
            "\n",
            "\n",
            "1849\n",
            "\n",
            "\n",
            "In state after state, new laws have been passed, not only to suppress the vote, but to subvert entire elections. \n",
            "\n",
            "We cannot let this happen. \n",
            "\n",
            "Tonight. I call on the Senate to: Pass the Freedom to Vote Act. Pass the John Lewis Voting Rights Act. And while you’re at it, pass the Disclose Act so Americans can know who is funding our elections. \n",
            "\n",
            "Tonight, I’d like to honor someone who has dedicated his life to serve this country: Justice Stephen Breyer—an Army veteran, Constitutional scholar, and retiring Justice of the United States Supreme Court. Justice Breyer, thank you for your service. \n",
            "\n",
            "One of the most serious constitutional responsibilities a President has is nominating someone to serve on the United States Supreme Court. \n",
            "\n",
            "And I did that 4 days ago, when I nominated Circuit Court of Appeals Judge Ketanji Brown Jackson. One of our nation’s top legal minds, who will continue Justice Breyer’s legacy of excellence. \n",
            "\n",
            "A former top litigator in private practice. A former federal public defender. And from a family of public school educators and police officers. A consensus builder. Since she’s been nominated, she’s received a broad range of support—from the Fraternal Order of Police to former judges appointed by Democrats and Republicans. \n",
            "\n",
            "And if we are to advance liberty and justice, we need to secure the Border and fix the immigration system. \n",
            "\n",
            "We can do both. At our border, we’ve installed new technology like cutting-edge scanners to better detect drug smuggling.  \n",
            "\n",
            "We’ve set up joint patrols with Mexico and Guatemala to catch more human traffickers.  \n",
            "\n",
            "We’re putting in place dedicated immigration judges so families fleeing persecution and violence can have their cases heard faster. \n",
            "\n",
            "We’re securing commitments and supporting partners in South and Central America to host more refugees and secure their own borders.\n"
          ]
        }
      ]
    },
    {
      "cell_type": "code",
      "source": [],
      "metadata": {
        "id": "GojIV9f4H4Hj"
      },
      "execution_count": null,
      "outputs": []
    }
  ]
}