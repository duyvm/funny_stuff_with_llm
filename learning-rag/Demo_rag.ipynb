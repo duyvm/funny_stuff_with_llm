{
  "nbformat": 4,
  "nbformat_minor": 0,
  "metadata": {
    "colab": {
      "provenance": [],
      "mount_file_id": "1l_x56ISnBIJDHeRH2AOeijGIuPo5bIBN",
      "authorship_tag": "ABX9TyM0/L//zNnExNikjQ2mef+x",
      "include_colab_link": true
    },
    "kernelspec": {
      "name": "python3",
      "display_name": "Python 3"
    },
    "language_info": {
      "name": "python"
    }
  },
  "cells": [
    {
      "cell_type": "markdown",
      "metadata": {
        "id": "view-in-github",
        "colab_type": "text"
      },
      "source": [
        "<a href=\"https://colab.research.google.com/github/duyvm/funny_stuff_with_llm/blob/main/learning-rag/Demo_rag.ipynb\" target=\"_parent\"><img src=\"https://colab.research.google.com/assets/colab-badge.svg\" alt=\"Open In Colab\"/></a>"
      ]
    },
    {
      "cell_type": "markdown",
      "source": [
        "# Install packages"
      ],
      "metadata": {
        "id": "x-DyMUQY8rXR"
      }
    },
    {
      "cell_type": "code",
      "source": [
        "%pip install --quiet --upgrade langchain-text-splitters langchain-community langgraph langchain[openai] langchain-core beautifulsoup4 langchain-pinecone gradio"
      ],
      "metadata": {
        "colab": {
          "base_uri": "https://localhost:8080/"
        },
        "id": "4W2S6uJ38sAK",
        "outputId": "2dd3615a-bb67-40ac-e4a6-6727a0478da2"
      },
      "execution_count": 1,
      "outputs": [
        {
          "output_type": "stream",
          "name": "stdout",
          "text": [
            "\u001b[2K     \u001b[90m━━━━━━━━━━━━━━━━━━━━━━━━━━━━━━━━━━━━━━━━\u001b[0m \u001b[32m43.7/43.7 kB\u001b[0m \u001b[31m2.4 MB/s\u001b[0m eta \u001b[36m0:00:00\u001b[0m\n",
            "\u001b[2K   \u001b[90m━━━━━━━━━━━━━━━━━━━━━━━━━━━━━━━━━━━━━━━━\u001b[0m \u001b[32m2.5/2.5 MB\u001b[0m \u001b[31m45.9 MB/s\u001b[0m eta \u001b[36m0:00:00\u001b[0m\n",
            "\u001b[2K   \u001b[90m━━━━━━━━━━━━━━━━━━━━━━━━━━━━━━━━━━━━━━━━\u001b[0m \u001b[32m152.4/152.4 kB\u001b[0m \u001b[31m10.9 MB/s\u001b[0m eta \u001b[36m0:00:00\u001b[0m\n",
            "\u001b[2K   \u001b[90m━━━━━━━━━━━━━━━━━━━━━━━━━━━━━━━━━━━━━━━━\u001b[0m \u001b[32m438.9/438.9 kB\u001b[0m \u001b[31m26.3 MB/s\u001b[0m eta \u001b[36m0:00:00\u001b[0m\n",
            "\u001b[2K   \u001b[90m━━━━━━━━━━━━━━━━━━━━━━━━━━━━━━━━━━━━━━━━\u001b[0m \u001b[32m54.3/54.3 MB\u001b[0m \u001b[31m16.9 MB/s\u001b[0m eta \u001b[36m0:00:00\u001b[0m\n",
            "\u001b[2K   \u001b[90m━━━━━━━━━━━━━━━━━━━━━━━━━━━━━━━━━━━━━━━━\u001b[0m \u001b[32m323.6/323.6 kB\u001b[0m \u001b[31m21.4 MB/s\u001b[0m eta \u001b[36m0:00:00\u001b[0m\n",
            "\u001b[2K   \u001b[90m━━━━━━━━━━━━━━━━━━━━━━━━━━━━━━━━━━━━━━━━\u001b[0m \u001b[32m1.0/1.0 MB\u001b[0m \u001b[31m11.0 MB/s\u001b[0m eta \u001b[36m0:00:00\u001b[0m\n",
            "\u001b[2K   \u001b[90m━━━━━━━━━━━━━━━━━━━━━━━━━━━━━━━━━━━━━━━━\u001b[0m \u001b[32m69.0/69.0 kB\u001b[0m \u001b[31m4.5 MB/s\u001b[0m eta \u001b[36m0:00:00\u001b[0m\n",
            "\u001b[2K   \u001b[90m━━━━━━━━━━━━━━━━━━━━━━━━━━━━━━━━━━━━━━━━\u001b[0m \u001b[32m46.3/46.3 kB\u001b[0m \u001b[31m2.4 MB/s\u001b[0m eta \u001b[36m0:00:00\u001b[0m\n",
            "\u001b[2K   \u001b[90m━━━━━━━━━━━━━━━━━━━━━━━━━━━━━━━━━━━━━━━━\u001b[0m \u001b[32m43.8/43.8 kB\u001b[0m \u001b[31m2.7 MB/s\u001b[0m eta \u001b[36m0:00:00\u001b[0m\n",
            "\u001b[2K   \u001b[90m━━━━━━━━━━━━━━━━━━━━━━━━━━━━━━━━━━━━━━━━\u001b[0m \u001b[32m50.0/50.0 kB\u001b[0m \u001b[31m3.7 MB/s\u001b[0m eta \u001b[36m0:00:00\u001b[0m\n",
            "\u001b[2K   \u001b[90m━━━━━━━━━━━━━━━━━━━━━━━━━━━━━━━━━━━━━━━━\u001b[0m \u001b[32m524.3/524.3 kB\u001b[0m \u001b[31m28.8 MB/s\u001b[0m eta \u001b[36m0:00:00\u001b[0m\n",
            "\u001b[2K   \u001b[90m━━━━━━━━━━━━━━━━━━━━━━━━━━━━━━━━━━━━━━━━\u001b[0m \u001b[32m45.2/45.2 kB\u001b[0m \u001b[31m3.0 MB/s\u001b[0m eta \u001b[36m0:00:00\u001b[0m\n",
            "\u001b[2K   \u001b[90m━━━━━━━━━━━━━━━━━━━━━━━━━━━━━━━━━━━━━━━━\u001b[0m \u001b[32m50.9/50.9 kB\u001b[0m \u001b[31m3.6 MB/s\u001b[0m eta \u001b[36m0:00:00\u001b[0m\n",
            "\u001b[2K   \u001b[90m━━━━━━━━━━━━━━━━━━━━━━━━━━━━━━━━━━━━━━━━\u001b[0m \u001b[32m216.5/216.5 kB\u001b[0m \u001b[31m15.0 MB/s\u001b[0m eta \u001b[36m0:00:00\u001b[0m\n",
            "\u001b[2K   \u001b[90m━━━━━━━━━━━━━━━━━━━━━━━━━━━━━━━━━━━━━━━━\u001b[0m \u001b[32m240.0/240.0 kB\u001b[0m \u001b[31m16.9 MB/s\u001b[0m eta \u001b[36m0:00:00\u001b[0m\n",
            "\u001b[2K   \u001b[90m━━━━━━━━━━━━━━━━━━━━━━━━━━━━━━━━━━━━━━━━\u001b[0m \u001b[32m52.2/52.2 kB\u001b[0m \u001b[31m3.3 MB/s\u001b[0m eta \u001b[36m0:00:00\u001b[0m\n",
            "\u001b[2K   \u001b[90m━━━━━━━━━━━━━━━━━━━━━━━━━━━━━━━━━━━━━━━━\u001b[0m \u001b[32m42.3/42.3 kB\u001b[0m \u001b[31m2.6 MB/s\u001b[0m eta \u001b[36m0:00:00\u001b[0m\n",
            "\u001b[2K   \u001b[90m━━━━━━━━━━━━━━━━━━━━━━━━━━━━━━━━━━━━━━━━\u001b[0m \u001b[32m44.3/44.3 kB\u001b[0m \u001b[31m3.0 MB/s\u001b[0m eta \u001b[36m0:00:00\u001b[0m\n",
            "\u001b[?25h"
          ]
        }
      ]
    },
    {
      "cell_type": "markdown",
      "source": [
        "Demo agenda:\n",
        "\n",
        "- Part 1: QA system with vector database\n",
        "\n",
        "  - Part 1-1: Basic QA RAG\n",
        "\n",
        "  - Part 1-2: Improvement techniques\n",
        "\n",
        "- Part 2: QA system with SQL data\n",
        "\n",
        "  - Part 2-1: using predefined workflow\n",
        "\n",
        "  - Part 2-2: using simple agent"
      ],
      "metadata": {
        "id": "VdY2naj_4R3S"
      }
    },
    {
      "cell_type": "markdown",
      "source": [
        "# Import libraries and helper functions"
      ],
      "metadata": {
        "id": "yNd74yNn2MBi"
      }
    },
    {
      "cell_type": "code",
      "source": [
        "import bs4\n",
        "import os\n",
        "import gradio as gr\n",
        "\n",
        "from langchain import hub\n",
        "from langchain.chat_models import init_chat_model\n",
        "\n",
        "from langchain_community.document_loaders import WebBaseLoader\n",
        "\n",
        "from langchain_openai import OpenAIEmbeddings\n",
        "\n",
        "from langchain_core.documents import Document\n",
        "from langchain_core.messages import SystemMessage, HumanMessage, AIMessage\n",
        "from langchain_core.vectorstores import InMemoryVectorStore\n",
        "\n",
        "from langchain_pinecone import PineconeVectorStore\n",
        "\n",
        "from langchain_text_splitters import RecursiveCharacterTextSplitter\n",
        "\n",
        "from langgraph.graph import START, StateGraph, MessagesState, END\n",
        "from langgraph.checkpoint.memory import MemorySaver\n",
        "\n",
        "from typing_extensions import List, TypedDict\n",
        "from IPython.display import Image, display\n",
        "\n",
        "from google.colab import userdata\n",
        "from pinecone import Pinecone, ServerlessSpec\n",
        "\n",
        "def start_ui(graph, config, share=False, debug=True):\n",
        "    \"\"\"\n",
        "    Start the Gradio UI for the ChatBot\n",
        "    \"\"\"\n",
        "\n",
        "    # streaming response method\n",
        "    async def stream_fn(user_input, history):\n",
        "\n",
        "        state = {\n",
        "            \"question\": user_input,\n",
        "        }\n",
        "\n",
        "        bot_reply = \"\"\n",
        "\n",
        "        async for chunk, metadata in graph.astream(\n",
        "            state,\n",
        "            config,\n",
        "            stream_mode=\"messages\",\n",
        "        ):\n",
        "            if isinstance(chunk, AIMessage):  # Filter to just model responses\n",
        "                if chunk.content.strip() in [\"NA\", \"\"]:\n",
        "                    continue\n",
        "                bot_reply += chunk.content\n",
        "                yield bot_reply\n",
        "\n",
        "    # Start the interface (it will print a link you can click)\n",
        "    chat_ui = gr.ChatInterface(\n",
        "        fn=stream_fn,\n",
        "        title=\"🤖 Demo RAG\",\n",
        "        type=\"messages\",\n",
        "    )\n",
        "\n",
        "    chat_ui.launch(share=share, debug=debug)\n",
        "\n",
        "def load_data(urls, vector_store):\n",
        "    \"\"\"\n",
        "    Parse data from webpage and insert into vector store\n",
        "    \"\"\"\n",
        "    # load new url, splint and index it\n",
        "    web_loader = WebBaseLoader(\n",
        "            web_paths=urls,\n",
        "            bs_kwargs=dict(\n",
        "            parse_only=bs4.SoupStrainer(\n",
        "                class_=(\"mw-content-ltr mw-parser-output\", \"mw-page-title-main\")\n",
        "            )\n",
        "        )\n",
        "    )\n",
        "\n",
        "    documents = web_loader.load()\n",
        "\n",
        "    # split the documents\n",
        "    text_splitter = RecursiveCharacterTextSplitter(chunk_size=1000, chunk_overlap=200)\n",
        "    all_splits = text_splitter.split_documents(documents)\n",
        "\n",
        "    # Pinecorn API has limit message size of 4MB\n",
        "    # Batch insert the chunks into the vector store\n",
        "    batch_size = 100\n",
        "    for i in range(0, len(all_splits), batch_size):\n",
        "        splits_batch = all_splits[i:i + batch_size]\n",
        "        vector_store.add_documents(splits_batch)"
      ],
      "metadata": {
        "id": "Dbr0l-hd2TN2"
      },
      "execution_count": 91,
      "outputs": []
    },
    {
      "cell_type": "markdown",
      "source": [
        "### Load api keys into environment"
      ],
      "metadata": {
        "id": "reSR6U-92taa"
      }
    },
    {
      "cell_type": "code",
      "source": [
        "PROJECT_NAME = \"demo-rag\"\n",
        "\n",
        "os.environ[\"LANGSMITH_TRACING\"] = \"true\"\n",
        "os.environ[\"LANGSMITH_ENDPOINT\"] = \"https://api.smith.langchain.com\"\n",
        "os.environ[\"LANGSMITH_PROJECT\"] = f\"{PROJECT_NAME}\"\n",
        "os.environ[\"LANGSMITH_API_KEY\"] = userdata.get('LANGSMITH_API_KEY')\n",
        "os.environ[\"OPENAI_API_KEY\"] = userdata.get('OPENAI_API_KEY')"
      ],
      "metadata": {
        "id": "08hBoEqa2t5j"
      },
      "execution_count": 3,
      "outputs": []
    },
    {
      "cell_type": "markdown",
      "source": [
        "# Part 1: QA system with vector database"
      ],
      "metadata": {
        "id": "qx1GLj3b2dB2"
      }
    },
    {
      "cell_type": "markdown",
      "source": [
        "## Part 1-1: Basic QA RAG\n",
        "\n",
        "- Knowledge base: a vector db (`pinecone`) for storing documents\n",
        "\n",
        "- Llm model: `gpt-4o-mini` of `openai`\n",
        "\n",
        "- User interacts with chatbot\n",
        "\n",
        "- Basic functionalities:\n",
        "\n",
        "  1. Understand user's question\n",
        "\n",
        "  2. Search for answer from knowledge base\n",
        "\n",
        "  3. Answer user's question"
      ],
      "metadata": {
        "id": "jbVnZY732dw_"
      }
    },
    {
      "cell_type": "markdown",
      "source": [
        "### Initialize model"
      ],
      "metadata": {
        "id": "cQrfBoEK94Nu"
      }
    },
    {
      "cell_type": "code",
      "source": [
        "llm = init_chat_model(\"gpt-4o-mini\", model_provider=\"openai\")\n",
        "\n",
        "embeddings = OpenAIEmbeddings(model=\"text-embedding-3-large\")"
      ],
      "metadata": {
        "id": "CR01e_A08FAQ"
      },
      "execution_count": 4,
      "outputs": []
    },
    {
      "cell_type": "markdown",
      "source": [
        "### Create vector db"
      ],
      "metadata": {
        "id": "cw3w8PT73ZLu"
      }
    },
    {
      "cell_type": "code",
      "source": [
        "# In memory db\n",
        "# vector_store = InMemoryVectorStore(embeddings)\n",
        "pc = Pinecone(api_key=userdata.get('PINECORN_API_KEY'))\n",
        "\n",
        "# Create Index on pinecorn for text-embedding-3-large\n",
        "index_name = PROJECT_NAME\n",
        "\n",
        "if not pc.has_index(index_name):\n",
        "    pc.create_index(\n",
        "        name=index_name,\n",
        "        dimension=3072,\n",
        "        metric=\"cosine\",\n",
        "        spec=ServerlessSpec(\n",
        "            cloud='aws',\n",
        "            region='us-east-1'\n",
        "        )\n",
        "    )\n",
        "\n",
        "index = pc.Index(index_name)\n",
        "\n",
        "vector_store = PineconeVectorStore(embedding=embeddings, index=index)"
      ],
      "metadata": {
        "id": "Tb4-JgXo3csN"
      },
      "execution_count": 5,
      "outputs": []
    },
    {
      "cell_type": "markdown",
      "source": [
        "### Load documents"
      ],
      "metadata": {
        "id": "fEQijH8Q9-Di"
      }
    },
    {
      "cell_type": "code",
      "source": [
        "# load data from urls\n",
        "urls = [\n",
        "    \"https://ja.wikipedia.org/wiki/%E3%81%93%E3%81%AE%E7%B4%A0%E6%99%B4%E3%82%89%E3%81%97%E3%81%84%E4%B8%96%E7%95%8C%E3%81%AB%E7%A5%9D%E7%A6%8F%E3%82%92!\",\n",
        "    \"https://en.wikipedia.org/wiki/Alice_in_Chains\",\n",
        "    \"https://en.wikipedia.org/wiki/Alanis_Morissette\"\n",
        "]\n",
        "\n",
        "load_data(urls, vector_store)"
      ],
      "metadata": {
        "id": "m5UIseN6-BQR"
      },
      "execution_count": 6,
      "outputs": []
    },
    {
      "cell_type": "markdown",
      "source": [
        "### Build graph"
      ],
      "metadata": {
        "id": "UkKH_71j-zb3"
      }
    },
    {
      "cell_type": "code",
      "source": [
        "# define state of langgraph\n",
        "class State(TypedDict):\n",
        "    question: str\n",
        "    context: List[Document]\n",
        "    answer: str\n",
        "\n",
        "# 1st step: retrieve documents in vector db\n",
        "def retrieve(state: State) -> dict:\n",
        "    retrieved_docs = vector_store.similarity_search(state[\"question\"])\n",
        "    return {\"context\": retrieved_docs}\n",
        "\n",
        "# 2nd step: generate response to user's question based on retrieved context\n",
        "def generate(state: State):\n",
        "    \"\"\"\n",
        "    Generate the response based on context\n",
        "    \"\"\"\n",
        "    doc_content = \"\\n\\n\".join([doc.page_content for doc in state[\"context\"]])\n",
        "    # prompt_with_context = rag_prompt.invoke(input={\"context\": doc_content, \"question\": state[\"question\"]})\n",
        "    system_message = (\n",
        "        \"You are an assistant for question-answering tasks. \"\n",
        "        \"Use the following pieces of retrieved context to answer \"\n",
        "        \"the question. If you don't know the answer, just say that you \"\n",
        "        \"don't know, don't try to make up an answer. Use three sentences \"\n",
        "        \"maximum and keep the answer concise. \"\n",
        "        \"\\n\\n\"\n",
        "        f\"{doc_content}\"\n",
        "    )\n",
        "    prompt_with_context = [SystemMessage(content=system_message)] + [HumanMessage(content=state[\"question\"])]\n",
        "    answer = llm.invoke(prompt_with_context)\n",
        "    return {\"answer\": answer.content}\n",
        "\n",
        "# add memory\n",
        "memory = MemorySaver()\n",
        "\n",
        "# compile the graph and test\n",
        "graph_builder = StateGraph(State).add_sequence([(retrieve.__name__, retrieve), (generate.__name__, generate)])\n",
        "graph_builder.add_edge(START, retrieve.__name__)\n",
        "graph = graph_builder.compile(checkpointer=memory)"
      ],
      "metadata": {
        "id": "uFxdezY6-zt9"
      },
      "execution_count": 19,
      "outputs": []
    },
    {
      "cell_type": "markdown",
      "source": [
        "#### Visualize the graph"
      ],
      "metadata": {
        "id": "6IlfFN4LDLg7"
      }
    },
    {
      "cell_type": "code",
      "source": [
        "display(Image(graph.get_graph().draw_mermaid_png()))"
      ],
      "metadata": {
        "colab": {
          "base_uri": "https://localhost:8080/",
          "height": 350
        },
        "id": "qpC56kiZDGqM",
        "outputId": "53b755e2-2db4-4cd0-b18a-9f2ba5f5bf13"
      },
      "execution_count": 16,
      "outputs": [
        {
          "output_type": "display_data",
          "data": {
            "image/png": "[encoded data removed]",
            "text/plain": [
              "<IPython.core.display.Image object>"
            ]
          },
          "metadata": {}
        }
      ]
    },
    {
      "cell_type": "code",
      "source": [
        "start_ui(graph, {\"configurable\": {\"thread_id\": \"duyvm123\"}}, False)"
      ],
      "metadata": {
        "colab": {
          "base_uri": "https://localhost:8080/",
          "height": 648
        },
        "id": "wIZkdLq5pcO7",
        "outputId": "d032756c-ddf5-41e3-f427-56480aff4a1e"
      },
      "execution_count": 20,
      "outputs": [
        {
          "output_type": "stream",
          "name": "stdout",
          "text": [
            "Colab notebook detected. This cell will run indefinitely so that you can see errors and logs. To turn off, set debug=False in launch().\n",
            "* Running on public URL: https://76665698bd7e805317.gradio.live\n",
            "\n",
            "This share link expires in 1 week. For free permanent hosting and GPU upgrades, run `gradio deploy` from the terminal in the working directory to deploy to Hugging Face Spaces (https://huggingface.co/spaces)\n"
          ]
        },
        {
          "output_type": "display_data",
          "data": {
            "text/plain": [
              "<IPython.core.display.HTML object>"
            ],
            "text/html": [
              "<div><iframe src=\"https://76665698bd7e805317.gradio.live\" width=\"100%\" height=\"500\" allow=\"autoplay; camera; microphone; clipboard-read; clipboard-write;\" frameborder=\"0\" allowfullscreen></iframe></div>"
            ]
          },
          "metadata": {}
        },
        {
          "output_type": "stream",
          "name": "stdout",
          "text": [
            "Keyboard interruption in main thread... closing server.\n",
            "Killing tunnel 127.0.0.1:7862 <> https://76665698bd7e805317.gradio.live\n"
          ]
        }
      ]
    },
    {
      "cell_type": "markdown",
      "source": [
        "### Testing around with chatbot\n",
        "\n",
        "- Ask something in our documents in Japanese/English/Vietnamese\n",
        "\n",
        "- Ask something new (`Albus Dumbledore`)"
      ],
      "metadata": {
        "id": "iOSoWt9wz5xW"
      }
    },
    {
      "cell_type": "markdown",
      "source": [
        "### Add more data\n",
        "\n",
        "- Add data about Albus Dumbledore and Harry Porter"
      ],
      "metadata": {
        "id": "PBp3TmWDrNTG"
      }
    },
    {
      "cell_type": "code",
      "source": [
        "# load data from urls\n",
        "urls = [\n",
        "    \"https://en.wikipedia.org/wiki/Albus_Dumbledore\",\n",
        "    \"https://en.wikipedia.org/wiki/Harry_Potter_(character)\",\n",
        "]\n",
        "\n",
        "load_data(urls, vector_store)"
      ],
      "metadata": {
        "id": "PIInKSpszzlS"
      },
      "execution_count": 42,
      "outputs": []
    },
    {
      "cell_type": "markdown",
      "source": [
        "#### 🧠 Conclude\n",
        "\n",
        "#### **Goods**\n",
        "\n",
        "👍 The app can understand multi-languages\n",
        "\n",
        "👍 The app can understand the variants of the question\n",
        "\n",
        "#### **Need improvement**\n",
        "\n",
        "🤔 We are considering user's question is the whole information for searching in vector db. It can lead to retrieving incorrect informations if the actual information that we want is too small consider to the length of question. How to seperate the actual relevant information piece for searching with the rest in the question.\n",
        "\n",
        "🤔 The accuracy of answer depends a lot on retrieved informations. It can be tricky when stored information and provided information (in question) is not in the same language\n",
        "\n",
        "#### **Some solutions**\n",
        "\n",
        "- Query analysis\n",
        "\n",
        "- Query re-writing\n",
        "\n",
        "- Agentic approach"
      ],
      "metadata": {
        "id": "4CR6Bjo3z4sb"
      }
    },
    {
      "cell_type": "markdown",
      "source": [],
      "metadata": {
        "id": "bNoHPlc4hWxG"
      }
    },
    {
      "cell_type": "code",
      "source": [
        "# define state of langgraph\n",
        "class StateWithQuery(TypedDict):\n",
        "    question: str\n",
        "    query: str\n",
        "    context: List[Document]\n",
        "    answer: str\n",
        "    is_query: bool\n",
        "\n",
        "# 1st\n",
        "def query_or_response(state: StateWithQuery):\n",
        "    \"\"\"\n",
        "    Generatate query for retrieval or response directly to user\n",
        "    \"\"\"\n",
        "    system_message = (\n",
        "        \"You are an assistant for query-analysis task. \"\n",
        "        \"You receive the input from user. You analyze the input. \"\n",
        "        \"If it is a question, you pick only relevant query key-words from that question, \"\n",
        "        \"and remove un-needed information and DO NOT ADD any word that not from question.\"\n",
        "        \"If it is not a question, you return with 'NA'\"\n",
        "        \"\\n\\n\"\n",
        "    )\n",
        "    prompt_with_context = [SystemMessage(content=system_message)] + [HumanMessage(content=state[\"question\"])]\n",
        "    answer = llm.invoke(prompt_with_context)\n",
        "\n",
        "    if answer.content.upper() == \"NA\":\n",
        "        state[\"is_query\"] = False\n",
        "        state[\"query\"] = \"\"\n",
        "    else:\n",
        "        state[\"is_query\"] = True\n",
        "        state[\"query\"] = answer.content\n",
        "\n",
        "    return state\n",
        "\n",
        "# 2nd\n",
        "def retrieve(state: StateWithQuery) -> dict:\n",
        "    retrieved_docs = vector_store.similarity_search(state[\"query\"])\n",
        "    return {\"context\": retrieved_docs}\n",
        "\n",
        "# 3rd\n",
        "def generate(state: StateWithQuery):\n",
        "    \"\"\"\n",
        "    Generate the response based on context\n",
        "    \"\"\"\n",
        "    doc_content = \"\\n\\n\".join([doc.page_content for doc in state[\"context\"]])\n",
        "    system_message = (\n",
        "        \"You are an assistant for question-answering tasks. \"\n",
        "        \"Use the following pieces of retrieved context to answer \"\n",
        "        \"the question. If you don't know the answer, just say that you \"\n",
        "        \"don't know, don't try to make up an answer. Use three sentences \"\n",
        "        \"maximum and keep the answer concise. \"\n",
        "        \"\\n\\n\"\n",
        "        f\"{doc_content}\"\n",
        "    )\n",
        "    prompt_with_context = [SystemMessage(content=system_message)] + [HumanMessage(content=state[\"query\"])]\n",
        "    answer = llm.invoke(prompt_with_context)\n",
        "    return {\"answer\": answer.content}\n",
        "\n",
        "def i_don_know(state: StateWithQuery):\n",
        "    \"\"\"\n",
        "    Return I don't know if the answer is not available\n",
        "    \"\"\"\n",
        "    return {\"messages\": [AIMessage(content=\"I don't know about that. Please ask another question.\")]}\n",
        "\n",
        "def is_query(state: StateWithQuery):\n",
        "    if state[\"is_query\"]:\n",
        "        return retrieve.__name__\n",
        "    else:\n",
        "        return i_don_know.__name__"
      ],
      "metadata": {
        "id": "S_arOFeKeQGO"
      },
      "execution_count": 92,
      "outputs": []
    },
    {
      "cell_type": "code",
      "source": [
        "memory2 = MemorySaver()\n",
        "\n",
        "graph_builder = StateGraph(StateWithQuery)\n",
        "\n",
        "# Add each node\n",
        "graph_builder.add_node(query_or_response.__name__, query_or_response)\n",
        "graph_builder.add_node(retrieve.__name__, retrieve)\n",
        "graph_builder.add_node(generate.__name__, generate)\n",
        "graph_builder.add_node(i_don_know.__name__, i_don_know)\n",
        "\n",
        "# Start from query_or_response\n",
        "graph_builder.add_edge(START, query_or_response.__name__)\n",
        "\n",
        "# Conditional edge after query_or_response\n",
        "graph_builder.add_conditional_edges(\n",
        "    query_or_response.__name__,\n",
        "    is_query,\n",
        "    {\n",
        "        retrieve.__name__: retrieve.__name__,\n",
        "        i_don_know.__name__: i_don_know.__name__,\n",
        "    },\n",
        ")\n",
        "\n",
        "# Continue only if retrieve ran\n",
        "graph_builder.add_edge(retrieve.__name__, generate.__name__)\n",
        "graph_builder.add_edge(generate.__name__, END)\n",
        "graph_builder.add_edge(i_don_know.__name__, END)\n",
        "\n",
        "improved_graph = graph_builder.compile(checkpointer=memory2)\n",
        "\n",
        "display(Image(improved_graph.get_graph().draw_mermaid_png()))"
      ],
      "metadata": {
        "colab": {
          "base_uri": "https://localhost:8080/",
          "height": 449
        },
        "id": "fwysqybghtDw",
        "outputId": "e4d27612-34ec-4351-c1cf-7ed6672ebfe5"
      },
      "execution_count": 93,
      "outputs": [
        {
          "output_type": "display_data",
          "data": {
            "image/png": "[encoded data removed]",
            "text/plain": [
              "<IPython.core.display.Image object>"
            ]
          },
          "metadata": {}
        }
      ]
    },
    {
      "cell_type": "code",
      "source": [
        "start_ui(improved_graph, {\"configurable\": {\"thread_id\": \"duyvm456\"}}, debug=True)"
      ],
      "metadata": {
        "colab": {
          "base_uri": "https://localhost:8080/",
          "height": 600
        },
        "id": "e30vulROk94q",
        "outputId": "daf37339-9c37-4130-d9ad-925f57c5356a"
      },
      "execution_count": null,
      "outputs": [
        {
          "output_type": "stream",
          "name": "stdout",
          "text": [
            "Colab notebook detected. This cell will run indefinitely so that you can see errors and logs. To turn off, set debug=False in launch().\n",
            "Note: opening Chrome Inspector may crash demo inside Colab notebooks.\n",
            "* To create a public link, set `share=True` in `launch()`.\n"
          ]
        },
        {
          "output_type": "display_data",
          "data": {
            "text/plain": [
              "<IPython.core.display.Javascript object>"
            ],
            "application/javascript": [
              "(async (port, path, width, height, cache, element) => {\n",
              "                        if (!google.colab.kernel.accessAllowed && !cache) {\n",
              "                            return;\n",
              "                        }\n",
              "                        element.appendChild(document.createTextNode(''));\n",
              "                        const url = await google.colab.kernel.proxyPort(port, {cache});\n",
              "\n",
              "                        const external_link = document.createElement('div');\n",
              "                        external_link.innerHTML = `\n",
              "                            <div style=\"font-family: monospace; margin-bottom: 0.5rem\">\n",
              "                                Running on <a href=${new URL(path, url).toString()} target=\"_blank\">\n",
              "                                    https://localhost:${port}${path}\n",
              "                                </a>\n",
              "                            </div>\n",
              "                        `;\n",
              "                        element.appendChild(external_link);\n",
              "\n",
              "                        const iframe = document.createElement('iframe');\n",
              "                        iframe.src = new URL(path, url).toString();\n",
              "                        iframe.height = height;\n",
              "                        iframe.allow = \"autoplay; camera; microphone; clipboard-read; clipboard-write;\"\n",
              "                        iframe.width = width;\n",
              "                        iframe.style.border = 0;\n",
              "                        element.appendChild(iframe);\n",
              "                    })(7862, \"/\", \"100%\", 500, false, window.element)"
            ]
          },
          "metadata": {}
        }
      ]
    },
    {
      "cell_type": "code",
      "source": [],
      "metadata": {
        "id": "Ks3n-l_FljN_"
      },
      "execution_count": null,
      "outputs": []
    }
  ]
}