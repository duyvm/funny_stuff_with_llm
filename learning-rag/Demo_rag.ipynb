{
  "nbformat": 4,
  "nbformat_minor": 0,
  "metadata": {
    "colab": {
      "provenance": [],
      "mount_file_id": "1l_x56ISnBIJDHeRH2AOeijGIuPo5bIBN",
      "authorship_tag": "ABX9TyOhYdNn22s9UxpOOTa/bs5i",
      "include_colab_link": true
    },
    "kernelspec": {
      "name": "python3",
      "display_name": "Python 3"
    },
    "language_info": {
      "name": "python"
    }
  },
  "cells": [
    {
      "cell_type": "markdown",
      "metadata": {
        "id": "view-in-github",
        "colab_type": "text"
      },
      "source": [
        "<a href=\"https://colab.research.google.com/github/duyvm/funny_stuff_with_llm/blob/main/learning-rag/Demo_rag.ipynb\" target=\"_parent\"><img src=\"https://colab.research.google.com/assets/colab-badge.svg\" alt=\"Open In Colab\"/></a>"
      ]
    },
    {
      "cell_type": "markdown",
      "source": [
        "# Install packages"
      ],
      "metadata": {
        "id": "x-DyMUQY8rXR"
      }
    },
    {
      "cell_type": "code",
      "source": [
        "%pip install --quiet --upgrade langchain-text-splitters langchain-community langgraph langchain[openai] langchain-core beautifulsoup4 langchain-pinecone gradio"
      ],
      "metadata": {
        "id": "4W2S6uJ38sAK"
      },
      "execution_count": 1,
      "outputs": []
    },
    {
      "cell_type": "markdown",
      "source": [
        "Demo agenda:\n",
        "\n",
        "- Part 1: QA system with vector database\n",
        "\n",
        "  - Part 1-1: Basic QA RAG\n",
        "\n",
        "  - Part 1-2: Improvement techniques\n",
        "\n",
        "- Part 2: QA system with SQL data\n",
        "\n",
        "  - Part 2-1: using predefined workflow\n",
        "\n",
        "  - Part 2-2: using simple agent"
      ],
      "metadata": {
        "id": "VdY2naj_4R3S"
      }
    },
    {
      "cell_type": "markdown",
      "source": [
        "# Import libraries and helper functions"
      ],
      "metadata": {
        "id": "yNd74yNn2MBi"
      }
    },
    {
      "cell_type": "code",
      "source": [
        "import bs4\n",
        "import os\n",
        "import gradio as gr\n",
        "\n",
        "from langchain import hub\n",
        "from langchain.chat_models import init_chat_model\n",
        "\n",
        "from langchain_community.document_loaders import WebBaseLoader\n",
        "from langchain_community.tools.sql_database.tool import QuerySQLDatabaseTool\n",
        "\n",
        "from langchain_openai import OpenAIEmbeddings\n",
        "\n",
        "from langchain_core.documents import Document\n",
        "from langchain_core.messages import SystemMessage, HumanMessage, AIMessage, ToolMessage\n",
        "from langchain_core.vectorstores import InMemoryVectorStore\n",
        "from langchain_core.prompts import ChatPromptTemplate\n",
        "\n",
        "from langchain_pinecone import PineconeVectorStore\n",
        "\n",
        "from langchain_text_splitters import RecursiveCharacterTextSplitter\n",
        "\n",
        "from langgraph.graph import START, StateGraph, MessagesState, END\n",
        "from langgraph.checkpoint.memory import MemorySaver\n",
        "\n",
        "from typing_extensions import List, TypedDict, Annotated\n",
        "from IPython.display import Image, display\n",
        "\n",
        "from google.colab import userdata\n",
        "from pinecone import Pinecone, ServerlessSpec\n",
        "\n",
        "def start_ui(graph, config, share=False, debug=True):\n",
        "    \"\"\"\n",
        "    Start the Gradio UI for the ChatBot\n",
        "    \"\"\"\n",
        "\n",
        "    # streaming response method\n",
        "    async def stream_fn(user_input, history):\n",
        "\n",
        "        state = {\n",
        "            \"question\": user_input,\n",
        "        }\n",
        "\n",
        "        bot_reply = \"\"\n",
        "\n",
        "        async for chunk, metadata in graph.astream(\n",
        "            state,\n",
        "            config,\n",
        "            stream_mode=\"messages\",\n",
        "        ):\n",
        "            if metadata[\"stream\"]:\n",
        "                bot_reply += chunk.content\n",
        "                yield bot_reply\n",
        "\n",
        "    # Start the interface (it will print a link you can click)\n",
        "    chat_ui = gr.ChatInterface(\n",
        "        fn=stream_fn,\n",
        "        title=\"🤖 Demo RAG\",\n",
        "        type=\"messages\",\n",
        "    )\n",
        "\n",
        "    chat_ui.launch(share=share, debug=debug)\n",
        "\n",
        "def load_data(urls, vector_store):\n",
        "    \"\"\"\n",
        "    Parse data from webpage and insert into vector store\n",
        "    \"\"\"\n",
        "    # load new url, splint and index it\n",
        "    web_loader = WebBaseLoader(\n",
        "            web_paths=urls,\n",
        "            bs_kwargs=dict(\n",
        "            parse_only=bs4.SoupStrainer(\n",
        "                class_=(\"mw-content-ltr mw-parser-output\", \"mw-page-title-main\")\n",
        "            )\n",
        "        )\n",
        "    )\n",
        "\n",
        "    documents = web_loader.load()\n",
        "\n",
        "    # split the documents\n",
        "    text_splitter = RecursiveCharacterTextSplitter(chunk_size=1000, chunk_overlap=200)\n",
        "    all_splits = text_splitter.split_documents(documents)\n",
        "\n",
        "    # Pinecorn API has limit message size of 4MB\n",
        "    # Batch insert the chunks into the vector store\n",
        "    batch_size = 100\n",
        "    for i in range(0, len(all_splits), batch_size):\n",
        "        splits_batch = all_splits[i:i + batch_size]\n",
        "        vector_store.add_documents(splits_batch)"
      ],
      "metadata": {
        "id": "Dbr0l-hd2TN2",
        "colab": {
          "base_uri": "https://localhost:8080/"
        },
        "outputId": "eb297f75-df9a-4c15-c351-306c1be57d72"
      },
      "execution_count": 2,
      "outputs": [
        {
          "output_type": "stream",
          "name": "stderr",
          "text": [
            "WARNING:langchain_community.utils.user_agent:USER_AGENT environment variable not set, consider setting it to identify your requests.\n"
          ]
        }
      ]
    },
    {
      "cell_type": "markdown",
      "source": [
        "### Load api keys into environment"
      ],
      "metadata": {
        "id": "reSR6U-92taa"
      }
    },
    {
      "cell_type": "code",
      "source": [
        "PROJECT_NAME = \"demo-rag\"\n",
        "\n",
        "os.environ[\"LANGSMITH_TRACING\"] = \"true\"\n",
        "os.environ[\"LANGSMITH_ENDPOINT\"] = \"https://api.smith.langchain.com\"\n",
        "os.environ[\"LANGSMITH_PROJECT\"] = f\"{PROJECT_NAME}\"\n",
        "os.environ[\"LANGSMITH_API_KEY\"] = userdata.get('LANGSMITH_API_KEY')\n",
        "os.environ[\"OPENAI_API_KEY\"] = userdata.get('OPENAI_API_KEY')"
      ],
      "metadata": {
        "id": "08hBoEqa2t5j"
      },
      "execution_count": 3,
      "outputs": []
    },
    {
      "cell_type": "markdown",
      "source": [
        "# Part 1: QA system with vector database (semantic search)"
      ],
      "metadata": {
        "id": "qx1GLj3b2dB2"
      }
    },
    {
      "cell_type": "markdown",
      "source": [
        "## Part 1-1: Basic QA RAG\n",
        "\n",
        "- Knowledge base: a vector db (`pinecone`) for storing documents\n",
        "\n",
        "- Llm model: `gpt-4o-mini` of `openai`\n",
        "\n",
        "- User interacts with chatbot\n",
        "\n",
        "- Basic functionalities:\n",
        "\n",
        "  1. Understand user's question\n",
        "\n",
        "  2. Search for answer from knowledge base\n",
        "\n",
        "  3. Answer user's question"
      ],
      "metadata": {
        "id": "jbVnZY732dw_"
      }
    },
    {
      "cell_type": "markdown",
      "source": [
        "### Initialize model"
      ],
      "metadata": {
        "id": "cQrfBoEK94Nu"
      }
    },
    {
      "cell_type": "code",
      "source": [
        "llm = init_chat_model(\"gpt-4o-mini\", model_provider=\"openai\")\n",
        "\n",
        "embeddings = OpenAIEmbeddings(model=\"text-embedding-3-large\")"
      ],
      "metadata": {
        "id": "CR01e_A08FAQ"
      },
      "execution_count": 4,
      "outputs": []
    },
    {
      "cell_type": "markdown",
      "source": [
        "### Create vector db"
      ],
      "metadata": {
        "id": "cw3w8PT73ZLu"
      }
    },
    {
      "cell_type": "code",
      "source": [
        "# In memory db\n",
        "# vector_store = InMemoryVectorStore(embeddings)\n",
        "pc = Pinecone(api_key=userdata.get('PINECORN_API_KEY'))\n",
        "\n",
        "# Create Index on pinecorn for text-embedding-3-large\n",
        "index_name = PROJECT_NAME\n",
        "\n",
        "if not pc.has_index(index_name):\n",
        "    pc.create_index(\n",
        "        name=index_name,\n",
        "        dimension=3072,\n",
        "        metric=\"cosine\",\n",
        "        spec=ServerlessSpec(\n",
        "            cloud='aws',\n",
        "            region='us-east-1'\n",
        "        )\n",
        "    )\n",
        "\n",
        "index = pc.Index(index_name)\n",
        "\n",
        "vector_store = PineconeVectorStore(embedding=embeddings, index=index)"
      ],
      "metadata": {
        "id": "Tb4-JgXo3csN"
      },
      "execution_count": 5,
      "outputs": []
    },
    {
      "cell_type": "markdown",
      "source": [
        "### Load documents"
      ],
      "metadata": {
        "id": "fEQijH8Q9-Di"
      }
    },
    {
      "cell_type": "code",
      "source": [
        "# load data from urls\n",
        "urls = [\n",
        "    \"https://ja.wikipedia.org/wiki/%E3%81%93%E3%81%AE%E7%B4%A0%E6%99%B4%E3%82%89%E3%81%97%E3%81%84%E4%B8%96%E7%95%8C%E3%81%AB%E7%A5%9D%E7%A6%8F%E3%82%92!\",\n",
        "    \"https://en.wikipedia.org/wiki/Alice_in_Chains\",\n",
        "    \"https://en.wikipedia.org/wiki/Alanis_Morissette\"\n",
        "]\n",
        "\n",
        "load_data(urls, vector_store)"
      ],
      "metadata": {
        "id": "m5UIseN6-BQR"
      },
      "execution_count": 6,
      "outputs": []
    },
    {
      "cell_type": "markdown",
      "source": [
        "### Build graph"
      ],
      "metadata": {
        "id": "UkKH_71j-zb3"
      }
    },
    {
      "cell_type": "code",
      "source": [
        "# define state of langgraph\n",
        "class State(TypedDict):\n",
        "    question: str\n",
        "    context: List[Document]\n",
        "    answer: str\n",
        "\n",
        "# 1st step: retrieve documents in vector db\n",
        "def retrieve(state: State) -> dict:\n",
        "    retrieved_docs = vector_store.similarity_search(state[\"question\"])\n",
        "    return {\"context\": retrieved_docs}\n",
        "\n",
        "# 2nd step: generate response to user's question based on retrieved context\n",
        "def generate(state: State):\n",
        "    \"\"\"\n",
        "    Generate the response based on context\n",
        "    \"\"\"\n",
        "    doc_content = \"\\n\\n\".join([doc.page_content for doc in state[\"context\"]])\n",
        "    # prompt_with_context = rag_prompt.invoke(input={\"context\": doc_content, \"question\": state[\"question\"]})\n",
        "    system_message = (\n",
        "        \"You are an assistant for question-answering tasks. \"\n",
        "        \"Use the following pieces of retrieved context to answer \"\n",
        "        \"the question. If you don't know the answer, just say that you \"\n",
        "        \"don't know, don't try to make up an answer. Use three sentences \"\n",
        "        \"maximum and keep the answer concise. \"\n",
        "        \"\\n\\n\"\n",
        "        f\"{doc_content}\"\n",
        "    )\n",
        "    prompt_with_context = [SystemMessage(content=system_message)] + [HumanMessage(content=state[\"question\"])]\n",
        "    answer = llm.invoke(prompt_with_context)\n",
        "    return {\"answer\": answer.content}\n",
        "\n",
        "# add memory\n",
        "memory = MemorySaver()\n",
        "\n",
        "# compile the graph and test\n",
        "graph_builder = StateGraph(State)\n",
        "graph_builder.add_node(retrieve.__name__, retrieve, metadata={\"stream\": False})\n",
        "graph_builder.add_node(generate.__name__, generate, metadata={\"stream\": True})\n",
        "graph_builder.set_entry_point(retrieve.__name__)\n",
        "graph_builder.add_edge(retrieve.__name__, generate.__name__)\n",
        "graph_builder.add_edge(generate.__name__, END)\n",
        "graph = graph_builder.compile(checkpointer=memory)"
      ],
      "metadata": {
        "id": "uFxdezY6-zt9"
      },
      "execution_count": 7,
      "outputs": []
    },
    {
      "cell_type": "markdown",
      "source": [
        "#### Visualize the graph"
      ],
      "metadata": {
        "id": "6IlfFN4LDLg7"
      }
    },
    {
      "cell_type": "code",
      "source": [
        "display(Image(graph.get_graph().draw_mermaid_png()))"
      ],
      "metadata": {
        "colab": {
          "base_uri": "https://localhost:8080/",
          "height": 434
        },
        "id": "qpC56kiZDGqM",
        "outputId": "e241fa03-95ff-4d39-93f6-94198e291029"
      },
      "execution_count": 8,
      "outputs": [
        {
          "output_type": "display_data",
          "data": {
            "image/png": "[encoded data removed]",
            "text/plain": [
              "<IPython.core.display.Image object>"
            ]
          },
          "metadata": {}
        }
      ]
    },
    {
      "cell_type": "code",
      "source": [
        "start_ui(graph, {\"configurable\": {\"thread_id\": \"duyvm123\"}}, share=False, debug=True)"
      ],
      "metadata": {
        "id": "wIZkdLq5pcO7"
      },
      "execution_count": null,
      "outputs": []
    },
    {
      "cell_type": "markdown",
      "source": [
        "### Testing around with chatbot\n",
        "\n",
        "- Ask something in our documents in Japanese/English/Vietnamese\n",
        "\n",
        "- Ask something new (`Albus Dumbledore`)"
      ],
      "metadata": {
        "id": "iOSoWt9wz5xW"
      }
    },
    {
      "cell_type": "markdown",
      "source": [
        "### Add more data\n",
        "\n",
        "- Add data about Albus Dumbledore and Harry Porter\n",
        "\n",
        "- Try asking: `who is the teen that have a lightning shaped scar on his forehead? His parent are murder when he was just a boy and he can talk to snake?`"
      ],
      "metadata": {
        "id": "PBp3TmWDrNTG"
      }
    },
    {
      "cell_type": "code",
      "source": [
        "# load data from urls\n",
        "urls = [\n",
        "    \"https://en.wikipedia.org/wiki/Albus_Dumbledore\",\n",
        "    \"https://en.wikipedia.org/wiki/Harry_Potter_(character)\",\n",
        "    \"https://en.wikipedia.org/wiki/Hermione_Granger\",\n",
        "    \"https://en.wikipedia.org/wiki/Ron_Weasley\",\n",
        "    \"https://en.wikipedia.org/wiki/Harry_Potter_and_the_Deathly_Hallows\",\n",
        "    \"https://en.wikipedia.org/wiki/Harry_Potter_and_the_Goblet_of_Fire\",\n",
        "    \"https://en.wikipedia.org/wiki/Harry_Potter_and_the_Order_of_the_Phoenix\",\n",
        "\n",
        "]\n",
        "\n",
        "load_data(urls, vector_store)"
      ],
      "metadata": {
        "id": "PIInKSpszzlS"
      },
      "execution_count": 10,
      "outputs": []
    },
    {
      "cell_type": "markdown",
      "source": [
        "### 🧠 Conclude\n",
        "\n",
        "#### **Goods**\n",
        "\n",
        "👍 The app can understand multi-languages\n",
        "\n",
        "👍 The app can understand the variants of the question\n",
        "\n",
        "#### **Need improvement**\n",
        "\n",
        "🤔 We are considering user's question is the whole information for searching in vector db. It can lead to retrieving incorrect informations if the actual information that we want is too small consider to the length of question. How to seperate the actual relevant information piece for searching with the rest in the question.\n",
        "\n",
        "🤔 The accuracy of answer depends a lot on retrieved informations. It can be tricky when stored information and provided information (in question) is not in the same language\n",
        "\n",
        "#### **Some solutions**\n",
        "\n",
        "- Query analysis\n",
        "\n",
        "- Query re-writing\n",
        "\n",
        "- Vector DB with metadata filters\n",
        "\n",
        "- Agentic approach"
      ],
      "metadata": {
        "id": "4CR6Bjo3z4sb"
      }
    },
    {
      "cell_type": "markdown",
      "source": [
        "## Part 1-2: Improvements\n",
        "\n",
        "- Add a query analysis step at the beginning: leverage llm to understand user's intention and extract query keywords\n",
        "\n",
        "  - With this, we can remove irrelevant informations when searching with vector db.\n",
        "\n",
        "  - We also directly response to user if it is not a question.\n",
        "\n",
        "- This implementation is basic and for introduction only. In practice, we should use pre-defined `tool` or agentic approach"
      ],
      "metadata": {
        "id": "bNoHPlc4hWxG"
      }
    },
    {
      "cell_type": "markdown",
      "source": [
        "### Create nodes\n",
        "\n",
        "- Add new nodes and condition check function\n",
        "\n",
        "- Add a field `query` and `is_query` to state"
      ],
      "metadata": {
        "id": "VSHkz7kz2u2I"
      }
    },
    {
      "cell_type": "code",
      "source": [
        "# define state of langgraph\n",
        "class StateWithQuery(TypedDict):\n",
        "    question: str\n",
        "    query: str\n",
        "    context: List[Document]\n",
        "    answer: str\n",
        "    is_query: bool\n",
        "\n",
        "# 1st\n",
        "def query_or_response(state: StateWithQuery):\n",
        "    \"\"\"\n",
        "    Generatate query for retrieval or response directly to user\n",
        "    \"\"\"\n",
        "    system_message = (\n",
        "        \"You are an assistant for query-analysis task. \"\n",
        "        \"You receive the input from user. You analyze the input. \"\n",
        "        \"If it is a question, you pick only relevant query key-words from that question, \"\n",
        "        \"and remove un-needed information and DO NOT ADD any word that not from question.\"\n",
        "        \"If it is not a question, you return with 'NA'\"\n",
        "        \"\\n\\n\"\n",
        "    )\n",
        "    prompt_with_context = [SystemMessage(content=system_message)] + [HumanMessage(content=state[\"question\"])]\n",
        "    answer = llm.invoke(prompt_with_context)\n",
        "\n",
        "    if answer.content.upper() == \"NA\":\n",
        "        state[\"is_query\"] = False\n",
        "        state[\"query\"] = \"\"\n",
        "    else:\n",
        "        state[\"is_query\"] = True\n",
        "        state[\"query\"] = answer.content\n",
        "\n",
        "    return state\n",
        "\n",
        "# 2nd\n",
        "def retrieve(state: StateWithQuery) -> dict:\n",
        "    retrieved_docs = vector_store.similarity_search(state[\"query\"])\n",
        "    return {\"context\": retrieved_docs}\n",
        "\n",
        "# 3rd\n",
        "def generate(state: StateWithQuery):\n",
        "    \"\"\"\n",
        "    Generate the response based on context\n",
        "    \"\"\"\n",
        "    doc_content = \"\\n\\n\".join([doc.page_content for doc in state[\"context\"]])\n",
        "    system_message = (\n",
        "        \"You are an assistant for question-answering tasks. \"\n",
        "        \"Use the following pieces of retrieved context to answer \"\n",
        "        \"the question. If you don't know the answer, just say that you \"\n",
        "        \"don't know, don't try to make up an answer. Use three sentences \"\n",
        "        \"maximum and keep the answer concise. \"\n",
        "        \"\\n\\n\"\n",
        "        f\"{doc_content}\"\n",
        "    )\n",
        "    prompt_with_context = [SystemMessage(content=system_message)] + [HumanMessage(content=state[\"query\"])]\n",
        "    answer = llm.invoke(prompt_with_context)\n",
        "    return {\"answer\": answer.content}\n",
        "\n",
        "def i_don_know(state: StateWithQuery):\n",
        "    \"\"\"\n",
        "    Return I don't know if the answer is not available\n",
        "    \"\"\"\n",
        "    return {\"messages\": [AIMessage(content=\"I don't know about that. Please ask another question.\")]}\n",
        "\n",
        "def is_query(state: StateWithQuery):\n",
        "    if state[\"is_query\"]:\n",
        "        return retrieve.__name__\n",
        "    else:\n",
        "        return i_don_know.__name__"
      ],
      "metadata": {
        "id": "S_arOFeKeQGO"
      },
      "execution_count": 11,
      "outputs": []
    },
    {
      "cell_type": "markdown",
      "source": [
        "### Build graph"
      ],
      "metadata": {
        "id": "2Jf2oeUWz_A3"
      }
    },
    {
      "cell_type": "code",
      "source": [
        "memory2 = MemorySaver()\n",
        "\n",
        "graph_builder = StateGraph(StateWithQuery)\n",
        "\n",
        "# Add each node\n",
        "graph_builder.add_node(query_or_response.__name__, query_or_response, metadata={\"stream\": False})\n",
        "graph_builder.add_node(retrieve.__name__, retrieve, metadata={\"stream\": False})\n",
        "graph_builder.add_node(generate.__name__, generate, metadata={\"stream\": True})\n",
        "graph_builder.add_node(i_don_know.__name__, i_don_know, metadata={\"stream\": True})\n",
        "\n",
        "# Start from query_or_response\n",
        "graph_builder.add_edge(START, query_or_response.__name__)\n",
        "\n",
        "# Conditional edge after query_or_response\n",
        "graph_builder.add_conditional_edges(\n",
        "    query_or_response.__name__,\n",
        "    is_query,\n",
        "    {\n",
        "        retrieve.__name__: retrieve.__name__,\n",
        "        i_don_know.__name__: i_don_know.__name__,\n",
        "    },\n",
        ")\n",
        "\n",
        "# Continue only if retrieve ran\n",
        "graph_builder.add_edge(retrieve.__name__, generate.__name__)\n",
        "graph_builder.add_edge(generate.__name__, END)\n",
        "graph_builder.add_edge(i_don_know.__name__, END)\n",
        "\n",
        "improved_graph = graph_builder.compile(checkpointer=memory2)"
      ],
      "metadata": {
        "id": "fwysqybghtDw"
      },
      "execution_count": 12,
      "outputs": []
    },
    {
      "cell_type": "markdown",
      "source": [
        "### Visualize graph"
      ],
      "metadata": {
        "id": "0D3sR0Gyz1RO"
      }
    },
    {
      "cell_type": "code",
      "source": [
        "display(Image(improved_graph.get_graph().draw_mermaid_png()))"
      ],
      "metadata": {
        "colab": {
          "base_uri": "https://localhost:8080/",
          "height": 575
        },
        "id": "OfEt9kGzz1Yo",
        "outputId": "7760ca07-d660-4d20-fa79-9ba8811b0433"
      },
      "execution_count": 13,
      "outputs": [
        {
          "output_type": "display_data",
          "data": {
            "image/png": "[encoded data removed]",
            "text/plain": [
              "<IPython.core.display.Image object>"
            ]
          },
          "metadata": {}
        }
      ]
    },
    {
      "cell_type": "code",
      "source": [
        "start_ui(improved_graph, {\"configurable\": {\"thread_id\": \"duyvm456\"}}, share=False, debug=True)"
      ],
      "metadata": {
        "colab": {
          "base_uri": "https://localhost:8080/",
          "height": 618
        },
        "id": "e30vulROk94q",
        "outputId": "8cbb16c4-02fb-4f07-ddbc-45d06fab9152"
      },
      "execution_count": 14,
      "outputs": [
        {
          "output_type": "stream",
          "name": "stdout",
          "text": [
            "Colab notebook detected. This cell will run indefinitely so that you can see errors and logs. To turn off, set debug=False in launch().\n",
            "Note: opening Chrome Inspector may crash demo inside Colab notebooks.\n",
            "* To create a public link, set `share=True` in `launch()`.\n"
          ]
        },
        {
          "output_type": "display_data",
          "data": {
            "text/plain": [
              "<IPython.core.display.Javascript object>"
            ],
            "application/javascript": [
              "(async (port, path, width, height, cache, element) => {\n",
              "                        if (!google.colab.kernel.accessAllowed && !cache) {\n",
              "                            return;\n",
              "                        }\n",
              "                        element.appendChild(document.createTextNode(''));\n",
              "                        const url = await google.colab.kernel.proxyPort(port, {cache});\n",
              "\n",
              "                        const external_link = document.createElement('div');\n",
              "                        external_link.innerHTML = `\n",
              "                            <div style=\"font-family: monospace; margin-bottom: 0.5rem\">\n",
              "                                Running on <a href=${new URL(path, url).toString()} target=\"_blank\">\n",
              "                                    https://localhost:${port}${path}\n",
              "                                </a>\n",
              "                            </div>\n",
              "                        `;\n",
              "                        element.appendChild(external_link);\n",
              "\n",
              "                        const iframe = document.createElement('iframe');\n",
              "                        iframe.src = new URL(path, url).toString();\n",
              "                        iframe.height = height;\n",
              "                        iframe.allow = \"autoplay; camera; microphone; clipboard-read; clipboard-write;\"\n",
              "                        iframe.width = width;\n",
              "                        iframe.style.border = 0;\n",
              "                        element.appendChild(iframe);\n",
              "                    })(7860, \"/\", \"100%\", 500, false, window.element)"
            ]
          },
          "metadata": {}
        },
        {
          "output_type": "stream",
          "name": "stdout",
          "text": [
            "Keyboard interruption in main thread... closing server.\n"
          ]
        }
      ]
    },
    {
      "cell_type": "markdown",
      "source": [
        "### 🧠 Conclude\n",
        "\n",
        "#### **Goods**\n",
        "\n",
        "👍 The app now can understand user's question and pick the right keyword for querying\n",
        "\n",
        "#### **Even better**\n",
        "\n",
        "- Agentic approach"
      ],
      "metadata": {
        "id": "S6Lqzwtm3P1W"
      }
    },
    {
      "cell_type": "markdown",
      "source": [
        "# Part 2: RAG with relational data (structured data search)\n",
        "\n",
        "- Knowledge base: normal relational database\n",
        "\n",
        "  - In this example I use serverless db `sqlite` with [`Chinook` db](https://www.sqlitetutorial.net/sqlite-sample-database/)\n",
        "\n",
        "- Llm model: `gpt-4o-mini` of `openai`\n",
        "\n",
        "- User interacts with chatbot\n",
        "\n",
        "- Basic functionalities:\n",
        "\n",
        "  1. Understand user's question\n",
        "\n",
        "  2. Transform to SQL query\n",
        "\n",
        "  3. Execute query\n",
        "\n",
        "  4. Answer user's question based on result of query"
      ],
      "metadata": {
        "id": "fLH7WcMv6D1V"
      }
    },
    {
      "cell_type": "markdown",
      "source": [
        "### Download and build the database\n",
        "\n",
        "- Guide here: [2 Sample Databases for SQLite](https://database.guide/2-sample-databases-sqlite/)"
      ],
      "metadata": {
        "id": "Z6BBIHlRArpL"
      }
    },
    {
      "cell_type": "code",
      "source": [
        "!sudo apt-get install sqlite3\n",
        "!curl -s https://raw.githubusercontent.com/lerocha/chinook-database/master/ChinookDatabase/DataSources/Chinook_Sqlite.sql | sqlite3 Chinook.db"
      ],
      "metadata": {
        "id": "Ks3n-l_FljN_",
        "colab": {
          "base_uri": "https://localhost:8080/"
        },
        "outputId": "ae88e936-a063-4597-86a1-ec71e89d15c7"
      },
      "execution_count": 15,
      "outputs": [
        {
          "output_type": "stream",
          "name": "stdout",
          "text": [
            "Reading package lists... Done\n",
            "Building dependency tree... Done\n",
            "Reading state information... Done\n",
            "sqlite3 is already the newest version (3.37.2-2ubuntu0.4).\n",
            "0 upgraded, 0 newly installed, 0 to remove and 35 not upgraded.\n"
          ]
        }
      ]
    },
    {
      "cell_type": "markdown",
      "source": [
        "### Let take a look at the Chinook DB"
      ],
      "metadata": {
        "id": "ukwB0OXPAzva"
      }
    },
    {
      "cell_type": "code",
      "source": [
        "# load the database and testing\n",
        "from langchain_community.utilities import SQLDatabase\n",
        "\n",
        "db = SQLDatabase.from_uri(\"sqlite:///Chinook.db\")\n",
        "print(db.dialect)\n",
        "print()\n",
        "print(db.get_usable_table_names())\n",
        "print()\n",
        "print(db.get_table_info())"
      ],
      "metadata": {
        "colab": {
          "base_uri": "https://localhost:8080/"
        },
        "id": "6dtAq0vkAzMw",
        "outputId": "9d6f8aa0-3486-4bf0-e03c-45e352d33ea5"
      },
      "execution_count": 16,
      "outputs": [
        {
          "output_type": "stream",
          "name": "stdout",
          "text": [
            "sqlite\n",
            "\n",
            "['Album', 'Artist', 'Customer', 'Employee', 'Genre', 'Invoice', 'InvoiceLine', 'MediaType', 'Playlist', 'PlaylistTrack', 'Track']\n",
            "\n",
            "\n",
            "CREATE TABLE \"Album\" (\n",
            "\t\"AlbumId\" INTEGER NOT NULL, \n",
            "\t\"Title\" NVARCHAR(160) NOT NULL, \n",
            "\t\"ArtistId\" INTEGER NOT NULL, \n",
            "\tPRIMARY KEY (\"AlbumId\"), \n",
            "\tFOREIGN KEY(\"ArtistId\") REFERENCES \"Artist\" (\"ArtistId\")\n",
            ")\n",
            "\n",
            "/*\n",
            "3 rows from Album table:\n",
            "AlbumId\tTitle\tArtistId\n",
            "1\tFor Those About To Rock We Salute You\t1\n",
            "2\tBalls to the Wall\t2\n",
            "3\tRestless and Wild\t2\n",
            "*/\n",
            "\n",
            "\n",
            "CREATE TABLE \"Artist\" (\n",
            "\t\"ArtistId\" INTEGER NOT NULL, \n",
            "\t\"Name\" NVARCHAR(120), \n",
            "\tPRIMARY KEY (\"ArtistId\")\n",
            ")\n",
            "\n",
            "/*\n",
            "3 rows from Artist table:\n",
            "ArtistId\tName\n",
            "1\tAC/DC\n",
            "2\tAccept\n",
            "3\tAerosmith\n",
            "*/\n",
            "\n",
            "\n",
            "CREATE TABLE \"Customer\" (\n",
            "\t\"CustomerId\" INTEGER NOT NULL, \n",
            "\t\"FirstName\" NVARCHAR(40) NOT NULL, \n",
            "\t\"LastName\" NVARCHAR(20) NOT NULL, \n",
            "\t\"Company\" NVARCHAR(80), \n",
            "\t\"Address\" NVARCHAR(70), \n",
            "\t\"City\" NVARCHAR(40), \n",
            "\t\"State\" NVARCHAR(40), \n",
            "\t\"Country\" NVARCHAR(40), \n",
            "\t\"PostalCode\" NVARCHAR(10), \n",
            "\t\"Phone\" NVARCHAR(24), \n",
            "\t\"Fax\" NVARCHAR(24), \n",
            "\t\"Email\" NVARCHAR(60) NOT NULL, \n",
            "\t\"SupportRepId\" INTEGER, \n",
            "\tPRIMARY KEY (\"CustomerId\"), \n",
            "\tFOREIGN KEY(\"SupportRepId\") REFERENCES \"Employee\" (\"EmployeeId\")\n",
            ")\n",
            "\n",
            "/*\n",
            "3 rows from Customer table:\n",
            "CustomerId\tFirstName\tLastName\tCompany\tAddress\tCity\tState\tCountry\tPostalCode\tPhone\tFax\tEmail\tSupportRepId\n",
            "1\tLuís\tGonçalves\tEmbraer - Empresa Brasileira de Aeronáutica S.A.\tAv. Brigadeiro Faria Lima, 2170\tSão José dos Campos\tSP\tBrazil\t12227-000\t+55 (12) 3923-5555\t+55 (12) 3923-5566\tluisg@embraer.com.br\t3\n",
            "2\tLeonie\tKöhler\tNone\tTheodor-Heuss-Straße 34\tStuttgart\tNone\tGermany\t70174\t+49 0711 2842222\tNone\tleonekohler@surfeu.de\t5\n",
            "3\tFrançois\tTremblay\tNone\t1498 rue Bélanger\tMontréal\tQC\tCanada\tH2G 1A7\t+1 (514) 721-4711\tNone\tftremblay@gmail.com\t3\n",
            "*/\n",
            "\n",
            "\n",
            "CREATE TABLE \"Employee\" (\n",
            "\t\"EmployeeId\" INTEGER NOT NULL, \n",
            "\t\"LastName\" NVARCHAR(20) NOT NULL, \n",
            "\t\"FirstName\" NVARCHAR(20) NOT NULL, \n",
            "\t\"Title\" NVARCHAR(30), \n",
            "\t\"ReportsTo\" INTEGER, \n",
            "\t\"BirthDate\" DATETIME, \n",
            "\t\"HireDate\" DATETIME, \n",
            "\t\"Address\" NVARCHAR(70), \n",
            "\t\"City\" NVARCHAR(40), \n",
            "\t\"State\" NVARCHAR(40), \n",
            "\t\"Country\" NVARCHAR(40), \n",
            "\t\"PostalCode\" NVARCHAR(10), \n",
            "\t\"Phone\" NVARCHAR(24), \n",
            "\t\"Fax\" NVARCHAR(24), \n",
            "\t\"Email\" NVARCHAR(60), \n",
            "\tPRIMARY KEY (\"EmployeeId\"), \n",
            "\tFOREIGN KEY(\"ReportsTo\") REFERENCES \"Employee\" (\"EmployeeId\")\n",
            ")\n",
            "\n",
            "/*\n",
            "3 rows from Employee table:\n",
            "EmployeeId\tLastName\tFirstName\tTitle\tReportsTo\tBirthDate\tHireDate\tAddress\tCity\tState\tCountry\tPostalCode\tPhone\tFax\tEmail\n",
            "1\tAdams\tAndrew\tGeneral Manager\tNone\t1962-02-18 00:00:00\t2002-08-14 00:00:00\t11120 Jasper Ave NW\tEdmonton\tAB\tCanada\tT5K 2N1\t+1 (780) 428-9482\t+1 (780) 428-3457\tandrew@chinookcorp.com\n",
            "2\tEdwards\tNancy\tSales Manager\t1\t1958-12-08 00:00:00\t2002-05-01 00:00:00\t825 8 Ave SW\tCalgary\tAB\tCanada\tT2P 2T3\t+1 (403) 262-3443\t+1 (403) 262-3322\tnancy@chinookcorp.com\n",
            "3\tPeacock\tJane\tSales Support Agent\t2\t1973-08-29 00:00:00\t2002-04-01 00:00:00\t1111 6 Ave SW\tCalgary\tAB\tCanada\tT2P 5M5\t+1 (403) 262-3443\t+1 (403) 262-6712\tjane@chinookcorp.com\n",
            "*/\n",
            "\n",
            "\n",
            "CREATE TABLE \"Genre\" (\n",
            "\t\"GenreId\" INTEGER NOT NULL, \n",
            "\t\"Name\" NVARCHAR(120), \n",
            "\tPRIMARY KEY (\"GenreId\")\n",
            ")\n",
            "\n",
            "/*\n",
            "3 rows from Genre table:\n",
            "GenreId\tName\n",
            "1\tRock\n",
            "2\tJazz\n",
            "3\tMetal\n",
            "*/\n",
            "\n",
            "\n",
            "CREATE TABLE \"Invoice\" (\n",
            "\t\"InvoiceId\" INTEGER NOT NULL, \n",
            "\t\"CustomerId\" INTEGER NOT NULL, \n",
            "\t\"InvoiceDate\" DATETIME NOT NULL, \n",
            "\t\"BillingAddress\" NVARCHAR(70), \n",
            "\t\"BillingCity\" NVARCHAR(40), \n",
            "\t\"BillingState\" NVARCHAR(40), \n",
            "\t\"BillingCountry\" NVARCHAR(40), \n",
            "\t\"BillingPostalCode\" NVARCHAR(10), \n",
            "\t\"Total\" NUMERIC(10, 2) NOT NULL, \n",
            "\tPRIMARY KEY (\"InvoiceId\"), \n",
            "\tFOREIGN KEY(\"CustomerId\") REFERENCES \"Customer\" (\"CustomerId\")\n",
            ")\n",
            "\n",
            "/*\n",
            "3 rows from Invoice table:\n",
            "InvoiceId\tCustomerId\tInvoiceDate\tBillingAddress\tBillingCity\tBillingState\tBillingCountry\tBillingPostalCode\tTotal\n",
            "1\t2\t2021-01-01 00:00:00\tTheodor-Heuss-Straße 34\tStuttgart\tNone\tGermany\t70174\t1.98\n",
            "2\t4\t2021-01-02 00:00:00\tUllevålsveien 14\tOslo\tNone\tNorway\t0171\t3.96\n",
            "3\t8\t2021-01-03 00:00:00\tGrétrystraat 63\tBrussels\tNone\tBelgium\t1000\t5.94\n",
            "*/\n",
            "\n",
            "\n",
            "CREATE TABLE \"InvoiceLine\" (\n",
            "\t\"InvoiceLineId\" INTEGER NOT NULL, \n",
            "\t\"InvoiceId\" INTEGER NOT NULL, \n",
            "\t\"TrackId\" INTEGER NOT NULL, \n",
            "\t\"UnitPrice\" NUMERIC(10, 2) NOT NULL, \n",
            "\t\"Quantity\" INTEGER NOT NULL, \n",
            "\tPRIMARY KEY (\"InvoiceLineId\"), \n",
            "\tFOREIGN KEY(\"TrackId\") REFERENCES \"Track\" (\"TrackId\"), \n",
            "\tFOREIGN KEY(\"InvoiceId\") REFERENCES \"Invoice\" (\"InvoiceId\")\n",
            ")\n",
            "\n",
            "/*\n",
            "3 rows from InvoiceLine table:\n",
            "InvoiceLineId\tInvoiceId\tTrackId\tUnitPrice\tQuantity\n",
            "1\t1\t2\t0.99\t1\n",
            "2\t1\t4\t0.99\t1\n",
            "3\t2\t6\t0.99\t1\n",
            "*/\n",
            "\n",
            "\n",
            "CREATE TABLE \"MediaType\" (\n",
            "\t\"MediaTypeId\" INTEGER NOT NULL, \n",
            "\t\"Name\" NVARCHAR(120), \n",
            "\tPRIMARY KEY (\"MediaTypeId\")\n",
            ")\n",
            "\n",
            "/*\n",
            "3 rows from MediaType table:\n",
            "MediaTypeId\tName\n",
            "1\tMPEG audio file\n",
            "2\tProtected AAC audio file\n",
            "3\tProtected MPEG-4 video file\n",
            "*/\n",
            "\n",
            "\n",
            "CREATE TABLE \"Playlist\" (\n",
            "\t\"PlaylistId\" INTEGER NOT NULL, \n",
            "\t\"Name\" NVARCHAR(120), \n",
            "\tPRIMARY KEY (\"PlaylistId\")\n",
            ")\n",
            "\n",
            "/*\n",
            "3 rows from Playlist table:\n",
            "PlaylistId\tName\n",
            "1\tMusic\n",
            "2\tMovies\n",
            "3\tTV Shows\n",
            "*/\n",
            "\n",
            "\n",
            "CREATE TABLE \"PlaylistTrack\" (\n",
            "\t\"PlaylistId\" INTEGER NOT NULL, \n",
            "\t\"TrackId\" INTEGER NOT NULL, \n",
            "\tPRIMARY KEY (\"PlaylistId\", \"TrackId\"), \n",
            "\tFOREIGN KEY(\"TrackId\") REFERENCES \"Track\" (\"TrackId\"), \n",
            "\tFOREIGN KEY(\"PlaylistId\") REFERENCES \"Playlist\" (\"PlaylistId\")\n",
            ")\n",
            "\n",
            "/*\n",
            "3 rows from PlaylistTrack table:\n",
            "PlaylistId\tTrackId\n",
            "1\t3402\n",
            "1\t3389\n",
            "1\t3390\n",
            "*/\n",
            "\n",
            "\n",
            "CREATE TABLE \"Track\" (\n",
            "\t\"TrackId\" INTEGER NOT NULL, \n",
            "\t\"Name\" NVARCHAR(200) NOT NULL, \n",
            "\t\"AlbumId\" INTEGER, \n",
            "\t\"MediaTypeId\" INTEGER NOT NULL, \n",
            "\t\"GenreId\" INTEGER, \n",
            "\t\"Composer\" NVARCHAR(220), \n",
            "\t\"Milliseconds\" INTEGER NOT NULL, \n",
            "\t\"Bytes\" INTEGER, \n",
            "\t\"UnitPrice\" NUMERIC(10, 2) NOT NULL, \n",
            "\tPRIMARY KEY (\"TrackId\"), \n",
            "\tFOREIGN KEY(\"MediaTypeId\") REFERENCES \"MediaType\" (\"MediaTypeId\"), \n",
            "\tFOREIGN KEY(\"GenreId\") REFERENCES \"Genre\" (\"GenreId\"), \n",
            "\tFOREIGN KEY(\"AlbumId\") REFERENCES \"Album\" (\"AlbumId\")\n",
            ")\n",
            "\n",
            "/*\n",
            "3 rows from Track table:\n",
            "TrackId\tName\tAlbumId\tMediaTypeId\tGenreId\tComposer\tMilliseconds\tBytes\tUnitPrice\n",
            "1\tFor Those About To Rock (We Salute You)\t1\t1\t1\tAngus Young, Malcolm Young, Brian Johnson\t343719\t11170334\t0.99\n",
            "2\tBalls to the Wall\t2\t2\t1\tU. Dirkschneider, W. Hoffmann, H. Frank, P. Baltes, S. Kaufmann, G. Hoffmann\t342562\t5510424\t0.99\n",
            "3\tFast As a Shark\t3\t2\t1\tF. Baltes, S. Kaufman, U. Dirkscneider & W. Hoffman\t230619\t3990994\t0.99\n",
            "*/\n"
          ]
        }
      ]
    },
    {
      "cell_type": "markdown",
      "source": [
        "#### Visualize ER diagram"
      ],
      "metadata": {
        "id": "8bWUQm7EEMUy"
      }
    },
    {
      "cell_type": "code",
      "source": [
        "!pip install -qU schemadisplay-magic"
      ],
      "metadata": {
        "id": "JKesFexVBket"
      },
      "execution_count": 17,
      "outputs": []
    },
    {
      "cell_type": "code",
      "source": [
        "%load_ext schemadisplay_magic\n",
        "%schema --connection_string sqlite:///Chinook.db"
      ],
      "metadata": {
        "colab": {
          "base_uri": "https://localhost:8080/",
          "height": 680
        },
        "id": "MXnHd438ClRE",
        "outputId": "2b2f764f-6c66-49bd-ceb3-81dff6949e4e"
      },
      "execution_count": 18,
      "outputs": [
        {
          "output_type": "execute_result",
          "data": {
            "image/svg+xml": "<?xml version=\"1.0\" encoding=\"UTF-8\" standalone=\"no\"?>\n<!DOCTYPE svg PUBLIC \"-//W3C//DTD SVG 1.1//EN\"\n \"http://www.w3.org/Graphics/SVG/1.1/DTD/svg11.dtd\">\n<!-- Generated by graphviz version 2.43.0 (0)\n -->\n<!-- Title: G Pages: 1 -->\n<svg width=\"738pt\" height=\"494pt\"\n viewBox=\"0.00 0.00 738.00 494.00\" xmlns=\"http://www.w3.org/2000/svg\" xmlns:xlink=\"http://www.w3.org/1999/xlink\">\n<g id=\"graph0\" class=\"graph\" transform=\"scale(1 1) rotate(0) translate(4 490)\">\n<title>G</title>\n<polygon fill=\"white\" stroke=\"transparent\" points=\"-4,4 -4,-490 734,-490 734,4 -4,4\"/>\n<!-- Album -->\n<g id=\"node1\" class=\"node\">\n<title>Album</title>\n<text text-anchor=\"start\" x=\"464.5\" y=\"-275.4\" font-family=\"Bitstream-Vera Sans\" font-size=\"7.00\">Album</text>\n<polygon fill=\"none\" stroke=\"black\" points=\"419.5,-269 419.5,-271 532.5,-271 532.5,-269 419.5,-269\"/>\n<text text-anchor=\"start\" x=\"421.5\" y=\"-261.4\" font-family=\"Bitstream-Vera Sans\" font-size=\"7.00\">&#45; AlbumId(PK) : INTEGER</text>\n<text text-anchor=\"start\" x=\"421.5\" y=\"-249.4\" font-family=\"Bitstream-Vera Sans\" font-size=\"7.00\">&#45; Title : NVARCHAR(160)</text>\n<text text-anchor=\"start\" x=\"421.5\" y=\"-237.4\" font-family=\"Bitstream-Vera Sans\" font-size=\"7.00\">&#45; ArtistId(FK) : INTEGER</text>\n<polygon fill=\"none\" stroke=\"black\" points=\"418,-232 418,-284 533,-284 533,-232 418,-232\"/>\n</g>\n<!-- Artist -->\n<g id=\"node2\" class=\"node\">\n<title>Artist</title>\n<text text-anchor=\"start\" x=\"644.5\" y=\"-275.4\" font-family=\"Bitstream-Vera Sans\" font-size=\"7.00\">Artist</text>\n<polygon fill=\"none\" stroke=\"black\" points=\"602,-269 602,-271 715,-271 715,-269 602,-269\"/>\n<text text-anchor=\"start\" x=\"604\" y=\"-261.4\" font-family=\"Bitstream-Vera Sans\" font-size=\"7.00\">&#45; ArtistId(PK) : INTEGER</text>\n<text text-anchor=\"start\" x=\"604\" y=\"-249.4\" font-family=\"Bitstream-Vera Sans\" font-size=\"7.00\">&#45; Name : NVARCHAR(120)</text>\n<polygon fill=\"none\" stroke=\"black\" points=\"600.5,-244 600.5,-284 715.5,-284 715.5,-244 600.5,-244\"/>\n</g>\n<!-- Album&#45;&gt;Artist -->\n<g id=\"edge1\" class=\"edge\">\n<title>Album&#45;&gt;Artist</title>\n<path fill=\"none\" stroke=\"black\" d=\"M551.46,-260.49C562.32,-260.85 573.49,-261.22 584.3,-261.58\"/>\n<polygon fill=\"black\" stroke=\"black\" points=\"551.15,-260.48 541.3,-255.65 546.15,-260.32 541.15,-260.15 541.15,-260.15 541.15,-260.15 546.15,-260.32 541.01,-264.65 551.15,-260.48 551.15,-260.48\"/>\n<ellipse fill=\"none\" stroke=\"black\" cx=\"588.5\" cy=\"-261.72\" rx=\"4\" ry=\"4\"/>\n<text text-anchor=\"middle\" x=\"569.49\" y=\"-264.26\" font-family=\"Bitstream-Vera Sans\" font-size=\"7.00\">+ ArtistId</text>\n<text text-anchor=\"middle\" x=\"564.15\" y=\"-254.55\" font-family=\"Bitstream-Vera Sans\" font-size=\"7.00\">+ ArtistId</text>\n</g>\n<!-- Customer -->\n<g id=\"node3\" class=\"node\">\n<title>Customer</title>\n<text text-anchor=\"start\" x=\"457.5\" y=\"-191.4\" font-family=\"Bitstream-Vera Sans\" font-size=\"7.00\">Customer</text>\n<polygon fill=\"none\" stroke=\"black\" points=\"410.5,-185 410.5,-187 541.5,-187 541.5,-185 410.5,-185\"/>\n<text text-anchor=\"start\" x=\"412.5\" y=\"-177.4\" font-family=\"Bitstream-Vera Sans\" font-size=\"7.00\">&#45; CustomerId(PK) : INTEGER</text>\n<text text-anchor=\"start\" x=\"412.5\" y=\"-165.4\" font-family=\"Bitstream-Vera Sans\" font-size=\"7.00\">&#45; FirstName : NVARCHAR(40)</text>\n<text text-anchor=\"start\" x=\"412.5\" y=\"-153.4\" font-family=\"Bitstream-Vera Sans\" font-size=\"7.00\">&#45; LastName : NVARCHAR(20)</text>\n<text text-anchor=\"start\" x=\"412.5\" y=\"-141.4\" font-family=\"Bitstream-Vera Sans\" font-size=\"7.00\">&#45; Company : NVARCHAR(80)</text>\n<text text-anchor=\"start\" x=\"412.5\" y=\"-129.4\" font-family=\"Bitstream-Vera Sans\" font-size=\"7.00\">&#45; Address : NVARCHAR(70)</text>\n<text text-anchor=\"start\" x=\"412.5\" y=\"-117.4\" font-family=\"Bitstream-Vera Sans\" font-size=\"7.00\">&#45; City : NVARCHAR(40)</text>\n<text text-anchor=\"start\" x=\"412.5\" y=\"-105.4\" font-family=\"Bitstream-Vera Sans\" font-size=\"7.00\">&#45; State : NVARCHAR(40)</text>\n<text text-anchor=\"start\" x=\"412.5\" y=\"-93.4\" font-family=\"Bitstream-Vera Sans\" font-size=\"7.00\">&#45; Country : NVARCHAR(40)</text>\n<text text-anchor=\"start\" x=\"412.5\" y=\"-81.4\" font-family=\"Bitstream-Vera Sans\" font-size=\"7.00\">&#45; PostalCode : NVARCHAR(10)</text>\n<text text-anchor=\"start\" x=\"412.5\" y=\"-69.4\" font-family=\"Bitstream-Vera Sans\" font-size=\"7.00\">&#45; Phone : NVARCHAR(24)</text>\n<text text-anchor=\"start\" x=\"412.5\" y=\"-57.4\" font-family=\"Bitstream-Vera Sans\" font-size=\"7.00\">&#45; Fax : NVARCHAR(24)</text>\n<text text-anchor=\"start\" x=\"412.5\" y=\"-45.4\" font-family=\"Bitstream-Vera Sans\" font-size=\"7.00\">&#45; Email : NVARCHAR(60)</text>\n<text text-anchor=\"start\" x=\"412.5\" y=\"-33.4\" font-family=\"Bitstream-Vera Sans\" font-size=\"7.00\">&#45; SupportRepId(FK) : INTEGER</text>\n<polygon fill=\"none\" stroke=\"black\" points=\"409,-28 409,-200 542,-200 542,-28 409,-28\"/>\n</g>\n<!-- Employee -->\n<g id=\"node4\" class=\"node\">\n<title>Employee</title>\n<text text-anchor=\"start\" x=\"639.5\" y=\"-191.4\" font-family=\"Bitstream-Vera Sans\" font-size=\"7.00\">Employee</text>\n<polygon fill=\"none\" stroke=\"black\" points=\"595,-185 595,-187 721,-187 721,-185 595,-185\"/>\n<text text-anchor=\"start\" x=\"597\" y=\"-177.4\" font-family=\"Bitstream-Vera Sans\" font-size=\"7.00\">&#45; EmployeeId(PK) : INTEGER</text>\n<text text-anchor=\"start\" x=\"597\" y=\"-165.4\" font-family=\"Bitstream-Vera Sans\" font-size=\"7.00\">&#45; LastName : NVARCHAR(20)</text>\n<text text-anchor=\"start\" x=\"597\" y=\"-153.4\" font-family=\"Bitstream-Vera Sans\" font-size=\"7.00\">&#45; FirstName : NVARCHAR(20)</text>\n<text text-anchor=\"start\" x=\"597\" y=\"-141.4\" font-family=\"Bitstream-Vera Sans\" font-size=\"7.00\">&#45; Title : NVARCHAR(30)</text>\n<text text-anchor=\"start\" x=\"597\" y=\"-129.4\" font-family=\"Bitstream-Vera Sans\" font-size=\"7.00\">&#45; ReportsTo(FK) : INTEGER</text>\n<text text-anchor=\"start\" x=\"597\" y=\"-117.4\" font-family=\"Bitstream-Vera Sans\" font-size=\"7.00\">&#45; BirthDate : DATETIME</text>\n<text text-anchor=\"start\" x=\"597\" y=\"-105.4\" font-family=\"Bitstream-Vera Sans\" font-size=\"7.00\">&#45; HireDate : DATETIME</text>\n<text text-anchor=\"start\" x=\"597\" y=\"-93.4\" font-family=\"Bitstream-Vera Sans\" font-size=\"7.00\">&#45; Address : NVARCHAR(70)</text>\n<text text-anchor=\"start\" x=\"597\" y=\"-81.4\" font-family=\"Bitstream-Vera Sans\" font-size=\"7.00\">&#45; City : NVARCHAR(40)</text>\n<text text-anchor=\"start\" x=\"597\" y=\"-69.4\" font-family=\"Bitstream-Vera Sans\" font-size=\"7.00\">&#45; State : NVARCHAR(40)</text>\n<text text-anchor=\"start\" x=\"597\" y=\"-57.4\" font-family=\"Bitstream-Vera Sans\" font-size=\"7.00\">&#45; Country : NVARCHAR(40)</text>\n<text text-anchor=\"start\" x=\"597\" y=\"-45.4\" font-family=\"Bitstream-Vera Sans\" font-size=\"7.00\">&#45; PostalCode : NVARCHAR(10)</text>\n<text text-anchor=\"start\" x=\"597\" y=\"-33.4\" font-family=\"Bitstream-Vera Sans\" font-size=\"7.00\">&#45; Phone : NVARCHAR(24)</text>\n<text text-anchor=\"start\" x=\"597\" y=\"-21.4\" font-family=\"Bitstream-Vera Sans\" font-size=\"7.00\">&#45; Fax : NVARCHAR(24)</text>\n<text text-anchor=\"start\" x=\"597\" y=\"-9.4\" font-family=\"Bitstream-Vera Sans\" font-size=\"7.00\">&#45; Email : NVARCHAR(60)</text>\n<polygon fill=\"none\" stroke=\"black\" points=\"594,-4 594,-200 722,-200 722,-4 594,-4\"/>\n</g>\n<!-- Customer&#45;&gt;Employee -->\n<g id=\"edge2\" class=\"edge\">\n<title>Customer&#45;&gt;Employee</title>\n<path fill=\"none\" stroke=\"black\" d=\"M560.2,-108.44C565.97,-108.05 571.78,-107.67 577.53,-107.28\"/>\n<polygon fill=\"black\" stroke=\"black\" points=\"560.15,-108.44 549.88,-104.61 555.17,-108.77 550.18,-109.1 550.18,-109.1 550.18,-109.1 555.17,-108.77 550.48,-113.59 560.15,-108.44 560.15,-108.44\"/>\n<ellipse fill=\"none\" stroke=\"black\" cx=\"581.9\" cy=\"-106.99\" rx=\"4\" ry=\"4\"/>\n<text text-anchor=\"middle\" x=\"558.39\" y=\"-101.13\" font-family=\"Bitstream-Vera Sans\" font-size=\"7.00\">+ EmployeeId</text>\n<text text-anchor=\"middle\" x=\"582.18\" y=\"-103.5\" font-family=\"Bitstream-Vera Sans\" font-size=\"7.00\">+ SupportRepId</text>\n</g>\n<!-- Employee&#45;&gt;Employee -->\n<g id=\"edge3\" class=\"edge\">\n<title>Employee&#45;&gt;Employee</title>\n<path fill=\"none\" stroke=\"black\" d=\"M635.67,-212.86C641.19,-218.61 648.63,-222 658,-222 668.21,-222 676.12,-217.98 681.75,-211.28\"/>\n<polygon fill=\"black\" stroke=\"black\" points=\"635.48,-212.59 633.4,-201.83 632.6,-208.51 629.73,-204.42 629.73,-204.42 629.73,-204.42 632.6,-208.51 626.05,-207.01 635.48,-212.59 635.48,-212.59\"/>\n<ellipse fill=\"none\" stroke=\"black\" cx=\"684.07\" cy=\"-207.76\" rx=\"4\" ry=\"4\"/>\n<text text-anchor=\"middle\" x=\"658.77\" y=\"-206.82\" font-family=\"Bitstream-Vera Sans\" font-size=\"7.00\">+ EmployeeId</text>\n<text text-anchor=\"middle\" x=\"604.73\" y=\"-206.82\" font-family=\"Bitstream-Vera Sans\" font-size=\"7.00\">+ ReportsTo</text>\n</g>\n<!-- Genre -->\n<g id=\"node5\" class=\"node\">\n<title>Genre</title>\n<text text-anchor=\"start\" x=\"464\" y=\"-407.4\" font-family=\"Bitstream-Vera Sans\" font-size=\"7.00\">Genre</text>\n<polygon fill=\"none\" stroke=\"black\" points=\"421.5,-401 421.5,-403 529.5,-403 529.5,-401 421.5,-401\"/>\n<text text-anchor=\"start\" x=\"423.5\" y=\"-393.4\" font-family=\"Bitstream-Vera Sans\" font-size=\"7.00\">&#45; GenreId(PK) : INTEGER</text>\n<text text-anchor=\"start\" x=\"423.5\" y=\"-381.4\" font-family=\"Bitstream-Vera Sans\" font-size=\"7.00\">&#45; Name : NVARCHAR(120)</text>\n<polygon fill=\"none\" stroke=\"black\" points=\"420.5,-376 420.5,-416 530.5,-416 530.5,-376 420.5,-376\"/>\n</g>\n<!-- Invoice -->\n<g id=\"node6\" class=\"node\">\n<title>Invoice</title>\n<text text-anchor=\"start\" x=\"261\" y=\"-203.4\" font-family=\"Bitstream-Vera Sans\" font-size=\"7.00\">Invoice</text>\n<polygon fill=\"none\" stroke=\"black\" points=\"198,-197 198,-199 356,-199 356,-197 198,-197\"/>\n<text text-anchor=\"start\" x=\"200\" y=\"-189.4\" font-family=\"Bitstream-Vera Sans\" font-size=\"7.00\">&#45; InvoiceId(PK) : INTEGER</text>\n<text text-anchor=\"start\" x=\"200\" y=\"-177.4\" font-family=\"Bitstream-Vera Sans\" font-size=\"7.00\">&#45; CustomerId(FK) : INTEGER</text>\n<text text-anchor=\"start\" x=\"200\" y=\"-165.4\" font-family=\"Bitstream-Vera Sans\" font-size=\"7.00\">&#45; InvoiceDate : DATETIME</text>\n<text text-anchor=\"start\" x=\"200\" y=\"-153.4\" font-family=\"Bitstream-Vera Sans\" font-size=\"7.00\">&#45; BillingAddress : NVARCHAR(70)</text>\n<text text-anchor=\"start\" x=\"200\" y=\"-141.4\" font-family=\"Bitstream-Vera Sans\" font-size=\"7.00\">&#45; BillingCity : NVARCHAR(40)</text>\n<text text-anchor=\"start\" x=\"200\" y=\"-129.4\" font-family=\"Bitstream-Vera Sans\" font-size=\"7.00\">&#45; BillingState : NVARCHAR(40)</text>\n<text text-anchor=\"start\" x=\"200\" y=\"-117.4\" font-family=\"Bitstream-Vera Sans\" font-size=\"7.00\">&#45; BillingCountry : NVARCHAR(40)</text>\n<text text-anchor=\"start\" x=\"200\" y=\"-105.4\" font-family=\"Bitstream-Vera Sans\" font-size=\"7.00\">&#45; BillingPostalCode : NVARCHAR(10)</text>\n<text text-anchor=\"start\" x=\"200\" y=\"-93.4\" font-family=\"Bitstream-Vera Sans\" font-size=\"7.00\">&#45; Total : NUMERIC(10, 2)</text>\n<polygon fill=\"none\" stroke=\"black\" points=\"197,-88 197,-212 357,-212 357,-88 197,-88\"/>\n</g>\n<!-- Invoice&#45;&gt;Customer -->\n<g id=\"edge4\" class=\"edge\">\n<title>Invoice&#45;&gt;Customer</title>\n<path fill=\"none\" stroke=\"black\" d=\"M375.13,-132.21C381.05,-131.12 386.97,-130.04 392.82,-128.97\"/>\n<polygon fill=\"black\" stroke=\"black\" points=\"374.88,-132.25 364.23,-129.63 369.96,-133.15 365.05,-134.05 365.05,-134.05 365.05,-134.05 369.96,-133.15 365.86,-138.48 374.88,-132.25 374.88,-132.25\"/>\n<ellipse fill=\"none\" stroke=\"black\" cx=\"396.79\" cy=\"-128.24\" rx=\"4\" ry=\"4\"/>\n<text text-anchor=\"middle\" x=\"373.23\" y=\"-121.92\" font-family=\"Bitstream-Vera Sans\" font-size=\"7.00\">+ CustomerId</text>\n<text text-anchor=\"middle\" x=\"392.55\" y=\"-128.45\" font-family=\"Bitstream-Vera Sans\" font-size=\"7.00\">+ CustomerId</text>\n</g>\n<!-- InvoiceLine -->\n<g id=\"node7\" class=\"node\">\n<title>InvoiceLine</title>\n<text text-anchor=\"start\" x=\"52\" y=\"-254.4\" font-family=\"Bitstream-Vera Sans\" font-size=\"7.00\">InvoiceLine</text>\n<polygon fill=\"none\" stroke=\"black\" points=\"9.5,-248 9.5,-250 144.5,-250 144.5,-248 9.5,-248\"/>\n<text text-anchor=\"start\" x=\"11.5\" y=\"-240.4\" font-family=\"Bitstream-Vera Sans\" font-size=\"7.00\">&#45; InvoiceLineId(PK) : INTEGER</text>\n<text text-anchor=\"start\" x=\"11.5\" y=\"-228.4\" font-family=\"Bitstream-Vera Sans\" font-size=\"7.00\">&#45; InvoiceId(FK) : INTEGER</text>\n<text text-anchor=\"start\" x=\"11.5\" y=\"-216.4\" font-family=\"Bitstream-Vera Sans\" font-size=\"7.00\">&#45; TrackId(FK) : INTEGER</text>\n<text text-anchor=\"start\" x=\"11.5\" y=\"-204.4\" font-family=\"Bitstream-Vera Sans\" font-size=\"7.00\">&#45; UnitPrice : NUMERIC(10, 2)</text>\n<text text-anchor=\"start\" x=\"11.5\" y=\"-192.4\" font-family=\"Bitstream-Vera Sans\" font-size=\"7.00\">&#45; Quantity : INTEGER</text>\n<polygon fill=\"none\" stroke=\"black\" points=\"8,-187 8,-263 145,-263 145,-187 8,-187\"/>\n</g>\n<!-- InvoiceLine&#45;&gt;Invoice -->\n<g id=\"edge5\" class=\"edge\">\n<title>InvoiceLine&#45;&gt;Invoice</title>\n<path fill=\"none\" stroke=\"black\" d=\"M162.54,-192.87C168.69,-190.54 174.92,-188.19 181.13,-185.84\"/>\n<polygon fill=\"black\" stroke=\"black\" points=\"162.47,-192.9 151.52,-192.22 157.79,-194.66 153.11,-196.43 153.11,-196.43 153.11,-196.43 157.79,-194.66 154.7,-200.64 162.47,-192.9 162.47,-192.9\"/>\n<ellipse fill=\"none\" stroke=\"black\" cx=\"185.23\" cy=\"-184.29\" rx=\"4\" ry=\"4\"/>\n<text text-anchor=\"middle\" x=\"163.97\" y=\"-177.28\" font-family=\"Bitstream-Vera Sans\" font-size=\"7.00\">+ InvoiceId</text>\n<text text-anchor=\"middle\" x=\"178.11\" y=\"-190.83\" font-family=\"Bitstream-Vera Sans\" font-size=\"7.00\">+ InvoiceId</text>\n</g>\n<!-- Track -->\n<g id=\"node8\" class=\"node\">\n<title>Track</title>\n<text text-anchor=\"start\" x=\"266\" y=\"-383.4\" font-family=\"Bitstream-Vera Sans\" font-size=\"7.00\">Track</text>\n<polygon fill=\"none\" stroke=\"black\" points=\"212,-377 212,-379 343,-379 343,-377 212,-377\"/>\n<text text-anchor=\"start\" x=\"214\" y=\"-369.4\" font-family=\"Bitstream-Vera Sans\" font-size=\"7.00\">&#45; TrackId(PK) : INTEGER</text>\n<text text-anchor=\"start\" x=\"214\" y=\"-357.4\" font-family=\"Bitstream-Vera Sans\" font-size=\"7.00\">&#45; Name : NVARCHAR(200)</text>\n<text text-anchor=\"start\" x=\"214\" y=\"-345.4\" font-family=\"Bitstream-Vera Sans\" font-size=\"7.00\">&#45; AlbumId(FK) : INTEGER</text>\n<text text-anchor=\"start\" x=\"214\" y=\"-333.4\" font-family=\"Bitstream-Vera Sans\" font-size=\"7.00\">&#45; MediaTypeId(FK) : INTEGER</text>\n<text text-anchor=\"start\" x=\"214\" y=\"-321.4\" font-family=\"Bitstream-Vera Sans\" font-size=\"7.00\">&#45; GenreId(FK) : INTEGER</text>\n<text text-anchor=\"start\" x=\"214\" y=\"-309.4\" font-family=\"Bitstream-Vera Sans\" font-size=\"7.00\">&#45; Composer : NVARCHAR(220)</text>\n<text text-anchor=\"start\" x=\"214\" y=\"-297.4\" font-family=\"Bitstream-Vera Sans\" font-size=\"7.00\">&#45; Milliseconds : INTEGER</text>\n<text text-anchor=\"start\" x=\"214\" y=\"-285.4\" font-family=\"Bitstream-Vera Sans\" font-size=\"7.00\">&#45; Bytes : INTEGER</text>\n<text text-anchor=\"start\" x=\"214\" y=\"-273.4\" font-family=\"Bitstream-Vera Sans\" font-size=\"7.00\">&#45; UnitPrice : NUMERIC(10, 2)</text>\n<polygon fill=\"none\" stroke=\"black\" points=\"210.5,-268 210.5,-392 343.5,-392 343.5,-268 210.5,-268\"/>\n</g>\n<!-- InvoiceLine&#45;&gt;Track -->\n<g id=\"edge6\" class=\"edge\">\n<title>InvoiceLine&#45;&gt;Track</title>\n<path fill=\"none\" stroke=\"black\" d=\"M162.25,-269.83C173.16,-275.6 184.31,-281.5 195.16,-287.24\"/>\n<polygon fill=\"black\" stroke=\"black\" points=\"161.95,-269.67 155.21,-261.02 157.53,-267.33 153.11,-265 153.11,-265 153.11,-265 157.53,-267.33 151.01,-268.97 161.95,-269.67 161.95,-269.67\"/>\n<ellipse fill=\"none\" stroke=\"black\" cx=\"198.7\" cy=\"-289.11\" rx=\"4\" ry=\"4\"/>\n<text text-anchor=\"middle\" x=\"181.74\" y=\"-285.38\" font-family=\"Bitstream-Vera Sans\" font-size=\"7.00\">+ TrackId</text>\n<text text-anchor=\"middle\" x=\"173.61\" y=\"-259.4\" font-family=\"Bitstream-Vera Sans\" font-size=\"7.00\">+ TrackId</text>\n</g>\n<!-- Track&#45;&gt;Album -->\n<g id=\"edge7\" class=\"edge\">\n<title>Track&#45;&gt;Album</title>\n<path fill=\"none\" stroke=\"black\" d=\"M361.2,-299.51C374.76,-294.55 388.71,-289.43 401.99,-284.57\"/>\n<polygon fill=\"black\" stroke=\"black\" points=\"361.12,-299.54 350.18,-298.76 356.42,-301.26 351.73,-302.99 351.73,-302.99 351.73,-302.99 356.42,-301.26 353.28,-307.21 361.12,-299.54 361.12,-299.54\"/>\n<ellipse fill=\"none\" stroke=\"black\" cx=\"405.97\" cy=\"-283.11\" rx=\"4\" ry=\"4\"/>\n<text text-anchor=\"middle\" x=\"389.22\" y=\"-276.14\" font-family=\"Bitstream-Vera Sans\" font-size=\"7.00\">+ AlbumId</text>\n<text text-anchor=\"middle\" x=\"372.23\" y=\"-297.39\" font-family=\"Bitstream-Vera Sans\" font-size=\"7.00\">+ AlbumId</text>\n</g>\n<!-- Track&#45;&gt;Genre -->\n<g id=\"edge8\" class=\"edge\">\n<title>Track&#45;&gt;Genre</title>\n<path fill=\"none\" stroke=\"black\" d=\"M361.64,-358.09C375.96,-362.9 390.7,-367.85 404.62,-372.53\"/>\n<polygon fill=\"black\" stroke=\"black\" points=\"361.21,-357.95 353.16,-350.5 356.47,-356.36 351.73,-354.76 351.73,-354.76 351.73,-354.76 356.47,-356.36 350.3,-359.03 361.21,-357.95 361.21,-357.95\"/>\n<ellipse fill=\"none\" stroke=\"black\" cx=\"408.46\" cy=\"-373.82\" rx=\"4\" ry=\"4\"/>\n<text text-anchor=\"middle\" x=\"391.76\" y=\"-369.49\" font-family=\"Bitstream-Vera Sans\" font-size=\"7.00\">+ GenreId</text>\n<text text-anchor=\"middle\" x=\"372.23\" y=\"-349.16\" font-family=\"Bitstream-Vera Sans\" font-size=\"7.00\">+ GenreId</text>\n</g>\n<!-- MediaType -->\n<g id=\"node9\" class=\"node\">\n<title>MediaType</title>\n<text text-anchor=\"start\" x=\"455\" y=\"-341.4\" font-family=\"Bitstream-Vera Sans\" font-size=\"7.00\">MediaType</text>\n<polygon fill=\"none\" stroke=\"black\" points=\"412.5,-335 412.5,-337 538.5,-337 538.5,-335 412.5,-335\"/>\n<text text-anchor=\"start\" x=\"414.5\" y=\"-327.4\" font-family=\"Bitstream-Vera Sans\" font-size=\"7.00\">&#45; MediaTypeId(PK) : INTEGER</text>\n<text text-anchor=\"start\" x=\"414.5\" y=\"-315.4\" font-family=\"Bitstream-Vera Sans\" font-size=\"7.00\">&#45; Name : NVARCHAR(120)</text>\n<polygon fill=\"none\" stroke=\"black\" points=\"411.5,-310 411.5,-350 539.5,-350 539.5,-310 411.5,-310\"/>\n</g>\n<!-- Track&#45;&gt;MediaType -->\n<g id=\"edge9\" class=\"edge\">\n<title>Track&#45;&gt;MediaType</title>\n<path fill=\"none\" stroke=\"black\" d=\"M362.12,-330C373.05,-330 384.22,-330 395.07,-330\"/>\n<polygon fill=\"black\" stroke=\"black\" points=\"361.73,-330 351.73,-325.5 356.73,-330 351.73,-330 351.73,-330 351.73,-330 356.73,-330 351.73,-334.5 361.73,-330 361.73,-330\"/>\n<ellipse fill=\"none\" stroke=\"black\" cx=\"399.29\" cy=\"-330\" rx=\"4\" ry=\"4\"/>\n<text text-anchor=\"middle\" x=\"373.79\" y=\"-332.4\" font-family=\"Bitstream-Vera Sans\" font-size=\"7.00\">+ MediaTypeId</text>\n<text text-anchor=\"middle\" x=\"381.23\" y=\"-324.4\" font-family=\"Bitstream-Vera Sans\" font-size=\"7.00\">+ MediaTypeId</text>\n</g>\n<!-- PlaylistTrack -->\n<g id=\"node10\" class=\"node\">\n<title>PlaylistTrack</title>\n<text text-anchor=\"start\" x=\"446\" y=\"-473.4\" font-family=\"Bitstream-Vera Sans\" font-size=\"7.00\">PlaylistTrack</text>\n<polygon fill=\"none\" stroke=\"black\" points=\"414.5,-467 414.5,-469 536.5,-469 536.5,-467 414.5,-467\"/>\n<text text-anchor=\"start\" x=\"416.5\" y=\"-459.4\" font-family=\"Bitstream-Vera Sans\" font-size=\"7.00\">&#45; PlaylistId(FK) : INTEGER</text>\n<text text-anchor=\"start\" x=\"416.5\" y=\"-447.4\" font-family=\"Bitstream-Vera Sans\" font-size=\"7.00\">&#45; TrackId(FK) : INTEGER</text>\n<polygon fill=\"none\" stroke=\"black\" points=\"413.5,-442 413.5,-482 537.5,-482 537.5,-442 413.5,-442\"/>\n</g>\n<!-- Track&#45;&gt;PlaylistTrack -->\n<g id=\"edge10\" class=\"edge\">\n<title>Track&#45;&gt;PlaylistTrack</title>\n<path fill=\"none\" stroke=\"black\" d=\"M359.77,-400.53C373.14,-410.66 387.16,-420.52 401,-429 406.01,-432.07 411.35,-435.02 416.79,-437.81\"/>\n<polygon fill=\"none\" stroke=\"black\" points=\"361.6,-397.51 351.54,-394.19 357.33,-403.06 361.6,-397.51\"/>\n<text text-anchor=\"middle\" x=\"396.29\" y=\"-432.21\" font-family=\"Bitstream-Vera Sans\" font-size=\"7.00\">+ TrackId</text>\n<text text-anchor=\"middle\" x=\"372.04\" y=\"-388.59\" font-family=\"Bitstream-Vera Sans\" font-size=\"7.00\">+ TrackId</text>\n</g>\n<!-- Playlist -->\n<g id=\"node11\" class=\"node\">\n<title>Playlist</title>\n<text text-anchor=\"start\" x=\"258.5\" y=\"-473.4\" font-family=\"Bitstream-Vera Sans\" font-size=\"7.00\">Playlist</text>\n<polygon fill=\"none\" stroke=\"black\" points=\"216,-467 216,-469 338,-469 338,-467 216,-467\"/>\n<text text-anchor=\"start\" x=\"218\" y=\"-459.4\" font-family=\"Bitstream-Vera Sans\" font-size=\"7.00\">&#45; PlaylistId(PK) : INTEGER</text>\n<text text-anchor=\"start\" x=\"218\" y=\"-447.4\" font-family=\"Bitstream-Vera Sans\" font-size=\"7.00\">&#45; Name : NVARCHAR(120)</text>\n<polygon fill=\"none\" stroke=\"black\" points=\"215,-442 215,-482 339,-482 339,-442 215,-442\"/>\n</g>\n<!-- Playlist&#45;&gt;PlaylistTrack -->\n<g id=\"edge11\" class=\"edge\">\n<title>Playlist&#45;&gt;PlaylistTrack</title>\n<path fill=\"none\" stroke=\"black\" d=\"M357.33,-462C373.23,-462 389.81,-462 405.33,-462\"/>\n<polygon fill=\"none\" stroke=\"black\" points=\"357,-458.5 347,-462 357,-465.5 357,-458.5\"/>\n<text text-anchor=\"middle\" x=\"377.83\" y=\"-464.4\" font-family=\"Bitstream-Vera Sans\" font-size=\"7.00\">+ PlaylistId</text>\n<text text-anchor=\"middle\" x=\"374.5\" y=\"-456.4\" font-family=\"Bitstream-Vera Sans\" font-size=\"7.00\">+ PlaylistId</text>\n</g>\n</g>\n</svg>\n",
            "text/plain": [
              "<graphviz.sources.Source at 0x79b12e59a550>"
            ]
          },
          "metadata": {},
          "execution_count": 18
        }
      ]
    },
    {
      "cell_type": "markdown",
      "source": [
        "### Initialize model"
      ],
      "metadata": {
        "id": "Q52LTFZ0Ecdu"
      }
    },
    {
      "cell_type": "code",
      "source": [
        "llm = init_chat_model(\"gpt-4o-mini\", model_provider=\"openai\")"
      ],
      "metadata": {
        "id": "H9oXRfGvEcA5"
      },
      "execution_count": 19,
      "outputs": []
    },
    {
      "cell_type": "markdown",
      "source": [
        "### Define prompts (important)\n",
        "\n",
        "- Define the prompt tempalte requesting llm generating SQL query\n",
        "\n",
        "- The parameter like `dialect`, `table_info`, `top_k` are inserted later\n",
        "\n",
        "- In this example `table_info`is taken directly using `CREATE TABLE` statement form db. It is useful if we added description for each table and column. In this case\n",
        "\n",
        "  - Hybrid approach: `Vector DB` + `SQL`"
      ],
      "metadata": {
        "id": "u0lNPjrAEoSK"
      }
    },
    {
      "cell_type": "code",
      "source": [
        "# prompt template\n",
        "system_message = \"\"\"\n",
        "Given an input question, create a syntactically correct {dialect} query to run\n",
        "to help find the answer. Unless the user specifies in his question a specific\n",
        "number of examples they wish to obtain, always limit your query to at most {top_k}\n",
        "results. You can order the results by a relevant column to return the most\n",
        "interesting examples in database\n",
        "\n",
        "Never query for all the columns from a specific table, only ask for the few relevant\n",
        "columns given the question.\n",
        "\n",
        "Pay attention to use only the column names that you can see in the schema description.\n",
        "Be careful to not query for columns that do not exist. Also, pay attention to which\n",
        "column is in which table.\n",
        "\n",
        "DO NOT make any DML statements (INSERT, UPDATE, DELETE, DROP etc.) to the database.\n",
        "\n",
        "Only use the following tables:\n",
        "{table_info}\n",
        "\"\"\"\n",
        "\n",
        "user_prompt = \"Question: {input}\"\n",
        "\n",
        "query_prompt_template = ChatPromptTemplate(\n",
        "    [(\"system\", system_message), (\"user\", user_prompt)]\n",
        ")\n",
        "\n",
        "for message in query_prompt_template.messages:\n",
        "    message.pretty_print()"
      ],
      "metadata": {
        "colab": {
          "base_uri": "https://localhost:8080/"
        },
        "id": "AbT9YesSIStR",
        "outputId": "05e10820-13fe-428a-eee2-1b6deffce2c9"
      },
      "execution_count": 20,
      "outputs": [
        {
          "output_type": "stream",
          "name": "stdout",
          "text": [
            "================================\u001b[1m System Message \u001b[0m================================\n",
            "\n",
            "\n",
            "Given an input question, create a syntactically correct \u001b[33;1m\u001b[1;3m{dialect}\u001b[0m query to run\n",
            "to help find the answer. Unless the user specifies in his question a specific\n",
            "number of examples they wish to obtain, always limit your query to at most \u001b[33;1m\u001b[1;3m{top_k}\u001b[0m\n",
            "results. You can order the results by a relevant column to return the most\n",
            "interesting examples in database\n",
            "\n",
            "Never query for all the columns from a specific table, only ask for the few relevant\n",
            "columns given the question.\n",
            "\n",
            "Pay attention to use only the column names that you can see in the schema description.\n",
            "Be careful to not query for columns that do not exist. Also, pay attention to which\n",
            "column is in which table.\n",
            "\n",
            "DO NOT make any DML statements (INSERT, UPDATE, DELETE, DROP etc.) to the database.\n",
            "\n",
            "Only use the following tables:\n",
            "\u001b[33;1m\u001b[1;3m{table_info}\u001b[0m\n",
            "\n",
            "================================\u001b[1m Human Message \u001b[0m=================================\n",
            "\n",
            "Question: \u001b[33;1m\u001b[1;3m{input}\u001b[0m\n"
          ]
        }
      ]
    },
    {
      "cell_type": "markdown",
      "source": [
        "### Build node and graph\n",
        "\n",
        "- Same as previous demo\n",
        "\n",
        "- For directly executing SQL, we use pre-defined `QuerySQLDatabaseTool` tool."
      ],
      "metadata": {
        "id": "MtCOLAvtL6d-"
      }
    },
    {
      "cell_type": "markdown",
      "source": [
        "#### More about tools\n",
        "\n",
        "- [tools](https://python.langchain.com/docs/concepts/tools/): basically, a implement, used to carry out a particular function (in this case is execution of SQL query). Few db related tools:\n",
        "\n",
        "  - `SQLDatabaseToolkit`: set of tools related to SQL Db\n",
        "\n",
        "  - `QuerySQLDatabaseTool`: run query to target db"
      ],
      "metadata": {
        "id": "Pc31Jj9SitG_"
      }
    },
    {
      "cell_type": "code",
      "source": [
        "from langchain_community.agent_toolkits import SQLDatabaseToolkit\n",
        "\n",
        "for tool in SQLDatabaseToolkit(db=db, llm=llm).get_tools():\n",
        "    print(f\"{tool.name}: {tool.description}\")\n",
        "\n",
        "print()\n",
        "print(\"used tool in this demo\")\n",
        "print(f\"{QuerySQLDatabaseTool(db=db).name}: {QuerySQLDatabaseTool(db=db).description}\")"
      ],
      "metadata": {
        "colab": {
          "base_uri": "https://localhost:8080/"
        },
        "id": "tolpQjC-h_VS",
        "outputId": "b6591b33-6de9-43a4-8326-1e517d4453e6"
      },
      "execution_count": 21,
      "outputs": [
        {
          "output_type": "stream",
          "name": "stdout",
          "text": [
            "sql_db_query: Input to this tool is a detailed and correct SQL query, output is a result from the database. If the query is not correct, an error message will be returned. If an error is returned, rewrite the query, check the query, and try again. If you encounter an issue with Unknown column 'xxxx' in 'field list', use sql_db_schema to query the correct table fields.\n",
            "sql_db_schema: Input to this tool is a comma-separated list of tables, output is the schema and sample rows for those tables. Be sure that the tables actually exist by calling sql_db_list_tables first! Example Input: table1, table2, table3\n",
            "sql_db_list_tables: Input is an empty string, output is a comma-separated list of tables in the database.\n",
            "sql_db_query_checker: Use this tool to double check if your query is correct before executing it. Always use this tool before executing a query with sql_db_query!\n",
            "\n",
            "used tool in this demo\n",
            "sql_db_query: \n",
            "    Execute a SQL query against the database and get back the result..\n",
            "    If the query is not correct, an error message will be returned.\n",
            "    If an error is returned, rewrite the query, check the query, and try again.\n",
            "    \n"
          ]
        }
      ]
    },
    {
      "cell_type": "code",
      "source": [
        "# application state\n",
        "class SQLExampleState(TypedDict):\n",
        "    question: str           # user's question\n",
        "    query: str              # generated SQL query\n",
        "    result: str             # result of SQl query\n",
        "    answer: str             # final answer\n",
        "\n",
        "# query output\n",
        "class QueryOutput(TypedDict):\n",
        "    \"\"\"Generated SQL query.\"\"\"\n",
        "    query: Annotated[str, ..., \"Syntactically valid SQL query.\"]\n",
        "\n",
        "# 1st node\n",
        "def write_query(state: SQLExampleState):\n",
        "    \"\"\"Generate SQL query to fetch information.\"\"\"\n",
        "    prompt = query_prompt_template.invoke(\n",
        "        {\n",
        "            \"input\": state[\"question\"],\n",
        "            \"dialect\": db.dialect,\n",
        "            \"table_info\": db.get_table_info(),\n",
        "            \"top_k\": 10,\n",
        "        }\n",
        "    )\n",
        "\n",
        "    structured_llm = llm.with_structured_output(QueryOutput)\n",
        "    result = structured_llm.invoke(prompt)\n",
        "    return {\"query\": result[\"query\"]}\n",
        "\n",
        "\n",
        "# 2nd node\n",
        "def execute_query(state: SQLExampleState):\n",
        "    \"\"\"Execute the generated SQL query.\"\"\"\n",
        "    execute_query_tool = QuerySQLDatabaseTool(db=db)\n",
        "    return {\"result\": execute_query_tool.invoke(state[\"query\"])}\n",
        "\n",
        "# 3rd node\n",
        "def generate_answer(state: SQLExampleState):\n",
        "    \"\"\"Answer the question using retrieved information as context.\"\"\"\n",
        "    prompt = (\n",
        "        \"Given the following user question, corresponding SQL query, \"\n",
        "        \"and SQL result, answer the user question.\\n\\n\"\n",
        "        f\"Question: {state['question']}\\n\"\n",
        "        f\"SQL Query: {state['query']}\\n\"\n",
        "        f\"SQL Result: {state['result']}\"\n",
        "    )\n",
        "\n",
        "    response = llm.invoke(prompt)\n",
        "    return {\"answer\": response.content}"
      ],
      "metadata": {
        "id": "SPdHe1keDJns"
      },
      "execution_count": 22,
      "outputs": []
    },
    {
      "cell_type": "markdown",
      "source": [
        "### Build graph"
      ],
      "metadata": {
        "id": "rCgv0VIJjnli"
      }
    },
    {
      "cell_type": "code",
      "source": [
        "graph_builder = StateGraph(SQLExampleState)\n",
        "\n",
        "graph_builder.add_node(write_query.__name__, write_query, metadata={\"stream\": False})\n",
        "graph_builder.add_node(execute_query.__name__, execute_query, metadata={\"stream\": False})\n",
        "graph_builder.add_node(generate_answer.__name__, generate_answer, metadata={\"stream\": True})  # streams only this node\n",
        "graph_builder.set_entry_point(write_query.__name__)\n",
        "graph_builder.add_edge(write_query.__name__, execute_query.__name__)\n",
        "graph_builder.add_edge(execute_query.__name__, generate_answer.__name__)\n",
        "\n",
        "graph_for_sql_query = graph_builder.compile()"
      ],
      "metadata": {
        "id": "sC5NqhoSiABZ"
      },
      "execution_count": 23,
      "outputs": []
    },
    {
      "cell_type": "markdown",
      "source": [
        "### Visualize graph"
      ],
      "metadata": {
        "id": "oO417RgWueSz"
      }
    },
    {
      "cell_type": "code",
      "source": [
        "display(Image(graph_for_sql_query.get_graph().draw_mermaid_png()))"
      ],
      "metadata": {
        "colab": {
          "base_uri": "https://localhost:8080/",
          "height": 575
        },
        "id": "fifHfGswj1M4",
        "outputId": "64ecca1d-0079-434d-89f9-21778ec58ce3"
      },
      "execution_count": 24,
      "outputs": [
        {
          "output_type": "display_data",
          "data": {
            "image/png": "[encoded data removed]",
            "text/plain": [
              "<IPython.core.display.Image object>"
            ]
          },
          "metadata": {}
        }
      ]
    },
    {
      "cell_type": "markdown",
      "source": [
        "### Test it\n",
        "\n",
        "- Which country's customers spent the most?\n",
        "\n",
        "- what album have most tracks?\n",
        "\n",
        "- Who am I?"
      ],
      "metadata": {
        "id": "21WuVkMeucdL"
      }
    },
    {
      "cell_type": "code",
      "source": [
        "start_ui(graph_for_sql_query, {\"configurable\": {\"thread_id\": \"duyvm789\"}}, share=False, debug=True)"
      ],
      "metadata": {
        "colab": {
          "base_uri": "https://localhost:8080/",
          "height": 618
        },
        "id": "Pcb0eDqSj-qt",
        "outputId": "0921999c-48dd-4d48-815a-8e8f47fb540d"
      },
      "execution_count": 25,
      "outputs": [
        {
          "output_type": "stream",
          "name": "stdout",
          "text": [
            "Colab notebook detected. This cell will run indefinitely so that you can see errors and logs. To turn off, set debug=False in launch().\n",
            "Note: opening Chrome Inspector may crash demo inside Colab notebooks.\n",
            "* To create a public link, set `share=True` in `launch()`.\n"
          ]
        },
        {
          "output_type": "display_data",
          "data": {
            "text/plain": [
              "<IPython.core.display.Javascript object>"
            ],
            "application/javascript": [
              "(async (port, path, width, height, cache, element) => {\n",
              "                        if (!google.colab.kernel.accessAllowed && !cache) {\n",
              "                            return;\n",
              "                        }\n",
              "                        element.appendChild(document.createTextNode(''));\n",
              "                        const url = await google.colab.kernel.proxyPort(port, {cache});\n",
              "\n",
              "                        const external_link = document.createElement('div');\n",
              "                        external_link.innerHTML = `\n",
              "                            <div style=\"font-family: monospace; margin-bottom: 0.5rem\">\n",
              "                                Running on <a href=${new URL(path, url).toString()} target=\"_blank\">\n",
              "                                    https://localhost:${port}${path}\n",
              "                                </a>\n",
              "                            </div>\n",
              "                        `;\n",
              "                        element.appendChild(external_link);\n",
              "\n",
              "                        const iframe = document.createElement('iframe');\n",
              "                        iframe.src = new URL(path, url).toString();\n",
              "                        iframe.height = height;\n",
              "                        iframe.allow = \"autoplay; camera; microphone; clipboard-read; clipboard-write;\"\n",
              "                        iframe.width = width;\n",
              "                        iframe.style.border = 0;\n",
              "                        element.appendChild(iframe);\n",
              "                    })(7860, \"/\", \"100%\", 500, false, window.element)"
            ]
          },
          "metadata": {}
        },
        {
          "output_type": "stream",
          "name": "stdout",
          "text": [
            "Keyboard interruption in main thread... closing server.\n"
          ]
        }
      ]
    },
    {
      "cell_type": "markdown",
      "source": [
        "### 🧠 Conclude\n",
        "\n",
        "#### **Goods**\n",
        "\n",
        "👍 The app can understand multi-languages\n",
        "\n",
        "👍 The app can understand the variants of the question\n",
        "\n",
        "#### **Need improvement**\n",
        "\n",
        "🤔 We are considering user's question is the whole information for searching in vector db. It can lead to retrieving incorrect informations if the actual information that we want is too small consider to the length of question. How to seperate the actual relevant information piece for searching with the rest in the question.\n",
        "\n",
        "🤔 The accuracy of answer depends a lot on retrieved informations. It can be tricky when stored information and provided information (in question) is not in the same language\n",
        "\n",
        "#### **Some solutions**\n",
        "\n",
        "- Query analysis\n",
        "\n",
        "- Query re-writing\n",
        "\n",
        "- Vector DB with metadata filters\n",
        "\n",
        "- Agentic approach"
      ],
      "metadata": {
        "id": "13cJ_w3p6S9k"
      }
    },
    {
      "cell_type": "code",
      "source": [],
      "metadata": {
        "id": "mKZveZuakLnz"
      },
      "execution_count": null,
      "outputs": []
    }
  ]
}