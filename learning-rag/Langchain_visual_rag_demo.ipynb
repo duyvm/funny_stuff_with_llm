{
 "cells": [
  {
   "cell_type": "markdown",
   "id": "e8d56676",
   "metadata": {},
   "source": [
    "<h1><center>Visual RAG VDMS</center></h1>\n",
    "\n",
    "## Overview\n",
    "\n",
    "- This notebook follow the guide here [Multi-agent supervisor](https://github.com/langchain-ai/langchain/blob/master/cookbook/visual_RAG_vdms.ipynb)\n",
    "\n",
    "- Visuable RAG system for video search:\n",
    "\n",
    "  - Generate description for video scene and embed those description as text embedding\n",
    "\n",
    "  - Store video frame as video embedding into VDMS\n",
    "\n",
    "  - Perform similar search using above two information"
   ]
  },
  {
   "cell_type": "markdown",
   "id": "aa6d53d4",
   "metadata": {},
   "source": [
    "## Start the VDMS server\n",
    "\n",
    "- Pull and start the vdms container using `docker`\n",
    "\n",
    "- For more information:\n",
    "\n",
    "  - [Github](https://github.com/IntelLabs/vdms)\n",
    "\n",
    "  - [VDMS: Your Favorite Visual Data Management System¶\n",
    "](https://intellabs.github.io/vdms/)\n",
    "\n",
    "  - [Lang chain - VDMS](https://python.langchain.com/docs/integrations/providers/vdms/)"
   ]
  },
  {
   "cell_type": "code",
   "execution_count": 6,
   "id": "394c0bdf",
   "metadata": {},
   "outputs": [
    {
     "name": "stdout",
     "output_type": "stream",
     "text": [
      "WARNING: The requested image's platform (linux/amd64) does not match the detected host platform (linux/arm64/v8) and no specific platform was requested\n",
      "2858d5a52ca3590e3a4972f6fc44b4d9427ab25dc772504b795f63e32186d413\n"
     ]
    }
   ],
   "source": [
    "! docker run --rm -d -p 55559:55555 --name langchain-visual-rag-vdms intellabs/vdms:latest"
   ]
  },
  {
   "cell_type": "code",
   "execution_count": 3,
   "id": "771cf74b",
   "metadata": {},
   "outputs": [
    {
     "name": "stdout",
     "output_type": "stream",
     "text": [
      "Docker version 28.0.4, build b8034c0\n"
     ]
    }
   ],
   "source": [
    "! docker -v"
   ]
  },
  {
   "cell_type": "markdown",
   "id": "90c05452",
   "metadata": {},
   "source": [
    "## Install required packages"
   ]
  },
  {
   "cell_type": "code",
   "execution_count": 7,
   "id": "b719a950",
   "metadata": {},
   "outputs": [],
   "source": [
    "! pip install --quiet -U langchain-vdms langchain-experimental sentence-transformers opencv-python open_clip_torch torch accelerate"
   ]
  },
  {
   "cell_type": "code",
   "execution_count": null,
   "id": "b44194fb",
   "metadata": {},
   "outputs": [],
   "source": []
  }
 ],
 "metadata": {
  "kernelspec": {
   "display_name": ".venv",
   "language": "python",
   "name": "python3"
  },
  "language_info": {
   "codemirror_mode": {
    "name": "ipython",
    "version": 3
   },
   "file_extension": ".py",
   "mimetype": "text/x-python",
   "name": "python",
   "nbconvert_exporter": "python",
   "pygments_lexer": "ipython3",
   "version": "3.13.3"
  }
 },
 "nbformat": 4,
 "nbformat_minor": 5
}
