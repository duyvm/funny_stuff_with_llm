{
  "nbformat": 4,
  "nbformat_minor": 0,
  "metadata": {
    "colab": {
      "provenance": [],
      "authorship_tag": "ABX9TyMfKU+C+FIUoJ2tXvhkj56N",
      "include_colab_link": true
    },
    "kernelspec": {
      "name": "python3",
      "display_name": "Python 3"
    },
    "language_info": {
      "name": "python"
    }
  },
  "cells": [
    {
      "cell_type": "markdown",
      "metadata": {
        "id": "view-in-github",
        "colab_type": "text"
      },
      "source": [
        "<a href=\"https://colab.research.google.com/github/duyvm/funny_stuff_with_llm/blob/main/learning-rag/Langchain_build_a_qa_system_over_sql_data.ipynb\" target=\"_parent\"><img src=\"https://colab.research.google.com/assets/colab-badge.svg\" alt=\"Open In Colab\"/></a>"
      ]
    },
    {
      "cell_type": "markdown",
      "source": [
        "# Install\n",
        "\n",
        "- Install required packages\n",
        "- Set environment variables\n",
        "- Load model and vector db"
      ],
      "metadata": {
        "id": "D62HrNJ8BXdF"
      }
    },
    {
      "cell_type": "code",
      "execution_count": null,
      "metadata": {
        "id": "6ym6NvY0p5ek",
        "colab": {
          "base_uri": "https://localhost:8080/"
        },
        "outputId": "80a60f14-0693-4835-f9c3-1e030e9c56ec"
      },
      "outputs": [
        {
          "output_type": "stream",
          "name": "stdout",
          "text": [
            "\u001b[2K     \u001b[90m━━━━━━━━━━━━━━━━━━━━━━━━━━━━━━━━━━━━━━━━\u001b[0m \u001b[32m43.7/43.7 kB\u001b[0m \u001b[31m2.0 MB/s\u001b[0m eta \u001b[36m0:00:00\u001b[0m\n",
            "\u001b[2K   \u001b[90m━━━━━━━━━━━━━━━━━━━━━━━━━━━━━━━━━━━━━━━━\u001b[0m \u001b[32m2.5/2.5 MB\u001b[0m \u001b[31m44.5 MB/s\u001b[0m eta \u001b[36m0:00:00\u001b[0m\n",
            "\u001b[2K   \u001b[90m━━━━━━━━━━━━━━━━━━━━━━━━━━━━━━━━━━━━━━━━\u001b[0m \u001b[32m152.4/152.4 kB\u001b[0m \u001b[31m10.0 MB/s\u001b[0m eta \u001b[36m0:00:00\u001b[0m\n",
            "\u001b[2K   \u001b[90m━━━━━━━━━━━━━━━━━━━━━━━━━━━━━━━━━━━━━━━━\u001b[0m \u001b[32m438.9/438.9 kB\u001b[0m \u001b[31m17.6 MB/s\u001b[0m eta \u001b[36m0:00:00\u001b[0m\n",
            "\u001b[2K   \u001b[90m━━━━━━━━━━━━━━━━━━━━━━━━━━━━━━━━━━━━━━━━\u001b[0m \u001b[32m1.0/1.0 MB\u001b[0m \u001b[31m24.1 MB/s\u001b[0m eta \u001b[36m0:00:00\u001b[0m\n",
            "\u001b[2K   \u001b[90m━━━━━━━━━━━━━━━━━━━━━━━━━━━━━━━━━━━━━━━━\u001b[0m \u001b[32m43.8/43.8 kB\u001b[0m \u001b[31m2.0 MB/s\u001b[0m eta \u001b[36m0:00:00\u001b[0m\n",
            "\u001b[2K   \u001b[90m━━━━━━━━━━━━━━━━━━━━━━━━━━━━━━━━━━━━━━━━\u001b[0m \u001b[32m50.0/50.0 kB\u001b[0m \u001b[31m3.2 MB/s\u001b[0m eta \u001b[36m0:00:00\u001b[0m\n",
            "\u001b[2K   \u001b[90m━━━━━━━━━━━━━━━━━━━━━━━━━━━━━━━━━━━━━━━━\u001b[0m \u001b[32m44.4/44.4 kB\u001b[0m \u001b[31m2.6 MB/s\u001b[0m eta \u001b[36m0:00:00\u001b[0m\n",
            "\u001b[2K   \u001b[90m━━━━━━━━━━━━━━━━━━━━━━━━━━━━━━━━━━━━━━━━\u001b[0m \u001b[32m69.0/69.0 kB\u001b[0m \u001b[31m3.8 MB/s\u001b[0m eta \u001b[36m0:00:00\u001b[0m\n",
            "\u001b[2K   \u001b[90m━━━━━━━━━━━━━━━━━━━━━━━━━━━━━━━━━━━━━━━━\u001b[0m \u001b[32m50.9/50.9 kB\u001b[0m \u001b[31m2.5 MB/s\u001b[0m eta \u001b[36m0:00:00\u001b[0m\n",
            "\u001b[2K   \u001b[90m━━━━━━━━━━━━━━━━━━━━━━━━━━━━━━━━━━━━━━━━\u001b[0m \u001b[32m216.5/216.5 kB\u001b[0m \u001b[31m9.7 MB/s\u001b[0m eta \u001b[36m0:00:00\u001b[0m\n",
            "\u001b[?25h"
          ]
        }
      ],
      "source": [
        "%pip install --quiet --upgrade langchain-community langgraph langchain[openai] langchain-core"
      ]
    },
    {
      "cell_type": "code",
      "source": [
        "from google.colab import userdata\n",
        "import os\n",
        "\n",
        "os.environ[\"LANGSMITH_TRACING\"] = \"true\"\n",
        "os.environ[\"LANGSMITH_ENDPOINT\"] = \"https://api.smith.langchain.com\"\n",
        "os.environ[\"LANGSMITH_PROJECT\"] = f\"langchain-learning-rag\"\n",
        "os.environ[\"LANGSMITH_API_KEY\"] = userdata.get('LANGSMITH_API_KEY')\n",
        "os.environ[\"OPENAI_API_KEY\"] = userdata.get('OPENAI_API_KEY')"
      ],
      "metadata": {
        "id": "xmtEhKrEACgf"
      },
      "execution_count": null,
      "outputs": []
    },
    {
      "cell_type": "markdown",
      "source": [
        "# Preview\n",
        "\n",
        "- Guide: [Build a Question/Answering system over SQL data](https://python.langchain.com/docs/tutorials/sql_qa/)\n",
        "\n",
        "- Use llm to generate SQL query and retrieve data from DB\n",
        "\n",
        "- Based on retrieved data, generate anwser"
      ],
      "metadata": {
        "id": "j60Ksa78BWHs"
      }
    },
    {
      "cell_type": "markdown",
      "source": [
        "### Download and build the database\n",
        "\n",
        "- Guide here: [2 Sample Databases for SQLite](https://database.guide/2-sample-databases-sqlite/)"
      ],
      "metadata": {
        "id": "hMuiYSdMs9Qa"
      }
    },
    {
      "cell_type": "code",
      "source": [
        "!sudo apt-get install sqlite3\n",
        "!curl -s https://raw.githubusercontent.com/lerocha/chinook-database/master/ChinookDatabase/DataSources/Chinook_Sqlite.sql | sqlite3 Chinook.db"
      ],
      "metadata": {
        "colab": {
          "base_uri": "https://localhost:8080/"
        },
        "id": "9W8urBb5tYAB",
        "outputId": "88f7e81e-e46e-4bf0-9bc4-dede7da1a203"
      },
      "execution_count": null,
      "outputs": [
        {
          "output_type": "stream",
          "name": "stdout",
          "text": [
            "Reading package lists... Done\n",
            "Building dependency tree... Done\n",
            "Reading state information... Done\n",
            "Suggested packages:\n",
            "  sqlite3-doc\n",
            "The following NEW packages will be installed:\n",
            "  sqlite3\n",
            "0 upgraded, 1 newly installed, 0 to remove and 35 not upgraded.\n",
            "Need to get 769 kB of archives.\n",
            "After this operation, 1,873 kB of additional disk space will be used.\n",
            "Get:1 http://archive.ubuntu.com/ubuntu jammy-updates/main amd64 sqlite3 amd64 3.37.2-2ubuntu0.4 [769 kB]\n",
            "Fetched 769 kB in 0s (7,249 kB/s)\n",
            "debconf: unable to initialize frontend: Dialog\n",
            "debconf: (No usable dialog-like program is installed, so the dialog based frontend cannot be used. at /usr/share/perl5/Debconf/FrontEnd/Dialog.pm line 78, <> line 1.)\n",
            "debconf: falling back to frontend: Readline\n",
            "debconf: unable to initialize frontend: Readline\n",
            "debconf: (This frontend requires a controlling tty.)\n",
            "debconf: falling back to frontend: Teletype\n",
            "dpkg-preconfigure: unable to re-open stdin: \n",
            "Selecting previously unselected package sqlite3.\n",
            "(Reading database ... 126319 files and directories currently installed.)\n",
            "Preparing to unpack .../sqlite3_3.37.2-2ubuntu0.4_amd64.deb ...\n",
            "Unpacking sqlite3 (3.37.2-2ubuntu0.4) ...\n",
            "Setting up sqlite3 (3.37.2-2ubuntu0.4) ...\n",
            "Processing triggers for man-db (2.10.2-1) ...\n"
          ]
        }
      ]
    },
    {
      "cell_type": "code",
      "source": [
        "# load the database and testing\n",
        "from langchain_community.utilities import SQLDatabase\n",
        "\n",
        "db = SQLDatabase.from_uri(\"sqlite:///Chinook.db\")\n",
        "print(db.dialect)\n",
        "print()\n",
        "print(db.get_usable_table_names())\n",
        "print()\n",
        "print(db.run(\"SELECT * FROM Artist LIMIT 10;\"))"
      ],
      "metadata": {
        "colab": {
          "base_uri": "https://localhost:8080/"
        },
        "id": "IQp8zoPMwQkx",
        "outputId": "9f638485-fa60-418b-cfc6-ebc5c0819088"
      },
      "execution_count": null,
      "outputs": [
        {
          "output_type": "stream",
          "name": "stdout",
          "text": [
            "sqlite\n",
            "\n",
            "['Album', 'Artist', 'Customer', 'Employee', 'Genre', 'Invoice', 'InvoiceLine', 'MediaType', 'Playlist', 'PlaylistTrack', 'Track']\n",
            "\n",
            "[(1, 'AC/DC'), (2, 'Accept'), (3, 'Aerosmith'), (4, 'Alanis Morissette'), (5, 'Alice In Chains'), (6, 'Antônio Carlos Jobim'), (7, 'Apocalyptica'), (8, 'Audioslave'), (9, 'BackBeat'), (10, 'Billy Cobham')]\n"
          ]
        }
      ]
    },
    {
      "cell_type": "code",
      "source": [
        "# print(db.get_table_info())"
      ],
      "metadata": {
        "id": "zpxeSw8xP1T8"
      },
      "execution_count": null,
      "outputs": []
    },
    {
      "cell_type": "markdown",
      "source": [
        "### Chain approach\n",
        "\n",
        "- Deterministic flow\n",
        "\n",
        "- Can not distinguish between normal input \"Hello\" and query request from user\n",
        "\n",
        "- Can not perform complex request require multiple queries"
      ],
      "metadata": {
        "id": "wgaeVX3exM4D"
      }
    },
    {
      "cell_type": "code",
      "source": [
        "from typing_extensions import TypedDict\n",
        "\n",
        "class State(TypedDict):\n",
        "    question: str\n",
        "    query: str\n",
        "    result: str\n",
        "    answer: str"
      ],
      "metadata": {
        "id": "ODab8Rm96Ozt"
      },
      "execution_count": null,
      "outputs": []
    },
    {
      "cell_type": "code",
      "source": [
        "from langchain.chat_models import init_chat_model\n",
        "from langchain_core.prompts import ChatPromptTemplate\n",
        "\n",
        "llm = init_chat_model(\"gpt-4o-mini\", model_provider=\"openai\")"
      ],
      "metadata": {
        "id": "e9bdhfz9NlBB"
      },
      "execution_count": null,
      "outputs": []
    },
    {
      "cell_type": "markdown",
      "source": [
        "#### Convert question into SQL query\n",
        "\n",
        "- Prepare the `system_message` parameters\n",
        "\n",
        "- Leverage llm to generate SQL query from input question"
      ],
      "metadata": {
        "id": "H_lnQuOOS-yg"
      }
    },
    {
      "cell_type": "code",
      "source": [
        "# create a prompt template\n",
        "\n",
        "system_message = \"\"\"\n",
        "Given an input question, create a syntactically correct {dialect} query to run\n",
        "to help find the answer. Unless the user specifies in his question a specific\n",
        "number of examples they wish to obtain, always limit your query to at most {top_k}\n",
        "results. You can order the results by a relevant column to return the most\n",
        "interesting examples in database\n",
        "\n",
        "Never query for all the columns from a specific table, only ask for the few relevant\n",
        "columns given the question.\n",
        "\n",
        "Pay attention to use only the column names that you can see in the schema description.\n",
        "Be careful to not query for columns that do not exist. Also, pay attention to which\n",
        "column is in which table.\n",
        "\n",
        "Only use the following tables:\n",
        "{table_info}\n",
        "\"\"\"\n",
        "\n",
        "user_prompt = \"Question: {input}\"\n",
        "\n",
        "query_prompt_template = ChatPromptTemplate(\n",
        "    [(\"system\", system_message), (\"user\", user_prompt)]\n",
        ")\n",
        "\n",
        "for message in query_prompt_template.messages:\n",
        "    message.pretty_print()"
      ],
      "metadata": {
        "id": "kNRkPSsFBCk6",
        "colab": {
          "base_uri": "https://localhost:8080/"
        },
        "outputId": "f23f1a09-26b6-401d-ccc0-15634bd4fbf2"
      },
      "execution_count": null,
      "outputs": [
        {
          "output_type": "stream",
          "name": "stdout",
          "text": [
            "================================\u001b[1m System Message \u001b[0m================================\n",
            "\n",
            "\n",
            "Given an input question, create a syntactically correct \u001b[33;1m\u001b[1;3m{dialect}\u001b[0m query to run\n",
            "to help find the answer. Unless the user specifies in his question a specific\n",
            "number of examples they wish to obtain, always limit your query to at most \u001b[33;1m\u001b[1;3m{top_k}\u001b[0m\n",
            "results. You can order the results by a relevant column to return the most\n",
            "interesting examples in database\n",
            "\n",
            "Never query for all the columns from a specific table, only ask for the few relevant\n",
            "columns given the question.\n",
            "\n",
            "Pay attention to use only the column names that you can see in the schema description.\n",
            "Be careful to not query for columns that do not exist. Also, pay attention to which\n",
            "column is in which table.\n",
            "\n",
            "Only use the following tables:\n",
            "\u001b[33;1m\u001b[1;3m{table_info}\u001b[0m\n",
            "\n",
            "================================\u001b[1m Human Message \u001b[0m=================================\n",
            "\n",
            "Question: \u001b[33;1m\u001b[1;3m{input}\u001b[0m\n"
          ]
        }
      ]
    },
    {
      "cell_type": "code",
      "source": [
        "class QueryOutput(TypedDict):\n",
        "    \"\"\"Generated SQL query.\"\"\"\n",
        "\n",
        "    query: Annotated[str, ..., \"Syntactically valid SQL query.\"]\n",
        "\n",
        "# 1st node\n",
        "def write_query(state: State):\n",
        "    \"\"\"Generate SQL query to fetch information.\"\"\"\n",
        "    prompt = query_prompt_template.invoke(\n",
        "        {\n",
        "            \"input\": state[\"question\"],\n",
        "            \"dialect\": db.dialect,\n",
        "            \"table_info\": db.get_table_info(),\n",
        "            \"top_k\": 10,\n",
        "        }\n",
        "    )\n",
        "\n",
        "    structured_llm = llm.with_structured_output(QueryOutput)\n",
        "    result = structured_llm.invoke(prompt)\n",
        "    return {\"query\": result[\"query\"]}"
      ],
      "metadata": {
        "id": "rwB3LH7pDcsk"
      },
      "execution_count": null,
      "outputs": []
    },
    {
      "cell_type": "code",
      "source": [
        "write_query({\"question\": \"What is the name of the album with the most tracks?\"})"
      ],
      "metadata": {
        "id": "6sJNQwjtDdXW",
        "colab": {
          "base_uri": "https://localhost:8080/"
        },
        "outputId": "b132f2b2-f828-4854-f5dd-75fbca3d2636"
      },
      "execution_count": null,
      "outputs": [
        {
          "output_type": "execute_result",
          "data": {
            "text/plain": [
              "{'query': 'SELECT a.Title\\nFROM Album a\\nJOIN Track t ON a.AlbumId = t.AlbumId\\nGROUP BY a.AlbumId\\nORDER BY COUNT(t.TrackId) DESC\\nLIMIT 1;'}"
            ]
          },
          "metadata": {},
          "execution_count": 10
        }
      ]
    },
    {
      "cell_type": "code",
      "source": [
        "write_query({\"question\": \"How many Employees are there?\"})"
      ],
      "metadata": {
        "colab": {
          "base_uri": "https://localhost:8080/"
        },
        "id": "BVr5_-gHQRSZ",
        "outputId": "93fab70b-d6fd-481a-bb2e-4f0a56f6955e"
      },
      "execution_count": null,
      "outputs": [
        {
          "output_type": "execute_result",
          "data": {
            "text/plain": [
              "{'query': 'SELECT COUNT(*) AS EmployeeCount FROM Employee;'}"
            ]
          },
          "metadata": {},
          "execution_count": 11
        }
      ]
    },
    {
      "cell_type": "markdown",
      "source": [
        "#### Execute the query\n",
        "\n",
        "- Call tool `QuerySQLDatabaseTool` to run the generated query\n",
        "\n",
        "- Consider carefully:\n",
        "\n",
        " - Minimize db connection permissions\n",
        "\n",
        " - Add human approval ste"
      ],
      "metadata": {
        "id": "To5vh0siRLtl"
      }
    },
    {
      "cell_type": "code",
      "source": [
        "from langchain_community.tools.sql_database.tool import QuerySQLDatabaseTool\n",
        "\n",
        "def execute_query(state: State):\n",
        "    \"\"\"Execute the generated SQL query.\"\"\"\n",
        "    execute_query_tool = QuerySQLDatabaseTool(db=db)\n",
        "    return {\"result\": execute_query_tool.invoke(state[\"query\"])}"
      ],
      "metadata": {
        "id": "03tymgqyRkVc"
      },
      "execution_count": null,
      "outputs": []
    },
    {
      "cell_type": "code",
      "source": [
        "execute_query({\"query\": \"SELECT COUNT(EmployeeId) AS TotalEmployees FROM Employee;\"})"
      ],
      "metadata": {
        "colab": {
          "base_uri": "https://localhost:8080/"
        },
        "id": "agnX_qEiR-Vi",
        "outputId": "1a0bb845-6cef-47f2-a579-b50b8c4b7c96"
      },
      "execution_count": null,
      "outputs": [
        {
          "output_type": "execute_result",
          "data": {
            "text/plain": [
              "{'result': '[(8,)]'}"
            ]
          },
          "metadata": {},
          "execution_count": 13
        }
      ]
    },
    {
      "cell_type": "code",
      "source": [
        "execute_query({\"query\": \"SELECT a.Title\\nFROM Album a\\nJOIN Track t ON a.AlbumId = t.AlbumId\\nGROUP BY a.AlbumId, a.Title\\nORDER BY COUNT(t.TrackId) DESC\\nLIMIT 1;\"})"
      ],
      "metadata": {
        "colab": {
          "base_uri": "https://localhost:8080/"
        },
        "id": "O8mypoPYSFF7",
        "outputId": "4ef160fb-6ff5-4b99-f3e4-428fb020a3dc"
      },
      "execution_count": null,
      "outputs": [
        {
          "output_type": "execute_result",
          "data": {
            "text/plain": [
              "{'result': \"[('Greatest Hits',)]\"}"
            ]
          },
          "metadata": {},
          "execution_count": 14
        }
      ]
    },
    {
      "cell_type": "markdown",
      "source": [
        "#### Generate final answer\n",
        "\n",
        "- Pass the result of query to llm and get final answer"
      ],
      "metadata": {
        "id": "RtX4V71JSx7H"
      }
    },
    {
      "cell_type": "code",
      "source": [
        "def generate_answer(state: State):\n",
        "    \"\"\"Answer the question using retrieved information as context.\"\"\"\n",
        "    prompt = (\n",
        "        \"Given the following user question, corresponding SQL query, \"\n",
        "        \"and SQL result, answer the user question.\\n\\n\"\n",
        "        f\"Question: {state['question']}\\n\"\n",
        "        f\"SQL Query: {state['query']}\\n\"\n",
        "        f\"SQL Result: {state['result']}\"\n",
        "    )\n",
        "\n",
        "    response = llm.invoke(prompt)\n",
        "    return {\"answer\": response.content}"
      ],
      "metadata": {
        "id": "E26Sn36FR_eR"
      },
      "execution_count": null,
      "outputs": []
    },
    {
      "cell_type": "markdown",
      "source": [
        "#### Orchestrating with LangGraph\n",
        "\n",
        "- Combine into one application"
      ],
      "metadata": {
        "id": "xfNuroiBTp_N"
      }
    },
    {
      "cell_type": "code",
      "source": [
        "from langgraph.graph import START, StateGraph\n",
        "\n",
        "graph_builder = StateGraph(State)\n",
        "graph_builder.add_sequence([write_query, execute_query, generate_answer])\n",
        "graph_builder.add_edge(START, write_query.__name__)\n",
        "\n",
        "graph = graph_builder.compile()"
      ],
      "metadata": {
        "id": "S444YaobTx8f"
      },
      "execution_count": null,
      "outputs": []
    },
    {
      "cell_type": "code",
      "source": [
        "from IPython.display import Image, display\n",
        "\n",
        "display(Image(graph.get_graph().draw_mermaid_png()))"
      ],
      "metadata": {
        "colab": {
          "base_uri": "https://localhost:8080/",
          "height": 449
        },
        "id": "ekzYujuZUQwn",
        "outputId": "b850a675-9cf8-4e73-b055-4c81b60c263a"
      },
      "execution_count": null,
      "outputs": [
        {
          "output_type": "display_data",
          "data": {
            "image/png": "[encoded data removed]",
            "text/plain": [
              "<IPython.core.display.Image object>"
            ]
          },
          "metadata": {}
        }
      ]
    },
    {
      "cell_type": "code",
      "source": [
        "for step in graph.stream(\n",
        "    {\"question\": \"What album have the most tracks?\"}, stream_mode=\"updates\"\n",
        "):\n",
        "    print(step)"
      ],
      "metadata": {
        "colab": {
          "base_uri": "https://localhost:8080/"
        },
        "id": "6QF_PUO2Um38",
        "outputId": "e70e22c3-d1a6-468c-bfd2-e7675a05442d"
      },
      "execution_count": null,
      "outputs": [
        {
          "output_type": "stream",
          "name": "stdout",
          "text": [
            "{'write_query': {'query': 'SELECT Album.Title, COUNT(Track.TrackId) AS TrackCount \\nFROM Album \\nJOIN Track ON Album.AlbumId = Track.AlbumId \\nGROUP BY Album.AlbumId \\nORDER BY TrackCount DESC \\nLIMIT 10;'}}\n",
            "{'execute_query': {'result': \"[('Greatest Hits', 57), ('Minha Historia', 34), ('Unplugged', 30), ('Lost, Season 3', 26), ('Lost, Season 1', 25), ('The Office, Season 3', 25), ('My Way: The Best Of Frank Sinatra [Disc 1]', 24), ('Lost, Season 2', 24), ('Battlestar Galactica (Classic), Season 1', 24), ('Afrociberdelia', 23)]\"}}\n",
            "{'generate_answer': {'answer': 'The album with the most tracks is \"Greatest Hits,\" which has 57 tracks.'}}\n"
          ]
        }
      ]
    },
    {
      "cell_type": "code",
      "source": [
        "for step in graph.stream(\n",
        "    {\"question\": \"Give me the top 5 tracks of album has the most tracks?\"}, stream_mode=\"updates\"\n",
        "):\n",
        "    print(step)"
      ],
      "metadata": {
        "colab": {
          "base_uri": "https://localhost:8080/"
        },
        "id": "TBrNuguvVJBX",
        "outputId": "7aea830a-3f78-4ee3-e360-3b4f0e025628"
      },
      "execution_count": null,
      "outputs": [
        {
          "output_type": "stream",
          "name": "stdout",
          "text": [
            "{'write_query': {'query': 'SELECT Track.Name, Track.AlbumId, COUNT(Track.TrackId) AS TrackCount \\nFROM Track \\nJOIN Album ON Track.AlbumId = Album.AlbumId \\nGROUP BY Track.AlbumId \\nORDER BY TrackCount DESC \\nLIMIT 1; \\n \\nSELECT Track.Name \\nFROM Track \\nWHERE Track.AlbumId = (SELECT AlbumId FROM Album ORDER BY (SELECT COUNT(*) FROM Track WHERE Track.AlbumId = Album.AlbumId) DESC LIMIT 1)\\nLIMIT 5;'}}\n",
            "{'execute_query': {'result': 'Error: (sqlite3.ProgrammingError) You can only execute one statement at a time.\\n[SQL: SELECT Track.Name, Track.AlbumId, COUNT(Track.TrackId) AS TrackCount \\nFROM Track \\nJOIN Album ON Track.AlbumId = Album.AlbumId \\nGROUP BY Track.AlbumId \\nORDER BY TrackCount DESC \\nLIMIT 1; \\n \\nSELECT Track.Name \\nFROM Track \\nWHERE Track.AlbumId = (SELECT AlbumId FROM Album ORDER BY (SELECT COUNT(*) FROM Track WHERE Track.AlbumId = Album.AlbumId) DESC LIMIT 1)\\nLIMIT 5;]\\n(Background on this error at: https://sqlalche.me/e/20/f405)'}}\n",
            "{'generate_answer': {'answer': \"The user asked for the top 5 tracks from the album that has the most tracks. However, the provided SQL query resulted in an error because it attempted to execute multiple SQL statements at once, which is not allowed in this context.\\n\\nTo answer the user question correctly, we should first determine which album has the most tracks, and then we should retrieve the top 5 tracks from that album.\\n\\nHere's how we can interpret and simplify the intention behind the SQL query:\\n\\n1. Identify the Album with the most tracks:\\n   - We can count the number of tracks in each album and order the results to find the album with the maximum count.\\n\\n2. List the top 5 tracks for that Album.\\n\\nThe correct sequence of steps would generally look something like this:\\n\\n```sql\\n-- Step 1: Find the AlbumId with the most tracks\\nSELECT AlbumId \\nFROM Track \\nGROUP BY AlbumId \\nORDER BY COUNT(TrackId) DESC \\nLIMIT 1;\\n\\n-- Step 2: Get the top 5 tracks from that album\\nSELECT Track.Name \\nFROM Track \\nWHERE AlbumId = (SELECT AlbumId FROM Track GROUP BY AlbumId ORDER BY COUNT(TrackId) DESC LIMIT 1)\\nLIMIT 5;\\n```\\n\\nGiven that the SQL result indicates there was an error in execution due to multiple statements, you would need to run the commands one at a time in an environment that allows multiple execution statements or is configured correctly to handle sub-queries.\\n\\nHowever, assuming we resolved the error and executed successfully, the answer to the user question would be the list of the top 5 tracks from the identified album with the maximum track count. Since the SQL result doesn't provide actual track names due to the error, we cannot directly give the specific track names without corrected execution.\"}}\n"
          ]
        }
      ]
    },
    {
      "cell_type": "markdown",
      "source": [
        "### Human-in-the-loop\n",
        "\n",
        "- Add human action before some sensitive steps, for example, review SQL, execution approval."
      ],
      "metadata": {
        "id": "Q55oLmncfl6Q"
      }
    },
    {
      "cell_type": "code",
      "source": [
        "from langgraph.checkpoint.memory import MemorySaver\n",
        "\n",
        "memory = MemorySaver()\n",
        "graph = graph_builder.compile(checkpointer=memory, interrupt_before=[\"execute_query\"])\n",
        "\n",
        "config = {\"configurable\": {\"thread_id\": \"user001\"}}"
      ],
      "metadata": {
        "id": "wRriNjvAf3yX"
      },
      "execution_count": null,
      "outputs": []
    },
    {
      "cell_type": "code",
      "source": [
        "display(Image(graph.get_graph().draw_mermaid_png()))"
      ],
      "metadata": {
        "colab": {
          "base_uri": "https://localhost:8080/",
          "height": 491
        },
        "id": "-A8lNpyUgNBV",
        "outputId": "cb549d5c-091e-44fa-9760-63ad28da0798"
      },
      "execution_count": null,
      "outputs": [
        {
          "output_type": "display_data",
          "data": {
            "image/png": "[encoded data removed]",
            "text/plain": [
              "<IPython.core.display.Image object>"
            ]
          },
          "metadata": {}
        }
      ]
    },
    {
      "cell_type": "code",
      "source": [
        "for step in graph.stream(\n",
        "    {\n",
        "        \"question\": \"Give me the top 5 tracks of album has the most tracks?\"\n",
        "    },\n",
        "    config=config,\n",
        "    stream_mode=\"updates\",\n",
        "):\n",
        "    print(step)\n",
        "\n",
        "try:\n",
        "    user_approval = input(\"Do you want to execute query? (yes/no): \")\n",
        "except Exception:\n",
        "    user_approval = \"no\"\n",
        "\n",
        "if user_approval.lower() == \"yes\":\n",
        "    # continue the graph\n",
        "    for step in graph.stream(None, config, stream_mode=\"updates\"):\n",
        "        print(step)\n",
        "else:\n",
        "    print(\"Operation cancelled by user\")"
      ],
      "metadata": {
        "colab": {
          "base_uri": "https://localhost:8080/"
        },
        "id": "LjCAfqMugOfi",
        "outputId": "04a1241d-20b1-47bf-9141-a6e25a434a68"
      },
      "execution_count": null,
      "outputs": [
        {
          "output_type": "stream",
          "name": "stdout",
          "text": [
            "{'write_query': {'query': 'SELECT Track.Name, Album.Title \\nFROM Track \\nJOIN Album ON Track.AlbumId = Album.AlbumId \\nWHERE Album.AlbumId = (SELECT AlbumId \\n                         FROM Track \\n                         GROUP BY AlbumId \\n                         ORDER BY COUNT(*) DESC \\n                         LIMIT 1) \\nLIMIT 5;'}}\n",
            "{'__interrupt__': ()}\n",
            "Do you want to execute query? (yes/no): yes\n",
            "{'execute_query': {'result': '[(\\'Are You Gonna Go My Way\\', \\'Greatest Hits\\'), (\\'Fly Away\\', \\'Greatest Hits\\'), (\\'Rock And Roll Is Dead\\', \\'Greatest Hits\\'), (\\'Again\\', \\'Greatest Hits\\'), (\"It Ain\\'t Over \\'Til It\\'s Over\", \\'Greatest Hits\\')]'}}\n",
            "{'generate_answer': {'answer': 'The top 5 tracks from the album that has the most tracks are:\\n\\n1. Are You Gonna Go My Way\\n2. Fly Away\\n3. Rock And Roll Is Dead\\n4. Again\\n5. It Ain\\'t Over \\'Til It\\'s Over\\n\\nThe album title is \"Greatest Hits.\"'}}\n"
          ]
        }
      ]
    },
    {
      "cell_type": "markdown",
      "source": [
        "#### More techniques\n",
        "\n",
        "- [Prompting strategies](https://python.langchain.com/docs/how_to/sql_prompting/): Advanced prompt engineering techniques.\n",
        "\n",
        "- [Query checking](https://python.langchain.com/docs/how_to/sql_query_checking/): Add query validation and error handling.\n",
        "\n",
        "- [Large databases](https://python.langchain.com/docs/how_to/sql_large_db/): Techniques for working with large databases."
      ],
      "metadata": {
        "id": "jeqRGjmHhG4P"
      }
    },
    {
      "cell_type": "markdown",
      "source": [
        "### Agents approach\n",
        "\n",
        "- Query db as many times as needed to answer the question\n",
        "\n",
        "- Recover from errors by running query, catching traceback and regenerating\n",
        "\n",
        "- Based on db'schema and content (no need pre-provided db schema)\n",
        "\n",
        "Using `SQLDatabaseToolkit` agent\n",
        "\n",
        "- Create and execute queries\n",
        "\n",
        "- Check syntax\n",
        "\n",
        "- Retrieve table descriptions\n",
        "\n",
        "- ...\n",
        "\n",
        "In-depth tutorials: [Build a SQL agent](https://langchain-ai.github.io/langgraph/tutorials/sql-agent)"
      ],
      "metadata": {
        "id": "FkpJwlx4mpNq"
      }
    },
    {
      "cell_type": "code",
      "source": [
        "from langchain_community.agent_toolkits import SQLDatabaseToolkit\n",
        "\n",
        "toolkit = SQLDatabaseToolkit(db=db, llm=llm)\n",
        "\n",
        "tools = toolkit.get_tools()"
      ],
      "metadata": {
        "id": "8mJBTrwcmoBp"
      },
      "execution_count": null,
      "outputs": []
    },
    {
      "cell_type": "code",
      "source": [
        "tools"
      ],
      "metadata": {
        "colab": {
          "base_uri": "https://localhost:8080/"
        },
        "id": "xXruYiXIoxZX",
        "outputId": "16dff408-4e0a-4ca4-c1c5-5651628084b8"
      },
      "execution_count": null,
      "outputs": [
        {
          "output_type": "execute_result",
          "data": {
            "text/plain": [
              "[QuerySQLDatabaseTool(description=\"Input to this tool is a detailed and correct SQL query, output is a result from the database. If the query is not correct, an error message will be returned. If an error is returned, rewrite the query, check the query, and try again. If you encounter an issue with Unknown column 'xxxx' in 'field list', use sql_db_schema to query the correct table fields.\", db=<langchain_community.utilities.sql_database.SQLDatabase object at 0x7c233ab2f910>),\n",
              " InfoSQLDatabaseTool(description='Input to this tool is a comma-separated list of tables, output is the schema and sample rows for those tables. Be sure that the tables actually exist by calling sql_db_list_tables first! Example Input: table1, table2, table3', db=<langchain_community.utilities.sql_database.SQLDatabase object at 0x7c233ab2f910>),\n",
              " ListSQLDatabaseTool(db=<langchain_community.utilities.sql_database.SQLDatabase object at 0x7c233ab2f910>),\n",
              " QuerySQLCheckerTool(description='Use this tool to double check if your query is correct before executing it. Always use this tool before executing a query with sql_db_query!', db=<langchain_community.utilities.sql_database.SQLDatabase object at 0x7c233ab2f910>, llm=ChatOpenAI(client=<openai.resources.chat.completions.completions.Completions object at 0x7c2339d61b50>, async_client=<openai.resources.chat.completions.completions.AsyncCompletions object at 0x7c233925a150>, root_client=<openai.OpenAI object at 0x7c2339db0190>, root_async_client=<openai.AsyncOpenAI object at 0x7c2339259cd0>, model_name='gpt-4o-mini', model_kwargs={}, openai_api_key=SecretStr('**********')), llm_chain=LLMChain(verbose=False, prompt=PromptTemplate(input_variables=['dialect', 'query'], input_types={}, partial_variables={}, template='\\n{query}\\nDouble check the {dialect} query above for common mistakes, including:\\n- Using NOT IN with NULL values\\n- Using UNION when UNION ALL should have been used\\n- Using BETWEEN for exclusive ranges\\n- Data type mismatch in predicates\\n- Properly quoting identifiers\\n- Using the correct number of arguments for functions\\n- Casting to the correct data type\\n- Using the proper columns for joins\\n\\nIf there are any of the above mistakes, rewrite the query. If there are no mistakes, just reproduce the original query.\\n\\nOutput the final SQL query only.\\n\\nSQL Query: '), llm=ChatOpenAI(client=<openai.resources.chat.completions.completions.Completions object at 0x7c2339d61b50>, async_client=<openai.resources.chat.completions.completions.AsyncCompletions object at 0x7c233925a150>, root_client=<openai.OpenAI object at 0x7c2339db0190>, root_async_client=<openai.AsyncOpenAI object at 0x7c2339259cd0>, model_name='gpt-4o-mini', model_kwargs={}, openai_api_key=SecretStr('**********')), output_parser=StrOutputParser(), llm_kwargs={}))]"
            ]
          },
          "metadata": {},
          "execution_count": 28
        }
      ]
    },
    {
      "cell_type": "code",
      "source": [
        "system_message_for_agent = \"\"\"\n",
        "You are an agent designed to interact with a SQL database.\n",
        "Given an input question, create a syntactically correct {dialect} query to run,\n",
        "then look at the results of the query and return the answer. Unless the user\n",
        "specifies a specific number of examples they wish to obtain, always limit your\n",
        "query to at most {top_k} results.\n",
        "\n",
        "You can order the results by a relevant column to return the most interesting\n",
        "examples in the database. Nevery query for all the columns from a specific table,\n",
        "only ask for the relevant columns given the question.\n",
        "\n",
        "You MUST double check your query before executing it. If you get an error while\n",
        "executing a query, rewrite the query and try again.\n",
        "\n",
        "DO NOT make any DML statements (INSERT, UPDATE, DELETE, DROP etc.) to the database.\n",
        "\n",
        "To start you should ALWAYS look at the tables in the database to see what you can\n",
        "query. Do NOT skip this step.\n",
        "\n",
        "Then you should query the schema of the most relevant tables\n",
        "\"\"\".format(\n",
        "    dialect=\"SQLite\",\n",
        "    top_k=5,\n",
        ")"
      ],
      "metadata": {
        "id": "Sh5_1LPxo2A8"
      },
      "execution_count": null,
      "outputs": []
    },
    {
      "cell_type": "code",
      "source": [
        "from langchain_core.messages import HumanMessageChunk\n",
        "from langgraph.prebuilt import create_react_agent\n",
        "\n",
        "agent_executor = create_react_agent(llm, tools, prompt=system_message_for_agent)"
      ],
      "metadata": {
        "id": "Kqg2V3IftOwP"
      },
      "execution_count": null,
      "outputs": []
    },
    {
      "cell_type": "code",
      "source": [
        "display(Image(agent_executor.get_graph().draw_mermaid_png()))"
      ],
      "metadata": {
        "colab": {
          "base_uri": "https://localhost:8080/",
          "height": 266
        },
        "id": "kNt9nNwwtmgQ",
        "outputId": "df719b8a-aa47-49c0-d079-92506a5f58f3"
      },
      "execution_count": null,
      "outputs": [
        {
          "output_type": "display_data",
          "data": {
            "image/png": "[encoded data removed]",
            "text/plain": [
              "<IPython.core.display.Image object>"
            ]
          },
          "metadata": {}
        }
      ]
    },
    {
      "cell_type": "code",
      "source": [
        "question = \"Which country's customers spent the most?\"\n",
        "\n",
        "for step in agent_executor.stream(\n",
        "    {\"messages\": [{\"role\": \"user\", \"content\": question}]},\n",
        "    stream_mode=\"values\",\n",
        "):\n",
        "    step[\"messages\"][-1].pretty_print()"
      ],
      "metadata": {
        "colab": {
          "base_uri": "https://localhost:8080/"
        },
        "id": "NIu4aCoDtuA-",
        "outputId": "1dda5839-ac04-48b6-c769-809143708d86"
      },
      "execution_count": null,
      "outputs": [
        {
          "output_type": "stream",
          "name": "stdout",
          "text": [
            "================================\u001b[1m Human Message \u001b[0m=================================\n",
            "\n",
            "Which country's customers spent the most?\n",
            "==================================\u001b[1m Ai Message \u001b[0m==================================\n",
            "Tool Calls:\n",
            "  sql_db_list_tables (call_ojBis0tWIhXBpdr50vnl306y)\n",
            " Call ID: call_ojBis0tWIhXBpdr50vnl306y\n",
            "  Args:\n",
            "=================================\u001b[1m Tool Message \u001b[0m=================================\n",
            "Name: sql_db_list_tables\n",
            "\n",
            "Album, Artist, Customer, Employee, Genre, Invoice, InvoiceLine, MediaType, Playlist, PlaylistTrack, Track\n",
            "==================================\u001b[1m Ai Message \u001b[0m==================================\n",
            "Tool Calls:\n",
            "  sql_db_schema (call_EGVprCUrlAtGnLYUU1BfqvSt)\n",
            " Call ID: call_EGVprCUrlAtGnLYUU1BfqvSt\n",
            "  Args:\n",
            "    table_names: Customer\n",
            "  sql_db_schema (call_lcaIlFBvcXFcprophNbOZDWR)\n",
            " Call ID: call_lcaIlFBvcXFcprophNbOZDWR\n",
            "  Args:\n",
            "    table_names: Invoice\n",
            "=================================\u001b[1m Tool Message \u001b[0m=================================\n",
            "Name: sql_db_schema\n",
            "\n",
            "\n",
            "CREATE TABLE \"Invoice\" (\n",
            "\t\"InvoiceId\" INTEGER NOT NULL, \n",
            "\t\"CustomerId\" INTEGER NOT NULL, \n",
            "\t\"InvoiceDate\" DATETIME NOT NULL, \n",
            "\t\"BillingAddress\" NVARCHAR(70), \n",
            "\t\"BillingCity\" NVARCHAR(40), \n",
            "\t\"BillingState\" NVARCHAR(40), \n",
            "\t\"BillingCountry\" NVARCHAR(40), \n",
            "\t\"BillingPostalCode\" NVARCHAR(10), \n",
            "\t\"Total\" NUMERIC(10, 2) NOT NULL, \n",
            "\tPRIMARY KEY (\"InvoiceId\"), \n",
            "\tFOREIGN KEY(\"CustomerId\") REFERENCES \"Customer\" (\"CustomerId\")\n",
            ")\n",
            "\n",
            "/*\n",
            "3 rows from Invoice table:\n",
            "InvoiceId\tCustomerId\tInvoiceDate\tBillingAddress\tBillingCity\tBillingState\tBillingCountry\tBillingPostalCode\tTotal\n",
            "1\t2\t2021-01-01 00:00:00\tTheodor-Heuss-Straße 34\tStuttgart\tNone\tGermany\t70174\t1.98\n",
            "2\t4\t2021-01-02 00:00:00\tUllevålsveien 14\tOslo\tNone\tNorway\t0171\t3.96\n",
            "3\t8\t2021-01-03 00:00:00\tGrétrystraat 63\tBrussels\tNone\tBelgium\t1000\t5.94\n",
            "*/\n",
            "==================================\u001b[1m Ai Message \u001b[0m==================================\n",
            "Tool Calls:\n",
            "  sql_db_query_checker (call_YqO6WKViyVubFXIq7lW0gDml)\n",
            " Call ID: call_YqO6WKViyVubFXIq7lW0gDml\n",
            "  Args:\n",
            "    query: SELECT Customer.Country, SUM(Invoice.Total) AS TotalSpent \n",
            "FROM Invoice\n",
            "JOIN Customer ON Invoice.CustomerId = Customer.CustomerId \n",
            "GROUP BY Customer.Country \n",
            "ORDER BY TotalSpent DESC \n",
            "LIMIT 5;\n",
            "=================================\u001b[1m Tool Message \u001b[0m=================================\n",
            "Name: sql_db_query_checker\n",
            "\n",
            "```sql\n",
            "SELECT Customer.Country, SUM(Invoice.Total) AS TotalSpent \n",
            "FROM Invoice\n",
            "JOIN Customer ON Invoice.CustomerId = Customer.CustomerId \n",
            "GROUP BY Customer.Country \n",
            "ORDER BY TotalSpent DESC \n",
            "LIMIT 5;\n",
            "```\n",
            "==================================\u001b[1m Ai Message \u001b[0m==================================\n",
            "Tool Calls:\n",
            "  sql_db_query (call_ws4ov6qEokjZJKtonzagulpc)\n",
            " Call ID: call_ws4ov6qEokjZJKtonzagulpc\n",
            "  Args:\n",
            "    query: SELECT Customer.Country, SUM(Invoice.Total) AS TotalSpent \n",
            "FROM Invoice\n",
            "JOIN Customer ON Invoice.CustomerId = Customer.CustomerId \n",
            "GROUP BY Customer.Country \n",
            "ORDER BY TotalSpent DESC \n",
            "LIMIT 5;\n",
            "=================================\u001b[1m Tool Message \u001b[0m=================================\n",
            "Name: sql_db_query\n",
            "\n",
            "[('USA', 523.0600000000003), ('Canada', 303.9599999999999), ('France', 195.09999999999994), ('Brazil', 190.09999999999997), ('Germany', 156.48)]\n",
            "==================================\u001b[1m Ai Message \u001b[0m==================================\n",
            "\n",
            "The countries whose customers spent the most are as follows:\n",
            "\n",
            "1. **USA**: $523.06\n",
            "2. **Canada**: $303.96\n",
            "3. **France**: $195.10\n",
            "4. **Brazil**: $190.10\n",
            "5. **Germany**: $156.48\n"
          ]
        }
      ]
    },
    {
      "cell_type": "code",
      "source": [
        "question = \"Describe the playlisttrack table\"\n",
        "\n",
        "for step in agent_executor.stream(\n",
        "    {\"messages\": [{\"role\": \"user\", \"content\": question}]},\n",
        "    stream_mode=\"values\",\n",
        "):\n",
        "    step[\"messages\"][-1].pretty_print()"
      ],
      "metadata": {
        "colab": {
          "base_uri": "https://localhost:8080/"
        },
        "id": "00DNUBTTuN_y",
        "outputId": "de6f5e97-64ea-42a6-debb-e663534ab05f"
      },
      "execution_count": null,
      "outputs": [
        {
          "output_type": "stream",
          "name": "stdout",
          "text": [
            "================================\u001b[1m Human Message \u001b[0m=================================\n",
            "\n",
            "Describe the playlisttrack table\n",
            "==================================\u001b[1m Ai Message \u001b[0m==================================\n",
            "Tool Calls:\n",
            "  sql_db_list_tables (call_obMJ2OAw5KV6xqV16RRxivCB)\n",
            " Call ID: call_obMJ2OAw5KV6xqV16RRxivCB\n",
            "  Args:\n",
            "=================================\u001b[1m Tool Message \u001b[0m=================================\n",
            "Name: sql_db_list_tables\n",
            "\n",
            "Album, Artist, Customer, Employee, Genre, Invoice, InvoiceLine, MediaType, Playlist, PlaylistTrack, Track\n",
            "==================================\u001b[1m Ai Message \u001b[0m==================================\n",
            "Tool Calls:\n",
            "  sql_db_schema (call_UvmKBDJCAdB0yhRYMWoEbqxr)\n",
            " Call ID: call_UvmKBDJCAdB0yhRYMWoEbqxr\n",
            "  Args:\n",
            "    table_names: PlaylistTrack\n",
            "=================================\u001b[1m Tool Message \u001b[0m=================================\n",
            "Name: sql_db_schema\n",
            "\n",
            "\n",
            "CREATE TABLE \"PlaylistTrack\" (\n",
            "\t\"PlaylistId\" INTEGER NOT NULL, \n",
            "\t\"TrackId\" INTEGER NOT NULL, \n",
            "\tPRIMARY KEY (\"PlaylistId\", \"TrackId\"), \n",
            "\tFOREIGN KEY(\"TrackId\") REFERENCES \"Track\" (\"TrackId\"), \n",
            "\tFOREIGN KEY(\"PlaylistId\") REFERENCES \"Playlist\" (\"PlaylistId\")\n",
            ")\n",
            "\n",
            "/*\n",
            "3 rows from PlaylistTrack table:\n",
            "PlaylistId\tTrackId\n",
            "1\t3402\n",
            "1\t3389\n",
            "1\t3390\n",
            "*/\n",
            "==================================\u001b[1m Ai Message \u001b[0m==================================\n",
            "\n",
            "The `PlaylistTrack` table has the following structure:\n",
            "\n",
            "- **PlaylistId**: INTEGER, NOT NULL\n",
            "- **TrackId**: INTEGER, NOT NULL\n",
            "\n",
            "**Primary Key**: The combination of `PlaylistId` and `TrackId` serves as the primary key for the table.\n",
            "\n",
            "**Foreign Keys**: \n",
            "- `TrackId` references the `Track` table's `TrackId`.\n",
            "- `PlaylistId` references the `Playlist` table's `PlaylistId`.\n",
            "\n",
            "### Sample Data:\n",
            "Here are three example records from the `PlaylistTrack` table:\n",
            "\n",
            "| PlaylistId | TrackId |\n",
            "|------------|---------|\n",
            "| 1          | 3402    |\n",
            "| 1          | 3389    |\n",
            "| 1          | 3390    |\n"
          ]
        }
      ]
    },
    {
      "cell_type": "markdown",
      "source": [
        "#### Dealing with high-cardinality columns\n",
        "\n",
        "- If there are columns that contain proper nouns such as addresses, song names or artist. It would be difficult for filter target data if user input a propert noun incorrectly\n",
        "\n",
        "\n",
        "- We creating a vector store with distinct proper nouns exist in db and have the agent query that vector store each time user includes a proper noun in their question, to find correct spelling for that word.\n",
        "\n"
      ],
      "metadata": {
        "id": "oJGoG5O0xplh"
      }
    },
    {
      "cell_type": "code",
      "source": [
        "import ast\n",
        "import re\n",
        "\n",
        "def query_as_list(db, query):\n",
        "    res = db.run(query)\n",
        "    res = [el for sub in ast.literal_eval(res) for el in sub if el]\n",
        "    res = [re.sub(r\"\\b\\d+\\b\", \"\", string).strip() for string in res]\n",
        "    return list(set(res))\n",
        "\n",
        "artists = query_as_list(db, \"SELECT Name FROM Artist\")\n",
        "albums = query_as_list(db, \"SELECT Title FROM Album\")\n",
        "albums[:5]"
      ],
      "metadata": {
        "colab": {
          "base_uri": "https://localhost:8080/"
        },
        "id": "qHVdceGqxL1D",
        "outputId": "c743f399-658a-46e8-bc70-ce281eeafd22"
      },
      "execution_count": null,
      "outputs": [
        {
          "output_type": "execute_result",
          "data": {
            "text/plain": [
              "[\"Monteverdi: L'Orfeo\",\n",
              " 'Dark Side Of The Moon',\n",
              " 'Acústico MTV [Live]',\n",
              " 'Slaves And Masters',\n",
              " 'Purcell: The Fairy Queen']"
            ]
          },
          "metadata": {},
          "execution_count": 37
        }
      ]
    },
    {
      "cell_type": "code",
      "source": [
        "artists[:5]"
      ],
      "metadata": {
        "colab": {
          "base_uri": "https://localhost:8080/"
        },
        "id": "aA8uNAz4z3mJ",
        "outputId": "da593d25-96e7-4d52-e534-5bf55f5ad1a1"
      },
      "execution_count": null,
      "outputs": [
        {
          "output_type": "execute_result",
          "data": {
            "text/plain": [
              "['Creedence Clearwater Revival',\n",
              " 'Metallica',\n",
              " 'Santana Feat. The Project G&B',\n",
              " 'Orchestre Révolutionnaire et Romantique & John Eliot Gardiner',\n",
              " 'Legião Urbana']"
            ]
          },
          "metadata": {},
          "execution_count": 38
        }
      ]
    },
    {
      "cell_type": "code",
      "source": [
        "!pip install -qU langchain-openai"
      ],
      "metadata": {
        "id": "HOiff3Km0EKH"
      },
      "execution_count": null,
      "outputs": []
    },
    {
      "cell_type": "code",
      "source": [
        "from langchain_openai import OpenAIEmbeddings\n",
        "\n",
        "embeddings = OpenAIEmbeddings(model=\"text-embedding-3-large\")"
      ],
      "metadata": {
        "id": "c5ChXh6Bz8AR"
      },
      "execution_count": null,
      "outputs": []
    },
    {
      "cell_type": "code",
      "source": [
        "from langchain_core.vectorstores import InMemoryVectorStore\n",
        "\n",
        "vector_store = InMemoryVectorStore(embeddings)"
      ],
      "metadata": {
        "id": "1QkpTNht0SnT"
      },
      "execution_count": null,
      "outputs": []
    },
    {
      "cell_type": "code",
      "source": [
        "from langchain.agents.agent_toolkits import create_retriever_tool\n",
        "\n",
        "_ = vector_store.add_texts(artists + albums)\n",
        "\n",
        "retriever = vector_store.as_retriever(search_kwargs={\"k\": 5})\n",
        "descriptions = (\n",
        "    \"Use to look up values to filter on. Input is an approximate spelling \"\n",
        "    \"of the proper noun, output is valid proper nouns. Use the noun most \"\n",
        "    \"similar to the search.\"\n",
        ")\n",
        "\n",
        "retriever_tool = create_retriever_tool(\n",
        "    retriever,\n",
        "    name=\"search_proper_nouns\",\n",
        "    description=descriptions,\n",
        ")"
      ],
      "metadata": {
        "id": "ru9fI0-I0bZk"
      },
      "execution_count": null,
      "outputs": []
    },
    {
      "cell_type": "code",
      "source": [
        "print(retriever_tool.invoke(\"Alice Chains\"))"
      ],
      "metadata": {
        "colab": {
          "base_uri": "https://localhost:8080/"
        },
        "id": "WAlGfmM_1BOI",
        "outputId": "39c7e4cc-a192-498e-a4b9-02bb635ff099"
      },
      "execution_count": null,
      "outputs": [
        {
          "output_type": "stream",
          "name": "stdout",
          "text": [
            "Alice In Chains\n",
            "\n",
            "Alanis Morissette\n",
            "\n",
            "Jagged Little Pill\n",
            "\n",
            "Angel Dust\n",
            "\n",
            "Amy Winehouse\n"
          ]
        }
      ]
    },
    {
      "cell_type": "code",
      "source": [
        "print(retriever_tool.invoke(\"Vo Minh Duy\"))"
      ],
      "metadata": {
        "colab": {
          "base_uri": "https://localhost:8080/"
        },
        "id": "eOwCCrD91WAA",
        "outputId": "c57b61b0-7508-484d-e8d6-21150630e5b5"
      },
      "execution_count": null,
      "outputs": [
        {
          "output_type": "stream",
          "name": "stdout",
          "text": [
            "Minas\n",
            "\n",
            "Vinicius De Moraes\n",
            "\n",
            "Duos II\n",
            "\n",
            "Vinicius, Toquinho & Quarteto Em Cy\n",
            "\n",
            "Vinícius De Moraes & Baden Powell\n"
          ]
        }
      ]
    },
    {
      "cell_type": "code",
      "source": [
        "# update agent system message for using new retriever tool\n",
        "suffix = (\n",
        "    \"If you need to filter on a proper noun like a Name, you must ALWAYS first look up \"\n",
        "    \"the filter value using the 'search_proper_nouns' tool! Do not try to \"\n",
        "    \"guess at the proper name - use this function to find similar ones.\"\n",
        ")\n",
        "\n",
        "system_message_for_agent_v2 = f\"{system_message_for_agent}\\n\\n{suffix}\"\n",
        "\n",
        "tools.append(retriever_tool)\n",
        "\n",
        "agent = create_react_agent(llm, tools, prompt=system_message_for_agent_v2)"
      ],
      "metadata": {
        "id": "lCobD9bR1aeG"
      },
      "execution_count": null,
      "outputs": []
    },
    {
      "cell_type": "code",
      "source": [
        "question = \"How many albums does alis in chain have?\"\n",
        "\n",
        "for step in agent.stream(\n",
        "    {\"messages\": [{\"role\": \"user\", \"content\": question}]},\n",
        "    stream_mode=\"values\",\n",
        "):\n",
        "    step[\"messages\"][-1].pretty_print()"
      ],
      "metadata": {
        "colab": {
          "base_uri": "https://localhost:8080/"
        },
        "id": "RmXmL6AB2ADl",
        "outputId": "562161b4-a9d9-4e5b-9ea5-cc71ffa5d988"
      },
      "execution_count": null,
      "outputs": [
        {
          "output_type": "stream",
          "name": "stdout",
          "text": [
            "================================\u001b[1m Human Message \u001b[0m=================================\n",
            "\n",
            "How many albums does alis in chain have?\n",
            "==================================\u001b[1m Ai Message \u001b[0m==================================\n",
            "Tool Calls:\n",
            "  sql_db_list_tables (call_yiEcm3kdECwHXyJTd9x6Bii7)\n",
            " Call ID: call_yiEcm3kdECwHXyJTd9x6Bii7\n",
            "  Args:\n",
            "=================================\u001b[1m Tool Message \u001b[0m=================================\n",
            "Name: sql_db_list_tables\n",
            "\n",
            "Album, Artist, Customer, Employee, Genre, Invoice, InvoiceLine, MediaType, Playlist, PlaylistTrack, Track\n",
            "==================================\u001b[1m Ai Message \u001b[0m==================================\n",
            "Tool Calls:\n",
            "  sql_db_schema (call_Dcl5jYT8i1PyY1gTE2Khbbzu)\n",
            " Call ID: call_Dcl5jYT8i1PyY1gTE2Khbbzu\n",
            "  Args:\n",
            "    table_names: Artist, Album\n",
            "=================================\u001b[1m Tool Message \u001b[0m=================================\n",
            "Name: sql_db_schema\n",
            "\n",
            "\n",
            "CREATE TABLE \"Album\" (\n",
            "\t\"AlbumId\" INTEGER NOT NULL, \n",
            "\t\"Title\" NVARCHAR(160) NOT NULL, \n",
            "\t\"ArtistId\" INTEGER NOT NULL, \n",
            "\tPRIMARY KEY (\"AlbumId\"), \n",
            "\tFOREIGN KEY(\"ArtistId\") REFERENCES \"Artist\" (\"ArtistId\")\n",
            ")\n",
            "\n",
            "/*\n",
            "3 rows from Album table:\n",
            "AlbumId\tTitle\tArtistId\n",
            "1\tFor Those About To Rock We Salute You\t1\n",
            "2\tBalls to the Wall\t2\n",
            "3\tRestless and Wild\t2\n",
            "*/\n",
            "\n",
            "\n",
            "CREATE TABLE \"Artist\" (\n",
            "\t\"ArtistId\" INTEGER NOT NULL, \n",
            "\t\"Name\" NVARCHAR(120), \n",
            "\tPRIMARY KEY (\"ArtistId\")\n",
            ")\n",
            "\n",
            "/*\n",
            "3 rows from Artist table:\n",
            "ArtistId\tName\n",
            "1\tAC/DC\n",
            "2\tAccept\n",
            "3\tAerosmith\n",
            "*/\n",
            "==================================\u001b[1m Ai Message \u001b[0m==================================\n",
            "Tool Calls:\n",
            "  search_proper_nouns (call_Xyc6XjT6GjPxst61tdYlwJVk)\n",
            " Call ID: call_Xyc6XjT6GjPxst61tdYlwJVk\n",
            "  Args:\n",
            "    query: alis in chain\n",
            "=================================\u001b[1m Tool Message \u001b[0m=================================\n",
            "Name: search_proper_nouns\n",
            "\n",
            "Alice In Chains\n",
            "\n",
            "Alanis Morissette\n",
            "\n",
            "Up An' Atom\n",
            "\n",
            "A-Sides\n",
            "\n",
            "Jagged Little Pill\n",
            "==================================\u001b[1m Ai Message \u001b[0m==================================\n",
            "Tool Calls:\n",
            "  sql_db_query_checker (call_4kh8Yhu3naibeA4jDfcv20qo)\n",
            " Call ID: call_4kh8Yhu3naibeA4jDfcv20qo\n",
            "  Args:\n",
            "    query: SELECT COUNT(*) FROM Album WHERE ArtistId = (SELECT ArtistId FROM Artist WHERE Name = 'Alice In Chains')\n",
            "=================================\u001b[1m Tool Message \u001b[0m=================================\n",
            "Name: sql_db_query_checker\n",
            "\n",
            "```sql\n",
            "SELECT COUNT(*) FROM Album WHERE ArtistId = (SELECT ArtistId FROM Artist WHERE Name = 'Alice In Chains')\n",
            "```\n",
            "==================================\u001b[1m Ai Message \u001b[0m==================================\n",
            "Tool Calls:\n",
            "  sql_db_query (call_dXCzgEfwUw33dfKShAXWToFE)\n",
            " Call ID: call_dXCzgEfwUw33dfKShAXWToFE\n",
            "  Args:\n",
            "    query: SELECT COUNT(*) FROM Album WHERE ArtistId = (SELECT ArtistId FROM Artist WHERE Name = 'Alice In Chains')\n",
            "=================================\u001b[1m Tool Message \u001b[0m=================================\n",
            "Name: sql_db_query\n",
            "\n",
            "[(1,)]\n",
            "==================================\u001b[1m Ai Message \u001b[0m==================================\n",
            "\n",
            "Alice In Chains has 1 album.\n"
          ]
        }
      ]
    },
    {
      "cell_type": "code",
      "source": [],
      "metadata": {
        "id": "cx_fnF6T2Nz4"
      },
      "execution_count": null,
      "outputs": []
    }
  ]
}