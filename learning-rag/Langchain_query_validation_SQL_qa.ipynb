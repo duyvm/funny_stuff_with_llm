{
  "nbformat": 4,
  "nbformat_minor": 0,
  "metadata": {
    "colab": {
      "provenance": [],
      "authorship_tag": "ABX9TyPrfjQ0jBH2ds6b32wqz8ax",
      "include_colab_link": true
    },
    "kernelspec": {
      "name": "python3",
      "display_name": "Python 3"
    },
    "language_info": {
      "name": "python"
    }
  },
  "cells": [
    {
      "cell_type": "markdown",
      "metadata": {
        "id": "view-in-github",
        "colab_type": "text"
      },
      "source": [
        "<a href=\"https://colab.research.google.com/github/duyvm/funny_stuff_with_llm/blob/main/learning-rag/Langchain_query_validation_SQL_qa.ipynb\" target=\"_parent\"><img src=\"https://colab.research.google.com/assets/colab-badge.svg\" alt=\"Open In Colab\"/></a>"
      ]
    },
    {
      "cell_type": "code",
      "execution_count": 1,
      "metadata": {
        "id": "6ym6NvY0p5ek"
      },
      "outputs": [],
      "source": [
        "%pip install --quiet --upgrade langchain-chroma langchain[openai] langchain langchain-community langgraph langchain-core langchain-text-splitters> /dev/null"
      ]
    },
    {
      "cell_type": "code",
      "source": [
        "from google.colab import userdata\n",
        "import os\n",
        "\n",
        "os.environ[\"LANGSMITH_TRACING\"] = \"true\"\n",
        "os.environ[\"LANGSMITH_ENDPOINT\"] = \"https://api.smith.langchain.com\"\n",
        "os.environ[\"LANGSMITH_PROJECT\"] = f\"langchain-learning-rag\"\n",
        "os.environ[\"LANGSMITH_API_KEY\"] = userdata.get('LANGSMITH_API_KEY')\n",
        "os.environ[\"OPENAI_API_KEY\"] = userdata.get('OPENAI_API_KEY')"
      ],
      "metadata": {
        "id": "xmtEhKrEACgf"
      },
      "execution_count": 2,
      "outputs": []
    },
    {
      "cell_type": "markdown",
      "source": [
        "# Overview\n",
        "\n",
        "Guide: [How to do query validation as part of SQL question-answering](https://python.langchain.com/docs/how_to/sql_query_checking/)\n",
        "\n",
        "## Objectives\n",
        "\n",
        "Validation generated SQL query"
      ],
      "metadata": {
        "id": "j60Ksa78BWHs"
      }
    },
    {
      "cell_type": "markdown",
      "source": [
        "# Load data\n",
        "\n",
        "Load the Chinook db sql file and build the db"
      ],
      "metadata": {
        "id": "F7MiQWGzCE4W"
      }
    },
    {
      "cell_type": "code",
      "source": [
        "!sudo apt-get install sqlite3\n",
        "!curl -s https://raw.githubusercontent.com/duyvm/funny_stuff_with_llm/refs/heads/main/learning-rag/db/Chinook_Sqlite.sql | sqlite3 Chinook.db"
      ],
      "metadata": {
        "colab": {
          "base_uri": "https://localhost:8080/"
        },
        "id": "U17avUfoc_wh",
        "outputId": "e53a6c08-e2e8-44b4-f767-4c40f9442356"
      },
      "execution_count": 3,
      "outputs": [
        {
          "output_type": "stream",
          "name": "stdout",
          "text": [
            "Reading package lists... Done\n",
            "Building dependency tree... Done\n",
            "Reading state information... Done\n",
            "Suggested packages:\n",
            "  sqlite3-doc\n",
            "The following NEW packages will be installed:\n",
            "  sqlite3\n",
            "0 upgraded, 1 newly installed, 0 to remove and 35 not upgraded.\n",
            "Need to get 769 kB of archives.\n",
            "After this operation, 1,873 kB of additional disk space will be used.\n",
            "Get:1 http://archive.ubuntu.com/ubuntu jammy-updates/main amd64 sqlite3 amd64 3.37.2-2ubuntu0.4 [769 kB]\n",
            "Fetched 769 kB in 1s (1,152 kB/s)\n",
            "debconf: unable to initialize frontend: Dialog\n",
            "debconf: (No usable dialog-like program is installed, so the dialog based frontend cannot be used. at /usr/share/perl5/Debconf/FrontEnd/Dialog.pm line 78, <> line 1.)\n",
            "debconf: falling back to frontend: Readline\n",
            "debconf: unable to initialize frontend: Readline\n",
            "debconf: (This frontend requires a controlling tty.)\n",
            "debconf: falling back to frontend: Teletype\n",
            "dpkg-preconfigure: unable to re-open stdin: \n",
            "Selecting previously unselected package sqlite3.\n",
            "(Reading database ... 126281 files and directories currently installed.)\n",
            "Preparing to unpack .../sqlite3_3.37.2-2ubuntu0.4_amd64.deb ...\n",
            "Unpacking sqlite3 (3.37.2-2ubuntu0.4) ...\n",
            "Setting up sqlite3 (3.37.2-2ubuntu0.4) ...\n",
            "Processing triggers for man-db (2.10.2-1) ...\n"
          ]
        }
      ]
    },
    {
      "cell_type": "code",
      "source": [
        "from langchain_community.utilities import SQLDatabase\n",
        "\n",
        "db = SQLDatabase.from_uri(\"sqlite:///Chinook.db\", sample_rows_in_table_info=3)\n",
        "print(f\"dialect: {db.dialect}\")\n",
        "print(f\"table_names: {db.get_usable_table_names()}\")\n",
        "print(f\"Test 'SELECT * FROM Artist LIMIT 10;': {db.run('SELECT * FROM Artist LIMIT 10;')}\")"
      ],
      "metadata": {
        "colab": {
          "base_uri": "https://localhost:8080/"
        },
        "id": "IQp8zoPMwQkx",
        "outputId": "e9b79f44-3c89-4d47-faef-7865820e591d"
      },
      "execution_count": 4,
      "outputs": [
        {
          "output_type": "stream",
          "name": "stdout",
          "text": [
            "dialect: sqlite\n",
            "table_names: ['Album', 'Artist', 'Customer', 'Employee', 'Genre', 'Invoice', 'InvoiceLine', 'MediaType', 'Playlist', 'PlaylistTrack', 'Track']\n",
            "Test 'SELECT * FROM Artist LIMIT 10;': [(1, 'AC/DC'), (2, 'Accept'), (3, 'Aerosmith'), (4, 'Alanis Morissette'), (5, 'Alice In Chains'), (6, 'Antônio Carlos Jobim'), (7, 'Apocalyptica'), (8, 'Audioslave'), (9, 'BackBeat'), (10, 'Billy Cobham')]\n"
          ]
        }
      ]
    },
    {
      "cell_type": "markdown",
      "source": [
        "- `create_sql_query_chain` will create chain based on input llm and db (automatically realize db dialect and use approriate template)\n",
        "\n",
        "- make two llm calls: create query then validate it"
      ],
      "metadata": {
        "id": "ldFPU1WM4Sv4"
      }
    },
    {
      "cell_type": "code",
      "source": [
        "from langchain.chat_models import init_chat_model\n",
        "from langchain.chains import create_sql_query_chain\n",
        "\n",
        "llm = init_chat_model(\"openai:gpt-4o-mini\")\n",
        "chain = create_sql_query_chain(llm, db)\n",
        "chain.get_prompts()[0].pretty_print()"
      ],
      "metadata": {
        "id": "yw6PKWu9DS3E",
        "colab": {
          "base_uri": "https://localhost:8080/"
        },
        "outputId": "8bb1da47-608c-4253-e11f-72168e5b833e"
      },
      "execution_count": 35,
      "outputs": [
        {
          "output_type": "stream",
          "name": "stdout",
          "text": [
            "You are a SQLite expert. Given an input question, first create a syntactically correct SQLite query to run, then look at the results of the query and return the answer to the input question.\n",
            "Unless the user specifies in the question a specific number of examples to obtain, query for at most 5 results using the LIMIT clause as per SQLite. You can order the results to return the most informative data in the database.\n",
            "Never query for all columns from a table. You must query only the columns that are needed to answer the question. Wrap each column name in double quotes (\") to denote them as delimited identifiers.\n",
            "Pay attention to use only the column names you can see in the tables below. Be careful to not query for columns that do not exist. Also, pay attention to which column is in which table.\n",
            "Pay attention to use date('now') function to get the current date, if the question involves \"today\".\n",
            "\n",
            "Use the following format:\n",
            "\n",
            "Question: Question here\n",
            "SQLQuery: SQL Query to run\n",
            "SQLResult: Result of the SQLQuery\n",
            "Answer: Final answer here\n",
            "\n",
            "Only use the following tables:\n",
            "\u001b[33;1m\u001b[1;3m{table_info}\u001b[0m\n",
            "\n",
            "Question: \u001b[33;1m\u001b[1;3m{input}\u001b[0m\n"
          ]
        }
      ]
    },
    {
      "cell_type": "code",
      "source": [
        "# extend the chain by adding 2nd prompt\n",
        "from langchain_core.output_parsers import StrOutputParser\n",
        "from langchain_core.prompts import ChatPromptTemplate\n",
        "\n",
        "system = \"\"\"Double check the user's {dialect} query for common mistakes, including:\n",
        " - Using NOT IN with NULL values\n",
        " - Using UNION when UNION ALL should have been used\n",
        " - Using BETWEEN for exclusive ranges\n",
        " - Data type mismatch in predicates\n",
        " - Properly quoting identifiers\n",
        " - Using the correct number of arguments for functions\n",
        " - Casting to the correct data type\n",
        " - Using the proper columns for joins\n",
        " - Clarify which column belong to which table in a join query\n",
        "\n",
        "If there are any of the above mistakes, rewrite the query.\n",
        "If there are no mistakes, just reproduce the original query with no further comentary\n",
        "\n",
        "Output the final SQL query only.\n",
        "DO NOT output any markdown type text string.\"\"\"\n",
        "\n",
        "prompt = ChatPromptTemplate.from_messages(\n",
        "    [(\"system\", system), (\"human\", \"{query}\")]\n",
        ").partial(dialect=db.dialect)\n",
        "\n",
        "validation_chain = prompt | llm | StrOutputParser()\n",
        "\n",
        "full_chain = {\"query\": chain} | validation_chain"
      ],
      "metadata": {
        "id": "ExY7ibze_4qE"
      },
      "execution_count": 41,
      "outputs": []
    },
    {
      "cell_type": "code",
      "source": [
        "query = full_chain.invoke({\"question\": \"What's the average Invoice from an American customer whose Fax is missing since 2003 but before 2010\"})\n",
        "print(query)"
      ],
      "metadata": {
        "colab": {
          "base_uri": "https://localhost:8080/"
        },
        "id": "e-FqBY4b4V2d",
        "outputId": "af76852f-e5ad-42c0-d243-df0ea3d85b7a"
      },
      "execution_count": 42,
      "outputs": [
        {
          "output_type": "stream",
          "name": "stdout",
          "text": [
            "SELECT AVG(\"Total\") AS \"AverageInvoice\"\n",
            "FROM \"Invoice\" AS inv\n",
            "JOIN \"Customer\" AS cust ON inv.\"CustomerId\" = cust.\"CustomerId\"\n",
            "WHERE cust.\"Country\" = 'USA'\n",
            "AND cust.\"Fax\" IS NULL\n",
            "AND inv.\"InvoiceDate\" >= '2003-01-01' \n",
            "AND inv.\"InvoiceDate\" < '2010-01-01'\n",
            "LIMIT 5;\n"
          ]
        }
      ]
    },
    {
      "cell_type": "code",
      "source": [
        "db.run(query)"
      ],
      "metadata": {
        "colab": {
          "base_uri": "https://localhost:8080/",
          "height": 35
        },
        "id": "KJ5OfONX4faf",
        "outputId": "9ea2244b-8e2f-42ec-8930-d0953c557160"
      },
      "execution_count": 43,
      "outputs": [
        {
          "output_type": "execute_result",
          "data": {
            "text/plain": [
              "'[(None,)]'"
            ],
            "application/vnd.google.colaboratory.intrinsic+json": {
              "type": "string"
            }
          },
          "metadata": {},
          "execution_count": 43
        }
      ]
    },
    {
      "cell_type": "markdown",
      "source": [
        "- One llm call: create query and check in one prompt"
      ],
      "metadata": {
        "id": "a02fw-gQ8RbE"
      }
    },
    {
      "cell_type": "code",
      "source": [
        "system = \"\"\"You are a {dialect} expert. Given an input question, create a syntactically correct {dialect} query to run.\n",
        "Unless the user specifies in the question a specific number of examples to obtain, query for at most {top_k} results using the LIMIT clause as per {dialect}. You can order the results to return the most informative data in the database.\n",
        "Never query for all columns from a table. You must query only the columns that are needed to answer the question. Wrap each column name in double quotes (\") to denote them as delimited identifiers.\n",
        "Pay attention to use only the column names you can see in the tables below. Be careful to not query for columns that do not exist. Also, pay attention to which column is in which table.\n",
        "Pay attention to use date('now') function to get the current date, if the question involves \"today\".\n",
        "\n",
        "Only use the following tables:\n",
        "{table_info}\n",
        "\n",
        "Write an initial draft of the query. Then double check the {dialect} query for common mistakes, including:\n",
        "- Using NOT IN with NULL values\n",
        "- Using UNION when UNION ALL should have been used\n",
        "- Using BETWEEN for exclusive ranges\n",
        "- Data type mismatch in predicates\n",
        "- Properly quoting identifiers\n",
        "- Using the correct number of arguments for functions\n",
        "- Casting to the correct data type\n",
        "- Using the proper columns for joins\n",
        "- Do not output markdown-type text\n",
        "\n",
        "Use format:\n",
        "\n",
        "First draft: <<FIRST_DRAFT_QUERY>>\n",
        "Final answer: <<FINAL_ANSWER_QUERY>>\n",
        "\"\"\"\n",
        "prompt = ChatPromptTemplate.from_messages(\n",
        "    [(\"system\", system), (\"human\", \"{input}\")]\n",
        ").partial(dialect=db.dialect)\n",
        "\n",
        "\n",
        "def parse_final_answer(output: str) -> str:\n",
        "    return output.split(\"Final answer: \")[1]\n",
        "\n",
        "\n",
        "chain = create_sql_query_chain(llm, db, prompt=prompt) | parse_final_answer\n",
        "prompt.pretty_print()"
      ],
      "metadata": {
        "colab": {
          "base_uri": "https://localhost:8080/"
        },
        "id": "21svXIE06mxp",
        "outputId": "67bd2d66-96b9-4fa5-e5e6-620b0fe53197"
      },
      "execution_count": 46,
      "outputs": [
        {
          "output_type": "stream",
          "name": "stdout",
          "text": [
            "================================\u001b[1m System Message \u001b[0m================================\n",
            "\n",
            "You are a \u001b[33;1m\u001b[1;3m{dialect}\u001b[0m expert. Given an input question, create a syntactically correct \u001b[33;1m\u001b[1;3m{dialect}\u001b[0m query to run.\n",
            "Unless the user specifies in the question a specific number of examples to obtain, query for at most \u001b[33;1m\u001b[1;3m{top_k}\u001b[0m results using the LIMIT clause as per \u001b[33;1m\u001b[1;3m{dialect}\u001b[0m. You can order the results to return the most informative data in the database.\n",
            "Never query for all columns from a table. You must query only the columns that are needed to answer the question. Wrap each column name in double quotes (\") to denote them as delimited identifiers.\n",
            "Pay attention to use only the column names you can see in the tables below. Be careful to not query for columns that do not exist. Also, pay attention to which column is in which table.\n",
            "Pay attention to use date('now') function to get the current date, if the question involves \"today\".\n",
            "\n",
            "Only use the following tables:\n",
            "\u001b[33;1m\u001b[1;3m{table_info}\u001b[0m\n",
            "\n",
            "Write an initial draft of the query. Then double check the \u001b[33;1m\u001b[1;3m{dialect}\u001b[0m query for common mistakes, including:\n",
            "- Using NOT IN with NULL values\n",
            "- Using UNION when UNION ALL should have been used\n",
            "- Using BETWEEN for exclusive ranges\n",
            "- Data type mismatch in predicates\n",
            "- Properly quoting identifiers\n",
            "- Using the correct number of arguments for functions\n",
            "- Casting to the correct data type\n",
            "- Using the proper columns for joins\n",
            "- Do not output markdown-type text\n",
            "\n",
            "Use format:\n",
            "\n",
            "First draft: <<FIRST_DRAFT_QUERY>>\n",
            "Final answer: <<FINAL_ANSWER_QUERY>>\n",
            "\n",
            "\n",
            "================================\u001b[1m Human Message \u001b[0m=================================\n",
            "\n",
            "\u001b[33;1m\u001b[1;3m{input}\u001b[0m\n"
          ]
        }
      ]
    },
    {
      "cell_type": "code",
      "source": [
        "query = chain.invoke(\n",
        "    {\n",
        "        \"question\": \"What's the average Invoice from an American customer whose Fax is missing since 2003 but before 2010\"\n",
        "    }\n",
        ")\n",
        "print(query)"
      ],
      "metadata": {
        "colab": {
          "base_uri": "https://localhost:8080/"
        },
        "id": "aDU0YVJu8eui",
        "outputId": "91ca7554-f6c4-4a6c-9304-12431df7c10b"
      },
      "execution_count": 47,
      "outputs": [
        {
          "output_type": "stream",
          "name": "stdout",
          "text": [
            "SELECT AVG(\"Total\") AS \"AverageInvoice\" FROM \"Invoice\" INNER JOIN \"Customer\" ON \"Invoice\".\"CustomerId\" = \"Customer\".\"CustomerId\" WHERE \"Customer\".\"Fax\" IS NULL AND \"Invoice\".\"InvoiceDate\" >= '2003-01-01' AND \"Invoice\".\"InvoiceDate\" < '2010-01-01' AND \"Customer\".\"Country\" = 'United States';\n"
          ]
        }
      ]
    },
    {
      "cell_type": "code",
      "source": [
        "db.run(query)"
      ],
      "metadata": {
        "colab": {
          "base_uri": "https://localhost:8080/",
          "height": 35
        },
        "id": "nBXNZj_a8iq8",
        "outputId": "9813c082-2b7d-44bb-8ceb-4c91122c48d0"
      },
      "execution_count": 48,
      "outputs": [
        {
          "output_type": "execute_result",
          "data": {
            "text/plain": [
              "'[(None,)]'"
            ],
            "application/vnd.google.colaboratory.intrinsic+json": {
              "type": "string"
            }
          },
          "metadata": {},
          "execution_count": 48
        }
      ]
    },
    {
      "cell_type": "code",
      "source": [],
      "metadata": {
        "id": "z-Pez_YF8rlm"
      },
      "execution_count": null,
      "outputs": []
    }
  ]
}